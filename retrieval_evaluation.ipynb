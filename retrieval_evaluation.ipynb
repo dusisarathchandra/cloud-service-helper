{
 "cells": [
  {
   "cell_type": "code",
   "execution_count": 44,
   "metadata": {},
   "outputs": [],
   "source": [
    "import pandas as pd\n",
    "import hashlib, json"
   ]
  },
  {
   "cell_type": "code",
   "execution_count": 45,
   "metadata": {},
   "outputs": [],
   "source": [
    "df = pd.read_csv('./data/Cloud_Provider_Services.csv')"
   ]
  },
  {
   "cell_type": "code",
   "execution_count": 46,
   "metadata": {},
   "outputs": [
    {
     "data": {
      "text/html": [
       "<div>\n",
       "<style scoped>\n",
       "    .dataframe tbody tr th:only-of-type {\n",
       "        vertical-align: middle;\n",
       "    }\n",
       "\n",
       "    .dataframe tbody tr th {\n",
       "        vertical-align: top;\n",
       "    }\n",
       "\n",
       "    .dataframe thead th {\n",
       "        text-align: right;\n",
       "    }\n",
       "</style>\n",
       "<table border=\"1\" class=\"dataframe\">\n",
       "  <thead>\n",
       "    <tr style=\"text-align: right;\">\n",
       "      <th></th>\n",
       "      <th>cloud_provider</th>\n",
       "      <th>category</th>\n",
       "      <th>service</th>\n",
       "      <th>description</th>\n",
       "    </tr>\n",
       "  </thead>\n",
       "  <tbody>\n",
       "    <tr>\n",
       "      <th>0</th>\n",
       "      <td>aws</td>\n",
       "      <td>Analytics</td>\n",
       "      <td>Amazon Athena</td>\n",
       "      <td>An interactive query service that makes it eas...</td>\n",
       "    </tr>\n",
       "    <tr>\n",
       "      <th>1</th>\n",
       "      <td>aws</td>\n",
       "      <td>Analytics</td>\n",
       "      <td>Amazon CloudSearch</td>\n",
       "      <td>A managed service in the AWS Cloud that makes ...</td>\n",
       "    </tr>\n",
       "    <tr>\n",
       "      <th>2</th>\n",
       "      <td>aws</td>\n",
       "      <td>Analytics</td>\n",
       "      <td>Amazon Elastic MapReduce</td>\n",
       "      <td>A web service that makes it easy to process la...</td>\n",
       "    </tr>\n",
       "    <tr>\n",
       "      <th>3</th>\n",
       "      <td>aws</td>\n",
       "      <td>Analytics</td>\n",
       "      <td>Amazon Elasticsearch Service</td>\n",
       "      <td>A managed service that makes it easy to deploy...</td>\n",
       "    </tr>\n",
       "    <tr>\n",
       "      <th>4</th>\n",
       "      <td>aws</td>\n",
       "      <td>Analytics</td>\n",
       "      <td>Amazon EMR</td>\n",
       "      <td>A cloud big data platform for processing vast ...</td>\n",
       "    </tr>\n",
       "  </tbody>\n",
       "</table>\n",
       "</div>"
      ],
      "text/plain": [
       "  cloud_provider   category                       service  \\\n",
       "0            aws  Analytics                 Amazon Athena   \n",
       "1            aws  Analytics            Amazon CloudSearch   \n",
       "2            aws  Analytics      Amazon Elastic MapReduce   \n",
       "3            aws  Analytics  Amazon Elasticsearch Service   \n",
       "4            aws  Analytics                    Amazon EMR   \n",
       "\n",
       "                                         description  \n",
       "0  An interactive query service that makes it eas...  \n",
       "1  A managed service in the AWS Cloud that makes ...  \n",
       "2  A web service that makes it easy to process la...  \n",
       "3  A managed service that makes it easy to deploy...  \n",
       "4  A cloud big data platform for processing vast ...  "
      ]
     },
     "execution_count": 46,
     "metadata": {},
     "output_type": "execute_result"
    }
   ],
   "source": [
    "df.head()"
   ]
  },
  {
   "cell_type": "code",
   "execution_count": 47,
   "metadata": {},
   "outputs": [
    {
     "data": {
      "text/html": [
       "<div>\n",
       "<style scoped>\n",
       "    .dataframe tbody tr th:only-of-type {\n",
       "        vertical-align: middle;\n",
       "    }\n",
       "\n",
       "    .dataframe tbody tr th {\n",
       "        vertical-align: top;\n",
       "    }\n",
       "\n",
       "    .dataframe thead th {\n",
       "        text-align: right;\n",
       "    }\n",
       "</style>\n",
       "<table border=\"1\" class=\"dataframe\">\n",
       "  <thead>\n",
       "    <tr style=\"text-align: right;\">\n",
       "      <th></th>\n",
       "      <th>cloud_provider</th>\n",
       "      <th>category</th>\n",
       "      <th>service</th>\n",
       "      <th>description</th>\n",
       "      <th>id</th>\n",
       "    </tr>\n",
       "  </thead>\n",
       "  <tbody>\n",
       "    <tr>\n",
       "      <th>0</th>\n",
       "      <td>aws</td>\n",
       "      <td>Analytics</td>\n",
       "      <td>Amazon Athena</td>\n",
       "      <td>An interactive query service that makes it eas...</td>\n",
       "      <td>95825a76</td>\n",
       "    </tr>\n",
       "    <tr>\n",
       "      <th>1</th>\n",
       "      <td>aws</td>\n",
       "      <td>Analytics</td>\n",
       "      <td>Amazon CloudSearch</td>\n",
       "      <td>A managed service in the AWS Cloud that makes ...</td>\n",
       "      <td>4d78b518</td>\n",
       "    </tr>\n",
       "    <tr>\n",
       "      <th>2</th>\n",
       "      <td>aws</td>\n",
       "      <td>Analytics</td>\n",
       "      <td>Amazon Elastic MapReduce</td>\n",
       "      <td>A web service that makes it easy to process la...</td>\n",
       "      <td>1f41d3e8</td>\n",
       "    </tr>\n",
       "    <tr>\n",
       "      <th>3</th>\n",
       "      <td>aws</td>\n",
       "      <td>Analytics</td>\n",
       "      <td>Amazon Elasticsearch Service</td>\n",
       "      <td>A managed service that makes it easy to deploy...</td>\n",
       "      <td>cd65ebc2</td>\n",
       "    </tr>\n",
       "    <tr>\n",
       "      <th>4</th>\n",
       "      <td>aws</td>\n",
       "      <td>Analytics</td>\n",
       "      <td>Amazon EMR</td>\n",
       "      <td>A cloud big data platform for processing vast ...</td>\n",
       "      <td>65e1ebb7</td>\n",
       "    </tr>\n",
       "  </tbody>\n",
       "</table>\n",
       "</div>"
      ],
      "text/plain": [
       "  cloud_provider   category                       service  \\\n",
       "0            aws  Analytics                 Amazon Athena   \n",
       "1            aws  Analytics            Amazon CloudSearch   \n",
       "2            aws  Analytics      Amazon Elastic MapReduce   \n",
       "3            aws  Analytics  Amazon Elasticsearch Service   \n",
       "4            aws  Analytics                    Amazon EMR   \n",
       "\n",
       "                                         description        id  \n",
       "0  An interactive query service that makes it eas...  95825a76  \n",
       "1  A managed service in the AWS Cloud that makes ...  4d78b518  \n",
       "2  A web service that makes it easy to process la...  1f41d3e8  \n",
       "3  A managed service that makes it easy to deploy...  cd65ebc2  \n",
       "4  A cloud big data platform for processing vast ...  65e1ebb7  "
      ]
     },
     "execution_count": 47,
     "metadata": {},
     "output_type": "execute_result"
    }
   ],
   "source": [
    "def generate_hash_key(description, category, service, provider):\n",
    "    # Concatenate the input parameters\n",
    "    concatenated_string = f\"{description}-{category}-{service}-{provider}\"\n",
    "    \n",
    "    # Generate MD5 hash of the concatenated string\n",
    "    hash_object = hashlib.md5(concatenated_string.encode())\n",
    "    \n",
    "    # Convert the hash to a hexadecimal string and truncate to 8 characters\n",
    "    hash_key = hash_object.hexdigest()[:8]\n",
    "    \n",
    "    return hash_key\n",
    "\n",
    "# Apply the generate_hash_key function to each row\n",
    "df['id'] = df.apply(lambda row: generate_hash_key(row['description'], row['category'], row['service'], row[\"cloud_provider\"]), axis=1)\n",
    "df.head()"
   ]
  },
  {
   "cell_type": "code",
   "execution_count": 48,
   "metadata": {},
   "outputs": [
    {
     "data": {
      "text/plain": [
       "(1302, 1302)"
      ]
     },
     "execution_count": 48,
     "metadata": {},
     "output_type": "execute_result"
    }
   ],
   "source": [
    "from collections import defaultdict\n",
    "hashes = defaultdict(list)\n",
    "for index, row in df.iterrows():\n",
    "    hashes[row['id']].append(row)\n",
    "len(hashes), len(df)"
   ]
  },
  {
   "cell_type": "code",
   "execution_count": 49,
   "metadata": {},
   "outputs": [],
   "source": [
    "for k, v in hashes.items():\n",
    "    if len(v) > 1:\n",
    "        print(k, len(v))"
   ]
  },
  {
   "cell_type": "code",
   "execution_count": 50,
   "metadata": {},
   "outputs": [
    {
     "data": {
      "text/html": [
       "<div>\n",
       "<style scoped>\n",
       "    .dataframe tbody tr th:only-of-type {\n",
       "        vertical-align: middle;\n",
       "    }\n",
       "\n",
       "    .dataframe tbody tr th {\n",
       "        vertical-align: top;\n",
       "    }\n",
       "\n",
       "    .dataframe thead th {\n",
       "        text-align: right;\n",
       "    }\n",
       "</style>\n",
       "<table border=\"1\" class=\"dataframe\">\n",
       "  <thead>\n",
       "    <tr style=\"text-align: right;\">\n",
       "      <th></th>\n",
       "      <th>cloud_provider</th>\n",
       "      <th>category</th>\n",
       "      <th>service</th>\n",
       "      <th>description</th>\n",
       "      <th>id</th>\n",
       "    </tr>\n",
       "  </thead>\n",
       "  <tbody>\n",
       "    <tr>\n",
       "      <th>0</th>\n",
       "      <td>aws</td>\n",
       "      <td>Analytics</td>\n",
       "      <td>Amazon Athena</td>\n",
       "      <td>An interactive query service that makes it eas...</td>\n",
       "      <td>95825a76</td>\n",
       "    </tr>\n",
       "    <tr>\n",
       "      <th>1</th>\n",
       "      <td>aws</td>\n",
       "      <td>Analytics</td>\n",
       "      <td>Amazon CloudSearch</td>\n",
       "      <td>A managed service in the AWS Cloud that makes ...</td>\n",
       "      <td>4d78b518</td>\n",
       "    </tr>\n",
       "    <tr>\n",
       "      <th>2</th>\n",
       "      <td>aws</td>\n",
       "      <td>Analytics</td>\n",
       "      <td>Amazon Elastic MapReduce</td>\n",
       "      <td>A web service that makes it easy to process la...</td>\n",
       "      <td>1f41d3e8</td>\n",
       "    </tr>\n",
       "    <tr>\n",
       "      <th>3</th>\n",
       "      <td>aws</td>\n",
       "      <td>Analytics</td>\n",
       "      <td>Amazon Elasticsearch Service</td>\n",
       "      <td>A managed service that makes it easy to deploy...</td>\n",
       "      <td>cd65ebc2</td>\n",
       "    </tr>\n",
       "    <tr>\n",
       "      <th>4</th>\n",
       "      <td>aws</td>\n",
       "      <td>Analytics</td>\n",
       "      <td>Amazon EMR</td>\n",
       "      <td>A cloud big data platform for processing vast ...</td>\n",
       "      <td>65e1ebb7</td>\n",
       "    </tr>\n",
       "  </tbody>\n",
       "</table>\n",
       "</div>"
      ],
      "text/plain": [
       "  cloud_provider   category                       service  \\\n",
       "0            aws  Analytics                 Amazon Athena   \n",
       "1            aws  Analytics            Amazon CloudSearch   \n",
       "2            aws  Analytics      Amazon Elastic MapReduce   \n",
       "3            aws  Analytics  Amazon Elasticsearch Service   \n",
       "4            aws  Analytics                    Amazon EMR   \n",
       "\n",
       "                                         description        id  \n",
       "0  An interactive query service that makes it eas...  95825a76  \n",
       "1  A managed service in the AWS Cloud that makes ...  4d78b518  \n",
       "2  A web service that makes it easy to process la...  1f41d3e8  \n",
       "3  A managed service that makes it easy to deploy...  cd65ebc2  \n",
       "4  A cloud big data platform for processing vast ...  65e1ebb7  "
      ]
     },
     "execution_count": 50,
     "metadata": {},
     "output_type": "execute_result"
    }
   ],
   "source": [
    "df.head()"
   ]
  },
  {
   "cell_type": "code",
   "execution_count": 51,
   "metadata": {},
   "outputs": [],
   "source": [
    "# Drop the 'Unnamed: 0' column if it exists\n",
    "if 'Unnamed: 0' in df.columns:\n",
    "    df = df.drop(columns=['Unnamed: 0'])\n",
    "\n",
    "# Save the DataFrame to a CSV file without the index\n",
    "df.to_csv('./data/Cloud_Provider_Services_Hashed.csv', index=False)"
   ]
  },
  {
   "cell_type": "markdown",
   "metadata": {},
   "source": [
    "### Take 25 random sample to generate ground truth dataset"
   ]
  },
  {
   "cell_type": "code",
   "execution_count": 52,
   "metadata": {},
   "outputs": [],
   "source": [
    "RANDOM_SAMPLE = 25\n",
    "# Load the CSV file into a DataFrame\n",
    "df = pd.read_csv('./data/Cloud_Provider_Services_Hashed.csv')\n",
    "\n",
    "# Select 70 random rows from the DataFrame\n",
    "random_sample = df.sample(n=RANDOM_SAMPLE, random_state=2)\n",
    "\n",
    "# Optionally, save the random sample to a new CSV file\n",
    "random_sample.to_csv('./data/Cloud_Provider_Services_Hashed_random.csv', index=False)"
   ]
  },
  {
   "cell_type": "code",
   "execution_count": 53,
   "metadata": {},
   "outputs": [
    {
     "data": {
      "text/html": [
       "<div>\n",
       "<style scoped>\n",
       "    .dataframe tbody tr th:only-of-type {\n",
       "        vertical-align: middle;\n",
       "    }\n",
       "\n",
       "    .dataframe tbody tr th {\n",
       "        vertical-align: top;\n",
       "    }\n",
       "\n",
       "    .dataframe thead th {\n",
       "        text-align: right;\n",
       "    }\n",
       "</style>\n",
       "<table border=\"1\" class=\"dataframe\">\n",
       "  <thead>\n",
       "    <tr style=\"text-align: right;\">\n",
       "      <th></th>\n",
       "      <th>cloud_provider</th>\n",
       "      <th>category</th>\n",
       "      <th>service</th>\n",
       "      <th>description</th>\n",
       "      <th>id</th>\n",
       "    </tr>\n",
       "  </thead>\n",
       "  <tbody>\n",
       "    <tr>\n",
       "      <th>0</th>\n",
       "      <td>azure</td>\n",
       "      <td>Analytics</td>\n",
       "      <td>Application Insights</td>\n",
       "      <td>Offers application performance management and ...</td>\n",
       "      <td>dbfef36b</td>\n",
       "    </tr>\n",
       "    <tr>\n",
       "      <th>1</th>\n",
       "      <td>gcp</td>\n",
       "      <td>Storage</td>\n",
       "      <td>GCP Cloud Storage</td>\n",
       "      <td>Object storage service.</td>\n",
       "      <td>f4c5d80a</td>\n",
       "    </tr>\n",
       "    <tr>\n",
       "      <th>2</th>\n",
       "      <td>alicloud</td>\n",
       "      <td>Compute</td>\n",
       "      <td>Marketplace</td>\n",
       "      <td>Cloud marketplace</td>\n",
       "      <td>a9fdb68c</td>\n",
       "    </tr>\n",
       "    <tr>\n",
       "      <th>3</th>\n",
       "      <td>gcp</td>\n",
       "      <td>Service</td>\n",
       "      <td>Zync</td>\n",
       "      <td>Video transcoding service.</td>\n",
       "      <td>eddd7cff</td>\n",
       "    </tr>\n",
       "    <tr>\n",
       "      <th>4</th>\n",
       "      <td>ibmcloud</td>\n",
       "      <td>Service</td>\n",
       "      <td>paas_svc_plan_feat_blazemeter</td>\n",
       "      <td>BlazeMeter service for performance testing.</td>\n",
       "      <td>4b630982</td>\n",
       "    </tr>\n",
       "  </tbody>\n",
       "</table>\n",
       "</div>"
      ],
      "text/plain": [
       "  cloud_provider   category                        service  \\\n",
       "0          azure  Analytics           Application Insights   \n",
       "1            gcp    Storage              GCP Cloud Storage   \n",
       "2       alicloud    Compute                    Marketplace   \n",
       "3            gcp    Service                           Zync   \n",
       "4       ibmcloud    Service  paas_svc_plan_feat_blazemeter   \n",
       "\n",
       "                                         description        id  \n",
       "0  Offers application performance management and ...  dbfef36b  \n",
       "1                            Object storage service.  f4c5d80a  \n",
       "2                                  Cloud marketplace  a9fdb68c  \n",
       "3                         Video transcoding service.  eddd7cff  \n",
       "4        BlazeMeter service for performance testing.  4b630982  "
      ]
     },
     "execution_count": 53,
     "metadata": {},
     "output_type": "execute_result"
    }
   ],
   "source": [
    "df = pd.read_csv('./data/Cloud_Provider_Services_Hashed_random.csv')\n",
    "df.head()"
   ]
  },
  {
   "cell_type": "markdown",
   "metadata": {},
   "source": [
    "### Used Github Copilot to generate similar descriptions from the dataset above"
   ]
  },
  {
   "cell_type": "code",
   "execution_count": 54,
   "metadata": {},
   "outputs": [],
   "source": [
    "descriptions = [\n",
    "    (\"Offers application performance management and monitoring.\", \"dbfef36b\"),\n",
    "    (\"Object storage service.\", \"f4c5d80a\"),\n",
    "    (\"Cloud marketplace\", \"a9fdb68c\"),\n",
    "    (\"Video transcoding service.\", \"eddd7cff\"),\n",
    "    (\"BlazeMeter service for performance testing.\", \"4b630982\"),\n",
    "    (\"AI lifecycle management\", \"7defc019\"),\n",
    "    (\"Provides network monitoring and diagnostics.\", \"c1f0f51c\"),\n",
    "    (\"SR-IOV enabled service\", \"01616f46\"),\n",
    "    (\"Bare metal gateway license service\", \"649f8ff7\"),\n",
    "    (\"Scalable object storage\", \"991a00e1\"),\n",
    "    (\"AT&T services\", \"070acbdc\"),\n",
    "    (\"IBM MongoDB is a managed service for deploying MongoDB instances.\", \"7fe00d80\"),\n",
    "    (\"Key management services\", \"646945b4\"),\n",
    "    (\"Network tunnel service\", \"5bb51002\"),\n",
    "    (\"General network service\", \"eccf6aed\"),\n",
    "    (\"Offers petabyte-scale data transport solutions.\", \"7dcc7a26\"),\n",
    "    (\"Infrastructure deployment service.\", \"f2cfccc9\"),\n",
    "    (\"General disk storage\", \"484b96db\"),\n",
    "    (\"Virtual Private Cloud service\", \"0290a242\"),\n",
    "    (\"Cloud integration services\", \"d659ca4a\"),\n",
    "    (\"Offers operational insights workspaces.\", \"d7498c6e\"),\n",
    "    (\"Virtual firewall with threat prevention\", \"d31d2df1\"),\n",
    "    (\"General disk storage\", \"9b232c98\"),\n",
    "    (\"Connect Compose services\", \"9fc2c94f\"),\n",
    "    (\"Reserved instances for SQL databases in Azure.\", \"c6bb737c\")\n",
    "]\n",
    "\n",
    "# Function to generate similar descriptions\n",
    "def generate_similar_descriptions(description):\n",
    "    if description == \"Offers application performance management and monitoring.\":\n",
    "        return [\n",
    "            \"Provides application performance management and monitoring.\",\n",
    "            \"Application performance management and monitoring service.\",\n",
    "            \"Service for managing and monitoring application performance.\",\n",
    "            \"Application performance monitoring and management offered.\",\n",
    "            \"Management and monitoring of application performance.\"\n",
    "        ]\n",
    "    elif description == \"Object storage service.\":\n",
    "        return [\n",
    "            \"Service for object storage.\",\n",
    "            \"Provides object storage.\",\n",
    "            \"Object storage provided.\",\n",
    "            \"Storage service for objects.\",\n",
    "            \"Service offering object storage.\"\n",
    "        ]\n",
    "    elif description == \"Cloud marketplace\":\n",
    "        return [\n",
    "            \"Marketplace for cloud services.\",\n",
    "            \"Cloud services marketplace.\",\n",
    "            \"Platform for cloud marketplace.\",\n",
    "            \"Marketplace offering cloud services.\",\n",
    "            \"Cloud-based marketplace.\"\n",
    "        ]\n",
    "    elif description == \"Video transcoding service.\":\n",
    "        return [\n",
    "            \"Service for video transcoding.\",\n",
    "            \"Provides video transcoding.\",\n",
    "            \"Video transcoding provided.\",\n",
    "            \"Transcoding service for videos.\",\n",
    "            \"Service offering video transcoding.\"\n",
    "        ]\n",
    "    elif description == \"BlazeMeter service for performance testing.\":\n",
    "        return [\n",
    "            \"Performance testing service by BlazeMeter.\",\n",
    "            \"BlazeMeter's performance testing service.\",\n",
    "            \"Service for performance testing by BlazeMeter.\",\n",
    "            \"BlazeMeter performance testing provided.\",\n",
    "            \"Performance testing offered by BlazeMeter.\"\n",
    "        ]\n",
    "    elif description == \"AI lifecycle management\":\n",
    "        return [\n",
    "            \"Management of AI lifecycle.\",\n",
    "            \"AI lifecycle management service.\",\n",
    "            \"Service for managing AI lifecycle.\",\n",
    "            \"Lifecycle management for AI.\",\n",
    "            \"AI lifecycle managed.\"\n",
    "        ]\n",
    "    elif description == \"Provides network monitoring and diagnostics.\":\n",
    "        return [\n",
    "            \"Network monitoring and diagnostics provided.\",\n",
    "            \"Service for network monitoring and diagnostics.\",\n",
    "            \"Monitoring and diagnostics of network provided.\",\n",
    "            \"Network diagnostics and monitoring service.\",\n",
    "            \"Service offering network monitoring and diagnostics.\"\n",
    "        ]\n",
    "    elif description == \"SR-IOV enabled service\":\n",
    "        return [\n",
    "            \"Service enabled with SR-IOV.\",\n",
    "            \"SR-IOV service enabled.\",\n",
    "            \"Enabled SR-IOV service.\",\n",
    "            \"Service with SR-IOV enabled.\",\n",
    "            \"SR-IOV enabled.\"\n",
    "        ]\n",
    "    elif description == \"Bare metal gateway license service\":\n",
    "        return [\n",
    "            \"Service for bare metal gateway license.\",\n",
    "            \"Bare metal gateway license provided.\",\n",
    "            \"License service for bare metal gateway.\",\n",
    "            \"Gateway license service for bare metal.\",\n",
    "            \"Service offering bare metal gateway license.\"\n",
    "        ]\n",
    "    elif description == \"Scalable object storage\":\n",
    "        return [\n",
    "            \"Object storage that is scalable.\",\n",
    "            \"Scalable storage for objects.\",\n",
    "            \"Storage service for scalable objects.\",\n",
    "            \"Provides scalable object storage.\",\n",
    "            \"Service offering scalable object storage.\"\n",
    "        ]\n",
    "    elif description == \"AT&T services\":\n",
    "        return [\n",
    "            \"Services provided by AT&T.\",\n",
    "            \"AT&T provided services.\",\n",
    "            \"Service offerings by AT&T.\",\n",
    "            \"AT&T service offerings.\",\n",
    "            \"Services by AT&T.\"\n",
    "        ]\n",
    "    elif description == \"IBM MongoDB is a managed service for deploying MongoDB instances.\":\n",
    "        return [\n",
    "            \"Managed service by IBM for deploying MongoDB instances.\",\n",
    "            \"IBM's managed service for MongoDB instance deployment.\",\n",
    "            \"Service by IBM for managing and deploying MongoDB instances.\",\n",
    "            \"Deploy MongoDB instances with IBM's managed service.\",\n",
    "            \"IBM offers a managed service for MongoDB instance deployment.\"\n",
    "        ]\n",
    "    elif description == \"Key management services\":\n",
    "        return [\n",
    "            \"Services for key management.\",\n",
    "            \"Key management provided.\",\n",
    "            \"Management services for keys.\",\n",
    "            \"Provides key management services.\",\n",
    "            \"Service offering key management.\"\n",
    "        ]\n",
    "    elif description == \"Network tunnel service\":\n",
    "        return [\n",
    "            \"Service for network tunneling.\",\n",
    "            \"Provides network tunnel service.\",\n",
    "            \"Network tunneling service provided.\",\n",
    "            \"Service offering network tunnels.\",\n",
    "            \"Network tunnel service available.\"\n",
    "        ]\n",
    "    elif description == \"General network service\":\n",
    "        return [\n",
    "            \"Service for general network needs.\",\n",
    "            \"Provides general network services.\",\n",
    "            \"General network services provided.\",\n",
    "            \"Service offering general network solutions.\",\n",
    "            \"General network service available.\"\n",
    "        ]\n",
    "    elif description == \"Offers petabyte-scale data transport solutions.\":\n",
    "        return [\n",
    "            \"Provides petabyte-scale data transport solutions.\",\n",
    "            \"Data transport solutions at petabyte scale offered.\",\n",
    "            \"Service offering petabyte-scale data transport.\",\n",
    "            \"Petabyte-scale data transport solutions provided.\",\n",
    "            \"Solutions for petabyte-scale data transport.\"\n",
    "        ]\n",
    "    elif description == \"Infrastructure deployment service.\":\n",
    "        return [\n",
    "            \"Service for infrastructure deployment.\",\n",
    "            \"Provides infrastructure deployment services.\",\n",
    "            \"Infrastructure deployment service provided.\",\n",
    "            \"Service offering infrastructure deployment.\",\n",
    "            \"Deployment service for infrastructure.\"\n",
    "        ]\n",
    "    elif description == \"General disk storage\":\n",
    "        return [\n",
    "            \"Service for general disk storage.\",\n",
    "            \"Provides general disk storage.\",\n",
    "            \"General disk storage provided.\",\n",
    "            \"Service offering general disk storage.\",\n",
    "            \"General storage for disks.\"\n",
    "        ]\n",
    "    elif description == \"Virtual Private Cloud service\":\n",
    "        return [\n",
    "            \"Service for Virtual Private Cloud.\",\n",
    "            \"Provides Virtual Private Cloud service.\",\n",
    "            \"Virtual Private Cloud service provided.\",\n",
    "            \"Service offering Virtual Private Cloud.\",\n",
    "            \"Virtual Private Cloud available.\"\n",
    "        ]\n",
    "    elif description == \"Cloud integration services\":\n",
    "        return [\n",
    "            \"Services for cloud integration.\",\n",
    "            \"Provides cloud integration services.\",\n",
    "            \"Cloud integration services provided.\",\n",
    "            \"Service offering cloud integration.\",\n",
    "            \"Integration services for cloud.\"\n",
    "        ]\n",
    "    elif description == \"Offers operational insights workspaces.\":\n",
    "        return [\n",
    "            \"Provides operational insights workspaces.\",\n",
    "            \"Operational insights workspaces offered.\",\n",
    "            \"Service offering operational insights workspaces.\",\n",
    "            \"Workspaces for operational insights provided.\",\n",
    "            \"Operational insights workspaces available.\"\n",
    "        ]\n",
    "    elif description == \"Virtual firewall with threat prevention\":\n",
    "        return [\n",
    "            \"Virtual firewall service with threat prevention.\",\n",
    "            \"Provides virtual firewall with threat prevention.\",\n",
    "            \"Service offering virtual firewall with threat prevention.\",\n",
    "            \"Threat prevention with virtual firewall provided.\",\n",
    "            \"Virtual firewall and threat prevention service.\"\n",
    "        ]\n",
    "    elif description == \"Connect Compose services\":\n",
    "        return [\n",
    "            \"Services for Connect Compose.\",\n",
    "            \"Provides Connect Compose services.\",\n",
    "            \"Connect Compose services provided.\",\n",
    "            \"Service offering Connect Compose.\",\n",
    "            \"Connect Compose available.\"\n",
    "        ]\n",
    "    elif description == \"Reserved instances for SQL databases in Azure.\":\n",
    "        return [\n",
    "            \"Reserved instances for SQL databases in Azure provided.\",\n",
    "            \"Provides reserved instances for SQL databases in Azure.\",\n",
    "            \"Service offering reserved instances for SQL databases in Azure.\",\n",
    "            \"Azure reserved instances for SQL databases.\",\n",
    "            \"SQL database reserved instances in Azure.\"\n",
    "        ]\n",
    "\n",
    "# Generate similar descriptions and assign hash keys\n",
    "result = []\n",
    "for description, hash_key in descriptions:\n",
    "    similar_descriptions = generate_similar_descriptions(description)\n",
    "    for desc in similar_descriptions:\n",
    "        result.append({\"description\": desc, \"id\": hash_key})\n",
    "\n",
    "# # Print the results\n",
    "# for item in result:\n",
    "#     print(f\"Description: {item['description']}\\nHash Key: {item['hash_key']}\\n\")\n",
    "df_hash = pd.DataFrame(result)"
   ]
  },
  {
   "cell_type": "code",
   "execution_count": 55,
   "metadata": {},
   "outputs": [
    {
     "data": {
      "text/html": [
       "<div>\n",
       "<style scoped>\n",
       "    .dataframe tbody tr th:only-of-type {\n",
       "        vertical-align: middle;\n",
       "    }\n",
       "\n",
       "    .dataframe tbody tr th {\n",
       "        vertical-align: top;\n",
       "    }\n",
       "\n",
       "    .dataframe thead th {\n",
       "        text-align: right;\n",
       "    }\n",
       "</style>\n",
       "<table border=\"1\" class=\"dataframe\">\n",
       "  <thead>\n",
       "    <tr style=\"text-align: right;\">\n",
       "      <th></th>\n",
       "      <th>description</th>\n",
       "      <th>id</th>\n",
       "    </tr>\n",
       "  </thead>\n",
       "  <tbody>\n",
       "    <tr>\n",
       "      <th>0</th>\n",
       "      <td>Provides application performance management an...</td>\n",
       "      <td>dbfef36b</td>\n",
       "    </tr>\n",
       "    <tr>\n",
       "      <th>1</th>\n",
       "      <td>Application performance management and monitor...</td>\n",
       "      <td>dbfef36b</td>\n",
       "    </tr>\n",
       "    <tr>\n",
       "      <th>2</th>\n",
       "      <td>Service for managing and monitoring applicatio...</td>\n",
       "      <td>dbfef36b</td>\n",
       "    </tr>\n",
       "    <tr>\n",
       "      <th>3</th>\n",
       "      <td>Application performance monitoring and managem...</td>\n",
       "      <td>dbfef36b</td>\n",
       "    </tr>\n",
       "    <tr>\n",
       "      <th>4</th>\n",
       "      <td>Management and monitoring of application perfo...</td>\n",
       "      <td>dbfef36b</td>\n",
       "    </tr>\n",
       "  </tbody>\n",
       "</table>\n",
       "</div>"
      ],
      "text/plain": [
       "                                         description        id\n",
       "0  Provides application performance management an...  dbfef36b\n",
       "1  Application performance management and monitor...  dbfef36b\n",
       "2  Service for managing and monitoring applicatio...  dbfef36b\n",
       "3  Application performance monitoring and managem...  dbfef36b\n",
       "4  Management and monitoring of application perfo...  dbfef36b"
      ]
     },
     "execution_count": 55,
     "metadata": {},
     "output_type": "execute_result"
    }
   ],
   "source": [
    "df_hash.head()"
   ]
  },
  {
   "cell_type": "code",
   "execution_count": 56,
   "metadata": {},
   "outputs": [],
   "source": [
    "doc_index = {d['id'] : d for d in df.to_dict(orient='records')}"
   ]
  },
  {
   "cell_type": "code",
   "execution_count": 57,
   "metadata": {},
   "outputs": [
    {
     "data": {
      "text/plain": [
       "{'dbfef36b': {'cloud_provider': 'azure',\n",
       "  'category': 'Analytics',\n",
       "  'service': 'Application Insights',\n",
       "  'description': 'Offers application performance management and monitoring.',\n",
       "  'id': 'dbfef36b'},\n",
       " 'f4c5d80a': {'cloud_provider': 'gcp',\n",
       "  'category': 'Storage',\n",
       "  'service': 'GCP Cloud Storage',\n",
       "  'description': 'Object storage service.',\n",
       "  'id': 'f4c5d80a'},\n",
       " 'a9fdb68c': {'cloud_provider': 'alicloud',\n",
       "  'category': 'Compute',\n",
       "  'service': 'Marketplace',\n",
       "  'description': 'Cloud marketplace',\n",
       "  'id': 'a9fdb68c'},\n",
       " 'eddd7cff': {'cloud_provider': 'gcp',\n",
       "  'category': 'Service',\n",
       "  'service': 'Zync',\n",
       "  'description': 'Video transcoding service.',\n",
       "  'id': 'eddd7cff'},\n",
       " '4b630982': {'cloud_provider': 'ibmcloud',\n",
       "  'category': 'Service',\n",
       "  'service': 'paas_svc_plan_feat_blazemeter',\n",
       "  'description': 'BlazeMeter service for performance testing.',\n",
       "  'id': '4b630982'},\n",
       " '7defc019': {'cloud_provider': 'ibmcloud',\n",
       "  'category': 'Service',\n",
       "  'service': 'aiopenscale',\n",
       "  'description': 'AI lifecycle management',\n",
       "  'id': '7defc019'},\n",
       " 'c1f0f51c': {'cloud_provider': 'azure',\n",
       "  'category': 'Monitoring',\n",
       "  'service': 'Network Watcher',\n",
       "  'description': 'Provides network monitoring and diagnostics.',\n",
       "  'id': 'c1f0f51c'},\n",
       " '01616f46': {'cloud_provider': 'ibmcloud',\n",
       "  'category': 'Network',\n",
       "  'service': 'sriov_enabled',\n",
       "  'description': 'SR-IOV enabled service',\n",
       "  'id': '01616f46'},\n",
       " '649f8ff7': {'cloud_provider': 'ibmcloud',\n",
       "  'category': 'License',\n",
       "  'service': 'bare_metal_gateway_license',\n",
       "  'description': 'Bare metal gateway license service',\n",
       "  'id': '649f8ff7'},\n",
       " '991a00e1': {'cloud_provider': 'ibmcloud',\n",
       "  'category': 'Storage',\n",
       "  'service': 'object_storage',\n",
       "  'description': 'Scalable object storage',\n",
       "  'id': '991a00e1'},\n",
       " '070acbdc': {'cloud_provider': 'ibmcloud',\n",
       "  'category': 'Service',\n",
       "  'service': 'paas_svc_plan_att',\n",
       "  'description': 'AT&T services',\n",
       "  'id': '070acbdc'},\n",
       " '7fe00d80': {'cloud_provider': 'ibmcloud',\n",
       "  'category': 'Service',\n",
       "  'service': 'paas_svc_plan_mongodb',\n",
       "  'description': 'IBM MongoDB is a managed service for deploying MongoDB instances.',\n",
       "  'id': '7fe00d80'},\n",
       " '646945b4': {'cloud_provider': 'ibmcloud',\n",
       "  'category': 'Security',\n",
       "  'service': 'key',\n",
       "  'description': 'Key management services',\n",
       "  'id': '646945b4'},\n",
       " '5bb51002': {'cloud_provider': 'ibmcloud',\n",
       "  'category': 'Network',\n",
       "  'service': 'network_tunnel',\n",
       "  'description': 'Network tunnel service',\n",
       "  'id': '5bb51002'},\n",
       " 'eccf6aed': {'cloud_provider': 'ibmcloud',\n",
       "  'category': 'Network',\n",
       "  'service': 'Network',\n",
       "  'description': 'General network service',\n",
       "  'id': 'eccf6aed'},\n",
       " '7dcc7a26': {'cloud_provider': 'aws',\n",
       "  'category': 'Storage',\n",
       "  'service': 'AWS Snowball',\n",
       "  'description': 'Offers petabyte-scale data transport solutions.',\n",
       "  'id': '7dcc7a26'},\n",
       " 'f2cfccc9': {'cloud_provider': 'gcp',\n",
       "  'category': 'Compute',\n",
       "  'service': 'Deployment Manager',\n",
       "  'description': 'Infrastructure deployment service.',\n",
       "  'id': 'f2cfccc9'},\n",
       " '484b96db': {'cloud_provider': 'ibmcloud',\n",
       "  'category': 'Storage',\n",
       "  'service': 'disk22',\n",
       "  'description': 'General disk storage',\n",
       "  'id': '484b96db'},\n",
       " '0290a242': {'cloud_provider': 'ibmcloud',\n",
       "  'category': 'Network',\n",
       "  'service': 'Virtual Private Cloud',\n",
       "  'description': 'Virtual Private Cloud service',\n",
       "  'id': '0290a242'},\n",
       " 'd659ca4a': {'cloud_provider': 'ibmcloud',\n",
       "  'category': 'Service',\n",
       "  'service': 'paas_svc_plan_cloud_integration',\n",
       "  'description': 'Cloud integration services',\n",
       "  'id': 'd659ca4a'},\n",
       " 'd7498c6e': {'cloud_provider': 'azure',\n",
       "  'category': 'Analytics',\n",
       "  'service': 'microsoft.operationalinsights/workspaces',\n",
       "  'description': 'Offers operational insights workspaces.',\n",
       "  'id': 'd7498c6e'},\n",
       " 'd31d2df1': {'cloud_provider': 'aws',\n",
       "  'category': 'Security',\n",
       "  'service': 'VM-Series Virtual NextGen Firewall w/ Threat Prevention - Bundle1 AWS',\n",
       "  'description': 'Virtual firewall with threat prevention',\n",
       "  'id': 'd31d2df1'},\n",
       " '9b232c98': {'cloud_provider': 'ibmcloud',\n",
       "  'category': 'Storage',\n",
       "  'service': 'disk97',\n",
       "  'description': 'General disk storage',\n",
       "  'id': '9b232c98'},\n",
       " '9fc2c94f': {'cloud_provider': 'ibmcloud',\n",
       "  'category': 'Service',\n",
       "  'service': 'paas_svc_plan_connect_compose',\n",
       "  'description': 'Connect Compose services',\n",
       "  'id': '9fc2c94f'},\n",
       " 'c6bb737c': {'cloud_provider': 'azure',\n",
       "  'category': 'Database Reserved',\n",
       "  'service': 'Azure RI SQL Database',\n",
       "  'description': 'Reserved instances for SQL databases in Azure.',\n",
       "  'id': 'c6bb737c'}}"
      ]
     },
     "execution_count": 57,
     "metadata": {},
     "output_type": "execute_result"
    }
   ],
   "source": [
    "doc_index"
   ]
  },
  {
   "cell_type": "code",
   "execution_count": 58,
   "metadata": {},
   "outputs": [
    {
     "data": {
      "text/plain": [
       "[{'description': 'Provides application performance management and monitoring.',\n",
       "  'category': 'Analytics',\n",
       "  'service': 'Application Insights',\n",
       "  'cloud_provider': 'azure',\n",
       "  'id': 'dbfef36b'},\n",
       " {'description': 'Application performance management and monitoring service.',\n",
       "  'category': 'Analytics',\n",
       "  'service': 'Application Insights',\n",
       "  'cloud_provider': 'azure',\n",
       "  'id': 'dbfef36b'},\n",
       " {'description': 'Service for managing and monitoring application performance.',\n",
       "  'category': 'Analytics',\n",
       "  'service': 'Application Insights',\n",
       "  'cloud_provider': 'azure',\n",
       "  'id': 'dbfef36b'},\n",
       " {'description': 'Application performance monitoring and management offered.',\n",
       "  'category': 'Analytics',\n",
       "  'service': 'Application Insights',\n",
       "  'cloud_provider': 'azure',\n",
       "  'id': 'dbfef36b'},\n",
       " {'description': 'Management and monitoring of application performance.',\n",
       "  'category': 'Analytics',\n",
       "  'service': 'Application Insights',\n",
       "  'cloud_provider': 'azure',\n",
       "  'id': 'dbfef36b'},\n",
       " {'description': 'Service for object storage.',\n",
       "  'category': 'Storage',\n",
       "  'service': 'GCP Cloud Storage',\n",
       "  'cloud_provider': 'gcp',\n",
       "  'id': 'f4c5d80a'},\n",
       " {'description': 'Provides object storage.',\n",
       "  'category': 'Storage',\n",
       "  'service': 'GCP Cloud Storage',\n",
       "  'cloud_provider': 'gcp',\n",
       "  'id': 'f4c5d80a'},\n",
       " {'description': 'Object storage provided.',\n",
       "  'category': 'Storage',\n",
       "  'service': 'GCP Cloud Storage',\n",
       "  'cloud_provider': 'gcp',\n",
       "  'id': 'f4c5d80a'}]"
      ]
     },
     "execution_count": 58,
     "metadata": {},
     "output_type": "execute_result"
    }
   ],
   "source": [
    "final_result = []\n",
    "for index, row in df_hash.iterrows():\n",
    "    for index2, row2 in df.iterrows():\n",
    "        if row['id'] == row2['id']:\n",
    "            final_result.append({\n",
    "                \"description\": row['description'],\n",
    "                \"category\": row2['category'],\n",
    "                \"service\": row2['service'],\n",
    "                \"cloud_provider\": row2['cloud_provider'],\n",
    "                \"id\": row['id']\n",
    "            })\n",
    "final_result[:8]"
   ]
  },
  {
   "cell_type": "code",
   "execution_count": 59,
   "metadata": {},
   "outputs": [],
   "source": [
    "groud_truth_dataset = pd.DataFrame(final_result, index=None)"
   ]
  },
  {
   "cell_type": "code",
   "execution_count": 60,
   "metadata": {},
   "outputs": [
    {
     "data": {
      "text/html": [
       "<div>\n",
       "<style scoped>\n",
       "    .dataframe tbody tr th:only-of-type {\n",
       "        vertical-align: middle;\n",
       "    }\n",
       "\n",
       "    .dataframe tbody tr th {\n",
       "        vertical-align: top;\n",
       "    }\n",
       "\n",
       "    .dataframe thead th {\n",
       "        text-align: right;\n",
       "    }\n",
       "</style>\n",
       "<table border=\"1\" class=\"dataframe\">\n",
       "  <thead>\n",
       "    <tr style=\"text-align: right;\">\n",
       "      <th></th>\n",
       "      <th>description</th>\n",
       "      <th>category</th>\n",
       "      <th>service</th>\n",
       "      <th>cloud_provider</th>\n",
       "      <th>id</th>\n",
       "    </tr>\n",
       "  </thead>\n",
       "  <tbody>\n",
       "    <tr>\n",
       "      <th>0</th>\n",
       "      <td>Provides application performance management an...</td>\n",
       "      <td>Analytics</td>\n",
       "      <td>Application Insights</td>\n",
       "      <td>azure</td>\n",
       "      <td>dbfef36b</td>\n",
       "    </tr>\n",
       "    <tr>\n",
       "      <th>1</th>\n",
       "      <td>Application performance management and monitor...</td>\n",
       "      <td>Analytics</td>\n",
       "      <td>Application Insights</td>\n",
       "      <td>azure</td>\n",
       "      <td>dbfef36b</td>\n",
       "    </tr>\n",
       "    <tr>\n",
       "      <th>2</th>\n",
       "      <td>Service for managing and monitoring applicatio...</td>\n",
       "      <td>Analytics</td>\n",
       "      <td>Application Insights</td>\n",
       "      <td>azure</td>\n",
       "      <td>dbfef36b</td>\n",
       "    </tr>\n",
       "    <tr>\n",
       "      <th>3</th>\n",
       "      <td>Application performance monitoring and managem...</td>\n",
       "      <td>Analytics</td>\n",
       "      <td>Application Insights</td>\n",
       "      <td>azure</td>\n",
       "      <td>dbfef36b</td>\n",
       "    </tr>\n",
       "    <tr>\n",
       "      <th>4</th>\n",
       "      <td>Management and monitoring of application perfo...</td>\n",
       "      <td>Analytics</td>\n",
       "      <td>Application Insights</td>\n",
       "      <td>azure</td>\n",
       "      <td>dbfef36b</td>\n",
       "    </tr>\n",
       "    <tr>\n",
       "      <th>5</th>\n",
       "      <td>Service for object storage.</td>\n",
       "      <td>Storage</td>\n",
       "      <td>GCP Cloud Storage</td>\n",
       "      <td>gcp</td>\n",
       "      <td>f4c5d80a</td>\n",
       "    </tr>\n",
       "    <tr>\n",
       "      <th>6</th>\n",
       "      <td>Provides object storage.</td>\n",
       "      <td>Storage</td>\n",
       "      <td>GCP Cloud Storage</td>\n",
       "      <td>gcp</td>\n",
       "      <td>f4c5d80a</td>\n",
       "    </tr>\n",
       "    <tr>\n",
       "      <th>7</th>\n",
       "      <td>Object storage provided.</td>\n",
       "      <td>Storage</td>\n",
       "      <td>GCP Cloud Storage</td>\n",
       "      <td>gcp</td>\n",
       "      <td>f4c5d80a</td>\n",
       "    </tr>\n",
       "    <tr>\n",
       "      <th>8</th>\n",
       "      <td>Storage service for objects.</td>\n",
       "      <td>Storage</td>\n",
       "      <td>GCP Cloud Storage</td>\n",
       "      <td>gcp</td>\n",
       "      <td>f4c5d80a</td>\n",
       "    </tr>\n",
       "    <tr>\n",
       "      <th>9</th>\n",
       "      <td>Service offering object storage.</td>\n",
       "      <td>Storage</td>\n",
       "      <td>GCP Cloud Storage</td>\n",
       "      <td>gcp</td>\n",
       "      <td>f4c5d80a</td>\n",
       "    </tr>\n",
       "    <tr>\n",
       "      <th>10</th>\n",
       "      <td>Marketplace for cloud services.</td>\n",
       "      <td>Compute</td>\n",
       "      <td>Marketplace</td>\n",
       "      <td>alicloud</td>\n",
       "      <td>a9fdb68c</td>\n",
       "    </tr>\n",
       "    <tr>\n",
       "      <th>11</th>\n",
       "      <td>Cloud services marketplace.</td>\n",
       "      <td>Compute</td>\n",
       "      <td>Marketplace</td>\n",
       "      <td>alicloud</td>\n",
       "      <td>a9fdb68c</td>\n",
       "    </tr>\n",
       "    <tr>\n",
       "      <th>12</th>\n",
       "      <td>Platform for cloud marketplace.</td>\n",
       "      <td>Compute</td>\n",
       "      <td>Marketplace</td>\n",
       "      <td>alicloud</td>\n",
       "      <td>a9fdb68c</td>\n",
       "    </tr>\n",
       "    <tr>\n",
       "      <th>13</th>\n",
       "      <td>Marketplace offering cloud services.</td>\n",
       "      <td>Compute</td>\n",
       "      <td>Marketplace</td>\n",
       "      <td>alicloud</td>\n",
       "      <td>a9fdb68c</td>\n",
       "    </tr>\n",
       "    <tr>\n",
       "      <th>14</th>\n",
       "      <td>Cloud-based marketplace.</td>\n",
       "      <td>Compute</td>\n",
       "      <td>Marketplace</td>\n",
       "      <td>alicloud</td>\n",
       "      <td>a9fdb68c</td>\n",
       "    </tr>\n",
       "  </tbody>\n",
       "</table>\n",
       "</div>"
      ],
      "text/plain": [
       "                                          description   category  \\\n",
       "0   Provides application performance management an...  Analytics   \n",
       "1   Application performance management and monitor...  Analytics   \n",
       "2   Service for managing and monitoring applicatio...  Analytics   \n",
       "3   Application performance monitoring and managem...  Analytics   \n",
       "4   Management and monitoring of application perfo...  Analytics   \n",
       "5                         Service for object storage.    Storage   \n",
       "6                            Provides object storage.    Storage   \n",
       "7                            Object storage provided.    Storage   \n",
       "8                        Storage service for objects.    Storage   \n",
       "9                    Service offering object storage.    Storage   \n",
       "10                    Marketplace for cloud services.    Compute   \n",
       "11                        Cloud services marketplace.    Compute   \n",
       "12                    Platform for cloud marketplace.    Compute   \n",
       "13               Marketplace offering cloud services.    Compute   \n",
       "14                           Cloud-based marketplace.    Compute   \n",
       "\n",
       "                 service cloud_provider        id  \n",
       "0   Application Insights          azure  dbfef36b  \n",
       "1   Application Insights          azure  dbfef36b  \n",
       "2   Application Insights          azure  dbfef36b  \n",
       "3   Application Insights          azure  dbfef36b  \n",
       "4   Application Insights          azure  dbfef36b  \n",
       "5      GCP Cloud Storage            gcp  f4c5d80a  \n",
       "6      GCP Cloud Storage            gcp  f4c5d80a  \n",
       "7      GCP Cloud Storage            gcp  f4c5d80a  \n",
       "8      GCP Cloud Storage            gcp  f4c5d80a  \n",
       "9      GCP Cloud Storage            gcp  f4c5d80a  \n",
       "10           Marketplace       alicloud  a9fdb68c  \n",
       "11           Marketplace       alicloud  a9fdb68c  \n",
       "12           Marketplace       alicloud  a9fdb68c  \n",
       "13           Marketplace       alicloud  a9fdb68c  \n",
       "14           Marketplace       alicloud  a9fdb68c  "
      ]
     },
     "execution_count": 60,
     "metadata": {},
     "output_type": "execute_result"
    }
   ],
   "source": [
    "groud_truth_dataset.head(15)"
   ]
  },
  {
   "cell_type": "code",
   "execution_count": 61,
   "metadata": {},
   "outputs": [
    {
     "data": {
      "text/plain": [
       "(125, 5)"
      ]
     },
     "execution_count": 61,
     "metadata": {},
     "output_type": "execute_result"
    }
   ],
   "source": [
    "groud_truth_dataset.shape"
   ]
  },
  {
   "cell_type": "markdown",
   "metadata": {},
   "source": [
    "### Dumping the ground truth dataset to a csv file"
   ]
  },
  {
   "cell_type": "code",
   "execution_count": 62,
   "metadata": {},
   "outputs": [],
   "source": [
    "groud_truth_dataset.to_csv('./data/cloud_service_provider_ground_truth_dataset.csv', index=False)"
   ]
  },
  {
   "cell_type": "markdown",
   "metadata": {},
   "source": [
    "## Elastic Search Retrieval\n"
   ]
  },
  {
   "cell_type": "code",
   "execution_count": 63,
   "metadata": {},
   "outputs": [],
   "source": [
    "from elasticsearch import Elasticsearch\n",
    "es_client = Elasticsearch('http://localhost:9200')\n"
   ]
  },
  {
   "cell_type": "code",
   "execution_count": 64,
   "metadata": {},
   "outputs": [
    {
     "data": {
      "text/plain": [
       "ObjectApiResponse({'acknowledged': True, 'shards_acknowledged': True, 'index': 'asset-categories'})"
      ]
     },
     "execution_count": 64,
     "metadata": {},
     "output_type": "execute_result"
    }
   ],
   "source": [
    "index_settings = {\n",
    "    \"settings\": {\n",
    "        \"number_of_shards\": 1,\n",
    "        \"number_of_replicas\": 0\n",
    "    },\n",
    "    \"mappings\": {\n",
    "        \"properties\": {\n",
    "            \"cloud_provider\": {\"type\": \"text\"},\n",
    "            \"category\": {\"type\": \"text\"},\n",
    "            \"service\": {\"type\": \"text\"},\n",
    "            \"description\": {\"type\": \"keyword\"},\n",
    "            \"id\": {\"type\": \"keyword\"}\n",
    "        }\n",
    "    }\n",
    "}\n",
    "index_name = \"asset-categories\"\n",
    "es_client.indices.delete(index=index_name, ignore_unavailable=True)\n",
    "es_client.indices.create(index=index_name, body=index_settings)"
   ]
  },
  {
   "cell_type": "markdown",
   "metadata": {},
   "source": [
    "### Read the original dataset with hashes added"
   ]
  },
  {
   "cell_type": "code",
   "execution_count": 65,
   "metadata": {},
   "outputs": [],
   "source": [
    "df = pd.read_csv('./data/Cloud_Provider_Services_Hashed.csv')"
   ]
  },
  {
   "cell_type": "code",
   "execution_count": 66,
   "metadata": {},
   "outputs": [
    {
     "name": "stderr",
     "output_type": "stream",
     "text": [
      "100%|██████████| 1302/1302 [00:02<00:00, 440.33it/s]\n"
     ]
    }
   ],
   "source": [
    "from tqdm.auto import tqdm\n",
    "for doc in tqdm(df.to_dict(orient='records')):\n",
    "    es_client.index(index=index_name, body=doc, id=doc['id'])"
   ]
  },
  {
   "cell_type": "code",
   "execution_count": 67,
   "metadata": {},
   "outputs": [],
   "source": [
    "def elastic_search(query):\n",
    "    search_query = {\n",
    "        \"size\": 5,\n",
    "        \"query\": {\n",
    "            \"bool\": {\n",
    "                \"must\": {\n",
    "                    \"multi_match\": {\n",
    "                        \"query\": query,\n",
    "                        \"fields\": [\"description^8\", \"category^5\", \"service\", \"cloud_provider\"],\n",
    "                        \"type\": \"best_fields\"\n",
    "                    }\n",
    "                },\n",
    "            }\n",
    "        }\n",
    "    }\n",
    "\n",
    "    response = es_client.search(index=index_name, body=search_query)\n",
    "    \n",
    "    result_docs = []\n",
    "    \n",
    "    for hit in response['hits']['hits']:\n",
    "        result_docs.append(hit['_source'])\n",
    "    \n",
    "    return result_docs"
   ]
  },
  {
   "cell_type": "code",
   "execution_count": 68,
   "metadata": {},
   "outputs": [
    {
     "data": {
      "text/plain": [
       "[{'cloud_provider': 'aws',\n",
       "  'category': 'Service',\n",
       "  'service': 'Amazon Kinesis Video Streams',\n",
       "  'description': 'Video streaming service',\n",
       "  'id': 'cf0ebd85'},\n",
       " {'cloud_provider': 'gcp',\n",
       "  'category': 'Artificial Intelligence',\n",
       "  'service': 'Cloud Video Intelligence API',\n",
       "  'description': 'API for analyzing videos.',\n",
       "  'id': '5785d934'}]"
      ]
     },
     "execution_count": 68,
     "metadata": {},
     "output_type": "execute_result"
    }
   ],
   "source": [
    "query = 'Provides video transcoding.'\n",
    "results = elastic_search(query)\n",
    "results"
   ]
  },
  {
   "cell_type": "code",
   "execution_count": 69,
   "metadata": {},
   "outputs": [
    {
     "name": "stderr",
     "output_type": "stream",
     "text": [
      "100%|██████████| 125/125 [00:00<00:00, 516.18it/s]\n"
     ]
    }
   ],
   "source": [
    "ground_truth = groud_truth_dataset.to_dict(orient='records')\n",
    "relevant_total_results = []\n",
    "relevance = []\n",
    "for q in tqdm(ground_truth):\n",
    "    doc_id = q['id']\n",
    "    query = q['description']\n",
    "    results = elastic_search(query)\n",
    "    relevance = [r['id'] == doc_id for r in results]\n",
    "    relevant_total_results.append(relevance)"
   ]
  },
  {
   "cell_type": "code",
   "execution_count": 70,
   "metadata": {},
   "outputs": [
    {
     "data": {
      "text/plain": [
       "[[False, False, False, False, False],\n",
       " [False, False, False, False, False],\n",
       " [False, False, False, False, False],\n",
       " [False, False, False, False, False],\n",
       " [False, False, False, False, False]]"
      ]
     },
     "execution_count": 70,
     "metadata": {},
     "output_type": "execute_result"
    }
   ],
   "source": [
    "relevant_total_results[:5]"
   ]
  },
  {
   "cell_type": "markdown",
   "metadata": {},
   "source": [
    "### hit_rate"
   ]
  },
  {
   "cell_type": "code",
   "execution_count": 71,
   "metadata": {},
   "outputs": [],
   "source": [
    "def hit_rate(relevant_total_results):\n",
    "    return sum([any(result) for result in relevant_total_results]) / len(relevant_total_results)"
   ]
  },
  {
   "cell_type": "code",
   "execution_count": 72,
   "metadata": {},
   "outputs": [
    {
     "data": {
      "text/plain": [
       "0.28"
      ]
     },
     "execution_count": 72,
     "metadata": {},
     "output_type": "execute_result"
    }
   ],
   "source": [
    "hit_rate(relevant_total_results)"
   ]
  },
  {
   "cell_type": "code",
   "execution_count": 73,
   "metadata": {},
   "outputs": [],
   "source": [
    "def mrr(relevant_total_results):\n",
    "    rr = 0\n",
    "    for result in relevant_total_results:\n",
    "        for i, r in enumerate(result):\n",
    "            if r:\n",
    "                rr += 1 / (i + 1)\n",
    "    return rr / len(relevant_total_results)"
   ]
  },
  {
   "cell_type": "markdown",
   "metadata": {},
   "source": [
    "### MRR"
   ]
  },
  {
   "cell_type": "code",
   "execution_count": 74,
   "metadata": {},
   "outputs": [
    {
     "data": {
      "text/plain": [
       "0.18066666666666664"
      ]
     },
     "execution_count": 74,
     "metadata": {},
     "output_type": "execute_result"
    }
   ],
   "source": [
    "mrr(relevant_total_results)"
   ]
  },
  {
   "cell_type": "markdown",
   "metadata": {},
   "source": [
    "### hit_rate, mrr for elastic_search with ground_truth_data"
   ]
  },
  {
   "cell_type": "code",
   "execution_count": 75,
   "metadata": {},
   "outputs": [
    {
     "data": {
      "text/plain": [
       "(0.28, 0.18066666666666664)"
      ]
     },
     "execution_count": 75,
     "metadata": {},
     "output_type": "execute_result"
    }
   ],
   "source": [
    "hit_rate(relevant_total_results), mrr(relevant_total_results)"
   ]
  },
  {
   "cell_type": "markdown",
   "metadata": {},
   "source": [
    "## Vector Search Evaluation"
   ]
  },
  {
   "cell_type": "code",
   "execution_count": 76,
   "metadata": {},
   "outputs": [
    {
     "name": "stderr",
     "output_type": "stream",
     "text": [
      "  0%|          | 0/125 [00:00<?, ?it/s]\n"
     ]
    },
    {
     "name": "stdout",
     "output_type": "stream",
     "text": [
      "<src.lance_db.lanceDB object at 0x104d65550>\n",
      "Getting context from the table\n",
      "table name: vector_db\n",
      "first 5 data:                                          description  \\\n",
      "0  An interactive query service that makes it eas...   \n",
      "1  A managed service in the AWS Cloud that makes ...   \n",
      "2  A web service that makes it easy to process la...   \n",
      "3  A managed service that makes it easy to deploy...   \n",
      "4  A cloud big data platform for processing vast ...   \n",
      "\n",
      "                                  vector_description cloud_provider  \\\n",
      "0  [0.0004424741, -0.0026784507, -0.121396326, 0....            aws   \n",
      "1  [0.0004424741, -0.0026784507, -0.121396326, 0....            aws   \n",
      "2  [0.0004424741, -0.0026784507, -0.121396326, 0....            aws   \n",
      "3  [0.0004424741, -0.0026784507, -0.121396326, 0....            aws   \n",
      "4  [0.0004424741, -0.0026784507, -0.121396326, 0....            aws   \n",
      "\n",
      "                        service   category        id  \n",
      "0                 Amazon Athena  Analytics  95825a76  \n",
      "1            Amazon CloudSearch  Analytics  4d78b518  \n",
      "2      Amazon Elastic MapReduce  Analytics  1f41d3e8  \n",
      "3  Amazon Elasticsearch Service  Analytics  cd65ebc2  \n",
      "4                    Amazon EMR  Analytics  65e1ebb7  \n",
      "------------------------------------------\n",
      "\n",
      "\n",
      "Working on query: Provides application performance management and monitoring.\n"
     ]
    },
    {
     "ename": "FileNotFoundError",
     "evalue": "Fts index does not exist. Please first call table.create_fts_index(['<field_names>']) to create the fts index.",
     "output_type": "error",
     "traceback": [
      "\u001b[0;31m---------------------------------------------------------------------------\u001b[0m",
      "\u001b[0;31mFileNotFoundError\u001b[0m                         Traceback (most recent call last)",
      "Cell \u001b[0;32mIn[76], line 8\u001b[0m\n\u001b[1;32m      6\u001b[0m doc_id \u001b[38;5;241m=\u001b[39m q[\u001b[38;5;124m'\u001b[39m\u001b[38;5;124mid\u001b[39m\u001b[38;5;124m'\u001b[39m]\n\u001b[1;32m      7\u001b[0m query \u001b[38;5;241m=\u001b[39m q[\u001b[38;5;124m'\u001b[39m\u001b[38;5;124mdescription\u001b[39m\u001b[38;5;124m'\u001b[39m]\n\u001b[0;32m----> 8\u001b[0m results \u001b[38;5;241m=\u001b[39m \u001b[43mRetrieveContext\u001b[49m\u001b[43m(\u001b[49m\u001b[43m)\u001b[49m\u001b[38;5;241;43m.\u001b[39;49m\u001b[43mget_vector_context\u001b[49m\u001b[43m(\u001b[49m\u001b[43mquery\u001b[49m\u001b[43m)\u001b[49m[[\u001b[38;5;124m'\u001b[39m\u001b[38;5;124mdescription\u001b[39m\u001b[38;5;124m'\u001b[39m, \u001b[38;5;124m'\u001b[39m\u001b[38;5;124mcategory\u001b[39m\u001b[38;5;124m'\u001b[39m, \u001b[38;5;124m'\u001b[39m\u001b[38;5;124mservice\u001b[39m\u001b[38;5;124m'\u001b[39m, \u001b[38;5;124m'\u001b[39m\u001b[38;5;124mcloud_provider\u001b[39m\u001b[38;5;124m'\u001b[39m, \u001b[38;5;124m'\u001b[39m\u001b[38;5;124mid\u001b[39m\u001b[38;5;124m'\u001b[39m]]\u001b[38;5;241m.\u001b[39mto_dict(orient\u001b[38;5;241m=\u001b[39m\u001b[38;5;124m'\u001b[39m\u001b[38;5;124mrecords\u001b[39m\u001b[38;5;124m'\u001b[39m)\n\u001b[1;32m      9\u001b[0m relevance_vector_search \u001b[38;5;241m=\u001b[39m [r[\u001b[38;5;124m'\u001b[39m\u001b[38;5;124mid\u001b[39m\u001b[38;5;124m'\u001b[39m] \u001b[38;5;241m==\u001b[39m doc_id \u001b[38;5;28;01mfor\u001b[39;00m r \u001b[38;5;129;01min\u001b[39;00m results]\n\u001b[1;32m     10\u001b[0m relevant_total_results_vector_search\u001b[38;5;241m.\u001b[39mappend(relevance)\n",
      "File \u001b[0;32m~/Documents/Projects/workspaces/zoomcamp-project/cloud-service-helper/retrieval.py:32\u001b[0m, in \u001b[0;36mRetrieveContext.get_vector_context\u001b[0;34m(self, query, top_k, weight)\u001b[0m\n\u001b[1;32m     30\u001b[0m \u001b[38;5;28mprint\u001b[39m(\u001b[38;5;124m'\u001b[39m\u001b[38;5;124m------------------------------------------\u001b[39m\u001b[38;5;124m'\u001b[39m)\n\u001b[1;32m     31\u001b[0m \u001b[38;5;28mprint\u001b[39m(\u001b[38;5;124mf\u001b[39m\u001b[38;5;124m'\u001b[39m\u001b[38;5;130;01m\\n\u001b[39;00m\u001b[38;5;130;01m\\n\u001b[39;00m\u001b[38;5;124mWorking on query: \u001b[39m\u001b[38;5;132;01m{\u001b[39;00mquery\u001b[38;5;132;01m}\u001b[39;00m\u001b[38;5;124m'\u001b[39m)\n\u001b[0;32m---> 32\u001b[0m context_data \u001b[38;5;241m=\u001b[39m \u001b[38;5;28;43mself\u001b[39;49m\u001b[38;5;241;43m.\u001b[39;49m\u001b[43mtable\u001b[49m\u001b[38;5;241;43m.\u001b[39;49m\u001b[43msearch\u001b[49m\u001b[43m(\u001b[49m\n\u001b[1;32m     33\u001b[0m \u001b[43m    \u001b[49m\u001b[43mquery\u001b[49m\u001b[43m,\u001b[49m\n\u001b[1;32m     34\u001b[0m \u001b[43m    \u001b[49m\u001b[43mquery_type\u001b[49m\u001b[38;5;241;43m=\u001b[39;49m\u001b[38;5;124;43m\"\u001b[39;49m\u001b[38;5;124;43mhybrid\u001b[39;49m\u001b[38;5;124;43m\"\u001b[39;49m\u001b[43m,\u001b[49m\u001b[43m \u001b[49m\n\u001b[1;32m     35\u001b[0m \u001b[43m    \u001b[49m\u001b[43mvector_column_name\u001b[49m\u001b[38;5;241;43m=\u001b[39;49m\u001b[43mVECTOR_DB_DICT\u001b[49m\u001b[38;5;241;43m.\u001b[39;49m\u001b[43mget\u001b[49m\u001b[43m(\u001b[49m\u001b[38;5;124;43m'\u001b[39;49m\u001b[38;5;124;43mVECTOR_COLUMN\u001b[39;49m\u001b[38;5;124;43m'\u001b[39;49m\u001b[43m)\u001b[49m\u001b[43m,\u001b[49m\n\u001b[1;32m     36\u001b[0m \u001b[43m\u001b[49m\u001b[43m)\u001b[49m\u001b[38;5;241;43m.\u001b[39;49m\u001b[43mrerank\u001b[49m\u001b[43m(\u001b[49m\u001b[43mreranker\u001b[49m\u001b[38;5;241;43m=\u001b[39;49m\u001b[43mreranker\u001b[49m\u001b[43m)\u001b[49m\u001b[38;5;241;43m.\u001b[39;49m\u001b[43mlimit\u001b[49m\u001b[43m(\u001b[49m\u001b[43mtop_k\u001b[49m\u001b[43m)\u001b[49m\u001b[38;5;241;43m.\u001b[39;49m\u001b[43mto_pandas\u001b[49m\u001b[43m(\u001b[49m\u001b[43m)\u001b[49m\n\u001b[1;32m     37\u001b[0m \u001b[38;5;28;01mreturn\u001b[39;00m context_data\n",
      "File \u001b[0;32m~/Documents/Projects/workspaces/zoomcamp-project/cloud-service-helper/env/lib/python3.9/site-packages/lancedb/query.py:263\u001b[0m, in \u001b[0;36mLanceQueryBuilder.to_pandas\u001b[0;34m(self, flatten)\u001b[0m\n\u001b[1;32m    248\u001b[0m \u001b[38;5;28;01mdef\u001b[39;00m \u001b[38;5;21mto_pandas\u001b[39m(\u001b[38;5;28mself\u001b[39m, flatten: Optional[Union[\u001b[38;5;28mint\u001b[39m, \u001b[38;5;28mbool\u001b[39m]] \u001b[38;5;241m=\u001b[39m \u001b[38;5;28;01mNone\u001b[39;00m) \u001b[38;5;241m-\u001b[39m\u001b[38;5;241m>\u001b[39m \u001b[38;5;124m\"\u001b[39m\u001b[38;5;124mpd.DataFrame\u001b[39m\u001b[38;5;124m\"\u001b[39m:\n\u001b[1;32m    249\u001b[0m \u001b[38;5;250m    \u001b[39m\u001b[38;5;124;03m\"\"\"\u001b[39;00m\n\u001b[1;32m    250\u001b[0m \u001b[38;5;124;03m    Execute the query and return the results as a pandas DataFrame.\u001b[39;00m\n\u001b[1;32m    251\u001b[0m \u001b[38;5;124;03m    In addition to the selected columns, LanceDB also returns a vector\u001b[39;00m\n\u001b[0;32m   (...)\u001b[0m\n\u001b[1;32m    261\u001b[0m \u001b[38;5;124;03m        If unspecified, do not flatten the nested columns.\u001b[39;00m\n\u001b[1;32m    262\u001b[0m \u001b[38;5;124;03m    \"\"\"\u001b[39;00m\n\u001b[0;32m--> 263\u001b[0m     tbl \u001b[38;5;241m=\u001b[39m \u001b[38;5;28;43mself\u001b[39;49m\u001b[38;5;241;43m.\u001b[39;49m\u001b[43mto_arrow\u001b[49m\u001b[43m(\u001b[49m\u001b[43m)\u001b[49m\n\u001b[1;32m    264\u001b[0m     \u001b[38;5;28;01mif\u001b[39;00m flatten \u001b[38;5;129;01mis\u001b[39;00m \u001b[38;5;28;01mTrue\u001b[39;00m:\n\u001b[1;32m    265\u001b[0m         \u001b[38;5;28;01mwhile\u001b[39;00m \u001b[38;5;28;01mTrue\u001b[39;00m:\n",
      "File \u001b[0;32m~/Documents/Projects/workspaces/zoomcamp-project/cloud-service-helper/env/lib/python3.9/site-packages/lancedb/query.py:853\u001b[0m, in \u001b[0;36mLanceHybridQueryBuilder.to_arrow\u001b[0;34m(self)\u001b[0m\n\u001b[1;32m    849\u001b[0m     fts_future \u001b[38;5;241m=\u001b[39m executor\u001b[38;5;241m.\u001b[39msubmit(\u001b[38;5;28mself\u001b[39m\u001b[38;5;241m.\u001b[39m_fts_query\u001b[38;5;241m.\u001b[39mwith_row_id(\u001b[38;5;28;01mTrue\u001b[39;00m)\u001b[38;5;241m.\u001b[39mto_arrow)\n\u001b[1;32m    850\u001b[0m     vector_future \u001b[38;5;241m=\u001b[39m executor\u001b[38;5;241m.\u001b[39msubmit(\n\u001b[1;32m    851\u001b[0m         \u001b[38;5;28mself\u001b[39m\u001b[38;5;241m.\u001b[39m_vector_query\u001b[38;5;241m.\u001b[39mwith_row_id(\u001b[38;5;28;01mTrue\u001b[39;00m)\u001b[38;5;241m.\u001b[39mto_arrow\n\u001b[1;32m    852\u001b[0m     )\n\u001b[0;32m--> 853\u001b[0m     fts_results \u001b[38;5;241m=\u001b[39m \u001b[43mfts_future\u001b[49m\u001b[38;5;241;43m.\u001b[39;49m\u001b[43mresult\u001b[49m\u001b[43m(\u001b[49m\u001b[43m)\u001b[49m\n\u001b[1;32m    854\u001b[0m     vector_results \u001b[38;5;241m=\u001b[39m vector_future\u001b[38;5;241m.\u001b[39mresult()\n\u001b[1;32m    856\u001b[0m \u001b[38;5;66;03m# convert to ranks first if needed\u001b[39;00m\n",
      "File \u001b[0;32m/Library/Developer/CommandLineTools/Library/Frameworks/Python3.framework/Versions/3.9/lib/python3.9/concurrent/futures/_base.py:438\u001b[0m, in \u001b[0;36mFuture.result\u001b[0;34m(self, timeout)\u001b[0m\n\u001b[1;32m    436\u001b[0m     \u001b[38;5;28;01mraise\u001b[39;00m CancelledError()\n\u001b[1;32m    437\u001b[0m \u001b[38;5;28;01melif\u001b[39;00m \u001b[38;5;28mself\u001b[39m\u001b[38;5;241m.\u001b[39m_state \u001b[38;5;241m==\u001b[39m FINISHED:\n\u001b[0;32m--> 438\u001b[0m     \u001b[38;5;28;01mreturn\u001b[39;00m \u001b[38;5;28;43mself\u001b[39;49m\u001b[38;5;241;43m.\u001b[39;49m\u001b[43m__get_result\u001b[49m\u001b[43m(\u001b[49m\u001b[43m)\u001b[49m\n\u001b[1;32m    440\u001b[0m \u001b[38;5;28mself\u001b[39m\u001b[38;5;241m.\u001b[39m_condition\u001b[38;5;241m.\u001b[39mwait(timeout)\n\u001b[1;32m    442\u001b[0m \u001b[38;5;28;01mif\u001b[39;00m \u001b[38;5;28mself\u001b[39m\u001b[38;5;241m.\u001b[39m_state \u001b[38;5;129;01min\u001b[39;00m [CANCELLED, CANCELLED_AND_NOTIFIED]:\n",
      "File \u001b[0;32m/Library/Developer/CommandLineTools/Library/Frameworks/Python3.framework/Versions/3.9/lib/python3.9/concurrent/futures/_base.py:390\u001b[0m, in \u001b[0;36mFuture.__get_result\u001b[0;34m(self)\u001b[0m\n\u001b[1;32m    388\u001b[0m \u001b[38;5;28;01mif\u001b[39;00m \u001b[38;5;28mself\u001b[39m\u001b[38;5;241m.\u001b[39m_exception:\n\u001b[1;32m    389\u001b[0m     \u001b[38;5;28;01mtry\u001b[39;00m:\n\u001b[0;32m--> 390\u001b[0m         \u001b[38;5;28;01mraise\u001b[39;00m \u001b[38;5;28mself\u001b[39m\u001b[38;5;241m.\u001b[39m_exception\n\u001b[1;32m    391\u001b[0m     \u001b[38;5;28;01mfinally\u001b[39;00m:\n\u001b[1;32m    392\u001b[0m         \u001b[38;5;66;03m# Break a reference cycle with the exception in self._exception\u001b[39;00m\n\u001b[1;32m    393\u001b[0m         \u001b[38;5;28mself\u001b[39m \u001b[38;5;241m=\u001b[39m \u001b[38;5;28;01mNone\u001b[39;00m\n",
      "File \u001b[0;32m/Library/Developer/CommandLineTools/Library/Frameworks/Python3.framework/Versions/3.9/lib/python3.9/concurrent/futures/thread.py:52\u001b[0m, in \u001b[0;36m_WorkItem.run\u001b[0;34m(self)\u001b[0m\n\u001b[1;32m     49\u001b[0m     \u001b[38;5;28;01mreturn\u001b[39;00m\n\u001b[1;32m     51\u001b[0m \u001b[38;5;28;01mtry\u001b[39;00m:\n\u001b[0;32m---> 52\u001b[0m     result \u001b[38;5;241m=\u001b[39m \u001b[38;5;28;43mself\u001b[39;49m\u001b[38;5;241;43m.\u001b[39;49m\u001b[43mfn\u001b[49m\u001b[43m(\u001b[49m\u001b[38;5;241;43m*\u001b[39;49m\u001b[38;5;28;43mself\u001b[39;49m\u001b[38;5;241;43m.\u001b[39;49m\u001b[43margs\u001b[49m\u001b[43m,\u001b[49m\u001b[43m \u001b[49m\u001b[38;5;241;43m*\u001b[39;49m\u001b[38;5;241;43m*\u001b[39;49m\u001b[38;5;28;43mself\u001b[39;49m\u001b[38;5;241;43m.\u001b[39;49m\u001b[43mkwargs\u001b[49m\u001b[43m)\u001b[49m\n\u001b[1;32m     53\u001b[0m \u001b[38;5;28;01mexcept\u001b[39;00m \u001b[38;5;167;01mBaseException\u001b[39;00m \u001b[38;5;28;01mas\u001b[39;00m exc:\n\u001b[1;32m     54\u001b[0m     \u001b[38;5;28mself\u001b[39m\u001b[38;5;241m.\u001b[39mfuture\u001b[38;5;241m.\u001b[39mset_exception(exc)\n",
      "File \u001b[0;32m~/Documents/Projects/workspaces/zoomcamp-project/cloud-service-helper/env/lib/python3.9/site-packages/lancedb/query.py:713\u001b[0m, in \u001b[0;36mLanceFtsQueryBuilder.to_arrow\u001b[0;34m(self)\u001b[0m\n\u001b[1;32m    711\u001b[0m \u001b[38;5;66;03m# check if the index exist\u001b[39;00m\n\u001b[1;32m    712\u001b[0m \u001b[38;5;28;01mif\u001b[39;00m \u001b[38;5;129;01mnot\u001b[39;00m Path(index_path)\u001b[38;5;241m.\u001b[39mexists():\n\u001b[0;32m--> 713\u001b[0m     \u001b[38;5;28;01mraise\u001b[39;00m \u001b[38;5;167;01mFileNotFoundError\u001b[39;00m(\n\u001b[1;32m    714\u001b[0m         \u001b[38;5;124m\"\u001b[39m\u001b[38;5;124mFts index does not exist. \u001b[39m\u001b[38;5;124m\"\u001b[39m\n\u001b[1;32m    715\u001b[0m         \u001b[38;5;124m\"\u001b[39m\u001b[38;5;124mPlease first call table.create_fts_index([\u001b[39m\u001b[38;5;124m'\u001b[39m\u001b[38;5;124m<field_names>\u001b[39m\u001b[38;5;124m'\u001b[39m\u001b[38;5;124m]) to \u001b[39m\u001b[38;5;124m\"\u001b[39m\n\u001b[1;32m    716\u001b[0m         \u001b[38;5;124m\"\u001b[39m\u001b[38;5;124mcreate the fts index.\u001b[39m\u001b[38;5;124m\"\u001b[39m\n\u001b[1;32m    717\u001b[0m     )\n\u001b[1;32m    718\u001b[0m \u001b[38;5;66;03m# open the index\u001b[39;00m\n\u001b[1;32m    719\u001b[0m index \u001b[38;5;241m=\u001b[39m tantivy\u001b[38;5;241m.\u001b[39mIndex\u001b[38;5;241m.\u001b[39mopen(index_path)\n",
      "\u001b[0;31mFileNotFoundError\u001b[0m: Fts index does not exist. Please first call table.create_fts_index(['<field_names>']) to create the fts index."
     ]
    }
   ],
   "source": [
    "from retrieval import RetrieveContext\n",
    "ground_truth = ground_truth_dataset.to_dict(orient='records')\n",
    "relevant_total_results_vector_search = []\n",
    "relevance_vector_search = []\n",
    "for q in tqdm(ground_truth):\n",
    "    doc_id = q['id']\n",
    "    query = q['description']\n",
    "    results = RetrieveContext().get_vector_context(query)[['description', 'category', 'service', 'cloud_provider', 'id']].to_dict(orient='records')\n",
    "    relevance_vector_search = [r['id'] == doc_id for r in results]\n",
    "    relevant_total_results_vector_search.append(relevance)"
   ]
  },
  {
   "cell_type": "code",
   "execution_count": null,
   "metadata": {},
   "outputs": [],
   "source": []
  }
 ],
 "metadata": {
  "kernelspec": {
   "display_name": "env",
   "language": "python",
   "name": "python3"
  },
  "language_info": {
   "codemirror_mode": {
    "name": "ipython",
    "version": 3
   },
   "file_extension": ".py",
   "mimetype": "text/x-python",
   "name": "python",
   "nbconvert_exporter": "python",
   "pygments_lexer": "ipython3",
   "version": "3.9.6"
  }
 },
 "nbformat": 4,
 "nbformat_minor": 2
}
