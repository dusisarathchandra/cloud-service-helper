{
 "cells": [
  {
   "cell_type": "markdown",
   "metadata": {},
   "source": [
    "# Evaluating RAG\n",
    "\n",
    "> _Note_: Point to note here is I don't have a question/answer comparison. Based on the description given, I tend to generate category. So, for similar descriptions in Original vs Ground Truth Dataset - I generate `Category` which should be same. While evaluating the RAG, unless the LLM generates an incorrect response, the Cosine similarity should always be 1 or 0."
   ]
  },
  {
   "cell_type": "code",
   "execution_count": 41,
   "metadata": {},
   "outputs": [],
   "source": [
    "import pandas as pd\n",
    "from app import rag_vector_ollama\n",
    "import json\n",
    "from src.constants import *\n",
    "from sentence_transformers import SentenceTransformer"
   ]
  },
  {
   "cell_type": "code",
   "execution_count": 4,
   "metadata": {},
   "outputs": [],
   "source": [
    "ground_truth_data = pd.read_csv('./data/cloud_service_provider_ground_truth_dataset.csv')\n",
    "original_data = pd.read_csv('./data/Cloud_Provider_Services_Hashed_random.csv')"
   ]
  },
  {
   "cell_type": "code",
   "execution_count": 5,
   "metadata": {},
   "outputs": [
    {
     "data": {
      "text/plain": [
       "((25, 5), (125, 5))"
      ]
     },
     "execution_count": 5,
     "metadata": {},
     "output_type": "execute_result"
    }
   ],
   "source": [
    "original_data.shape, ground_truth_data.shape"
   ]
  },
  {
   "cell_type": "code",
   "execution_count": 11,
   "metadata": {},
   "outputs": [
    {
     "data": {
      "text/plain": [
       "{'cloud_provider': 'azure',\n",
       " 'category': 'Analytics',\n",
       " 'service': 'Application Insights',\n",
       " 'description': 'Offers application performance management and monitoring.',\n",
       " 'id': 'dbfef36b'}"
      ]
     },
     "execution_count": 11,
     "metadata": {},
     "output_type": "execute_result"
    }
   ],
   "source": [
    "original_data_dict = original_data.to_dict(orient='records')\n",
    "original_doc_index = {doc['id']: doc for doc in original_data_dict}\n",
    "original_doc_index['dbfef36b']"
   ]
  },
  {
   "cell_type": "markdown",
   "metadata": {},
   "source": [
    "### Taking a sample of 5 records for evaluation"
   ]
  },
  {
   "cell_type": "code",
   "execution_count": 9,
   "metadata": {},
   "outputs": [
    {
     "data": {
      "text/html": [
       "<div>\n",
       "<style scoped>\n",
       "    .dataframe tbody tr th:only-of-type {\n",
       "        vertical-align: middle;\n",
       "    }\n",
       "\n",
       "    .dataframe tbody tr th {\n",
       "        vertical-align: top;\n",
       "    }\n",
       "\n",
       "    .dataframe thead th {\n",
       "        text-align: right;\n",
       "    }\n",
       "</style>\n",
       "<table border=\"1\" class=\"dataframe\">\n",
       "  <thead>\n",
       "    <tr style=\"text-align: right;\">\n",
       "      <th></th>\n",
       "      <th>description</th>\n",
       "      <th>category</th>\n",
       "      <th>service</th>\n",
       "      <th>cloud_provider</th>\n",
       "      <th>id</th>\n",
       "    </tr>\n",
       "  </thead>\n",
       "  <tbody>\n",
       "    <tr>\n",
       "      <th>76</th>\n",
       "      <td>Data transport solutions at petabyte scale off...</td>\n",
       "      <td>Storage</td>\n",
       "      <td>AWS Snowball</td>\n",
       "      <td>aws</td>\n",
       "      <td>7dcc7a26</td>\n",
       "    </tr>\n",
       "    <tr>\n",
       "      <th>97</th>\n",
       "      <td>Cloud integration services provided.</td>\n",
       "      <td>Service</td>\n",
       "      <td>paas_svc_plan_cloud_integration</td>\n",
       "      <td>ibmcloud</td>\n",
       "      <td>d659ca4a</td>\n",
       "    </tr>\n",
       "    <tr>\n",
       "      <th>46</th>\n",
       "      <td>Scalable storage for objects.</td>\n",
       "      <td>Storage</td>\n",
       "      <td>object_storage</td>\n",
       "      <td>ibmcloud</td>\n",
       "      <td>991a00e1</td>\n",
       "    </tr>\n",
       "    <tr>\n",
       "      <th>107</th>\n",
       "      <td>Service offering virtual firewall with threat ...</td>\n",
       "      <td>Security</td>\n",
       "      <td>VM-Series Virtual NextGen Firewall w/ Threat P...</td>\n",
       "      <td>aws</td>\n",
       "      <td>d31d2df1</td>\n",
       "    </tr>\n",
       "    <tr>\n",
       "      <th>103</th>\n",
       "      <td>Workspaces for operational insights provided.</td>\n",
       "      <td>Analytics</td>\n",
       "      <td>microsoft.operationalinsights/workspaces</td>\n",
       "      <td>azure</td>\n",
       "      <td>d7498c6e</td>\n",
       "    </tr>\n",
       "  </tbody>\n",
       "</table>\n",
       "</div>"
      ],
      "text/plain": [
       "                                           description   category  \\\n",
       "76   Data transport solutions at petabyte scale off...    Storage   \n",
       "97                Cloud integration services provided.    Service   \n",
       "46                       Scalable storage for objects.    Storage   \n",
       "107  Service offering virtual firewall with threat ...   Security   \n",
       "103      Workspaces for operational insights provided.  Analytics   \n",
       "\n",
       "                                               service cloud_provider  \\\n",
       "76                                        AWS Snowball            aws   \n",
       "97                     paas_svc_plan_cloud_integration       ibmcloud   \n",
       "46                                      object_storage       ibmcloud   \n",
       "107  VM-Series Virtual NextGen Firewall w/ Threat P...            aws   \n",
       "103           microsoft.operationalinsights/workspaces          azure   \n",
       "\n",
       "           id  \n",
       "76   7dcc7a26  \n",
       "97   d659ca4a  \n",
       "46   991a00e1  \n",
       "107  d31d2df1  \n",
       "103  d7498c6e  "
      ]
     },
     "execution_count": 9,
     "metadata": {},
     "output_type": "execute_result"
    }
   ],
   "source": [
    "ground_truth_data = ground_truth_data.sample(5)\n",
    "ground_truth_data.head(10)"
   ]
  },
  {
   "cell_type": "markdown",
   "metadata": {},
   "source": [
    "## 1. LLM as a Judge (with gemma2:2b)\n",
    " - We generate the response for the ground_truth_data and compare the LLM response against the original dataset"
   ]
  },
  {
   "cell_type": "code",
   "execution_count": 17,
   "metadata": {},
   "outputs": [],
   "source": [
    "# Replace occurrences of \"```json\" and \"```\" with an empty string\n",
    "def remove_backticks(text):\n",
    "    return text.replace(\"```json\", \"\").replace(\"```\", \"\").strip()"
   ]
  },
  {
   "cell_type": "code",
   "execution_count": 36,
   "metadata": {},
   "outputs": [
    {
     "name": "stdout",
     "output_type": "stream",
     "text": [
      "<src.lance_db.lanceDB object at 0x324a45f70>\n",
      "Getting context from the table\n",
      "table name: vector_db\n",
      "first 5 data:                                          description  \\\n",
      "0  An interactive query service that makes it eas...   \n",
      "1  A managed service in the AWS Cloud that makes ...   \n",
      "2  A web service that makes it easy to process la...   \n",
      "3  A managed service that makes it easy to deploy...   \n",
      "4  A cloud big data platform for processing vast ...   \n",
      "\n",
      "                                  vector_description cloud_provider  \\\n",
      "0  [-0.036750447, -0.038994916, -0.09674644, 0.01...            aws   \n",
      "1  [-0.032546062, 0.014457229, -0.067944124, 0.03...            aws   \n",
      "2  [-0.10146084, 0.0067654448, -0.056411035, 0.00...            aws   \n",
      "3  [0.03613138, -0.0007996917, -0.017581925, 0.06...            aws   \n",
      "4  [0.032586943, 0.045619603, 0.0398248, -0.04592...            aws   \n",
      "\n",
      "                        service   category        id  \n",
      "0                 Amazon Athena  Analytics  95825a76  \n",
      "1            Amazon CloudSearch  Analytics  4d78b518  \n",
      "2      Amazon Elastic MapReduce  Analytics  1f41d3e8  \n",
      "3  Amazon Elasticsearch Service  Analytics  cd65ebc2  \n",
      "4                    Amazon EMR  Analytics  65e1ebb7  \n",
      "------------------------------------------\n",
      "\n",
      "\n",
      "Working on query: Data transport solutions at petabyte scale offered.\n"
     ]
    },
    {
     "name": "stderr",
     "output_type": "stream",
     "text": [
      "/Users/dusisarathchandra/Documents/Projects/workspaces/zoomcamp-project/cloud-service-helper/env/lib/python3.9/site-packages/transformers/tokenization_utils_base.py:1601: FutureWarning: `clean_up_tokenization_spaces` was not set. It will be set to `True` by default. This behavior will be depracted in transformers v4.45, and will be then set to `False` by default. For more details check this issue: https://github.com/huggingface/transformers/issues/31884\n",
      "  warnings.warn(\n"
     ]
    },
    {
     "name": "stdout",
     "output_type": "stream",
     "text": [
      "**************************************\n",
      "\n",
      "prompt: You're a cloud asset category finder. Answer the DESCRIPTION based on the CONTEXT.\n",
      "Use only the facts from the CONTEXT when answering the DESCRIPTION. Generate a short answer in JSON format with \"category\" and \"service\" as fields.\n",
      "Your response should **only** include the JSON object itself. Do not include any code blocks, backticks, language tags, or additional formatting like \"```json\".\n",
      "\n",
      "DESCRIPTION: Data transport solutions at petabyte scale offered.\n",
      "\n",
      "CONTEXT: \n",
      "answer: Storage\n",
      "service: AWS Snowball\n",
      "description: Offers petabyte-scale data transport solutions.\n",
      "cloud_provider: aws\n",
      "\n",
      "answer: Analytics\n",
      "service: Data Lake Store\n",
      "description: Offers scalable data storage.\n",
      "cloud_provider: azure\n",
      "\n",
      "answer: Storage\n",
      "service: AWS Snowmobile\n",
      "description: Enables exabyte-scale data transfer to AWS.\n",
      "cloud_provider: aws\n",
      "\n",
      "answer: Analytics\n",
      "service: BigQuery\n",
      "description: Data warehouse for large-scale data analytics.\n",
      "cloud_provider: gcp\n",
      "\n",
      "answer: Service\n",
      "service: paas_svc_plan_att\n",
      "description: AT&T services\n",
      "cloud_provider: ibmcloud\n",
      "\n",
      "<src.lance_db.lanceDB object at 0x324a45f10>\n",
      "Getting context from the table\n",
      "table name: vector_db\n",
      "first 5 data:                                          description  \\\n",
      "0  An interactive query service that makes it eas...   \n",
      "1  A managed service in the AWS Cloud that makes ...   \n",
      "2  A web service that makes it easy to process la...   \n",
      "3  A managed service that makes it easy to deploy...   \n",
      "4  A cloud big data platform for processing vast ...   \n",
      "\n",
      "                                  vector_description cloud_provider  \\\n",
      "0  [-0.036750447, -0.038994916, -0.09674644, 0.01...            aws   \n",
      "1  [-0.032546062, 0.014457229, -0.067944124, 0.03...            aws   \n",
      "2  [-0.10146084, 0.0067654448, -0.056411035, 0.00...            aws   \n",
      "3  [0.03613138, -0.0007996917, -0.017581925, 0.06...            aws   \n",
      "4  [0.032586943, 0.045619603, 0.0398248, -0.04592...            aws   \n",
      "\n",
      "                        service   category        id  \n",
      "0                 Amazon Athena  Analytics  95825a76  \n",
      "1            Amazon CloudSearch  Analytics  4d78b518  \n",
      "2      Amazon Elastic MapReduce  Analytics  1f41d3e8  \n",
      "3  Amazon Elasticsearch Service  Analytics  cd65ebc2  \n",
      "4                    Amazon EMR  Analytics  65e1ebb7  \n",
      "------------------------------------------\n",
      "\n",
      "\n",
      "Working on query: Cloud integration services provided.\n"
     ]
    },
    {
     "name": "stderr",
     "output_type": "stream",
     "text": [
      "/Users/dusisarathchandra/Documents/Projects/workspaces/zoomcamp-project/cloud-service-helper/env/lib/python3.9/site-packages/transformers/tokenization_utils_base.py:1601: FutureWarning: `clean_up_tokenization_spaces` was not set. It will be set to `True` by default. This behavior will be depracted in transformers v4.45, and will be then set to `False` by default. For more details check this issue: https://github.com/huggingface/transformers/issues/31884\n",
      "  warnings.warn(\n"
     ]
    },
    {
     "name": "stdout",
     "output_type": "stream",
     "text": [
      "**************************************\n",
      "\n",
      "prompt: You're a cloud asset category finder. Answer the DESCRIPTION based on the CONTEXT.\n",
      "Use only the facts from the CONTEXT when answering the DESCRIPTION. Generate a short answer in JSON format with \"category\" and \"service\" as fields.\n",
      "Your response should **only** include the JSON object itself. Do not include any code blocks, backticks, language tags, or additional formatting like \"```json\".\n",
      "\n",
      "DESCRIPTION: Cloud integration services provided.\n",
      "\n",
      "CONTEXT: \n",
      "answer: Service\n",
      "service: paas_svc_plan_cloud_integration\n",
      "description: Cloud integration services\n",
      "cloud_provider: ibmcloud\n",
      "\n",
      "answer: Analytics\n",
      "service: Azure Data Factory v2\n",
      "description: Provides cloud-based data integration service.\n",
      "cloud_provider: azure\n",
      "\n",
      "answer: Compute\n",
      "service: Cloud Services\n",
      "description: Provides cloud-based services.\n",
      "cloud_provider: azure\n",
      "\n",
      "answer: Service\n",
      "service: App Connect\n",
      "description: Application integration services\n",
      "cloud_provider: ibmcloud\n",
      "\n",
      "answer: Storage\n",
      "service: Windows Azure Storage\n",
      "description: Provides cloud storage services.\n",
      "cloud_provider: azure\n",
      "\n",
      "<src.lance_db.lanceDB object at 0x321382b20>\n",
      "Getting context from the table\n",
      "table name: vector_db\n",
      "first 5 data:                                          description  \\\n",
      "0  An interactive query service that makes it eas...   \n",
      "1  A managed service in the AWS Cloud that makes ...   \n",
      "2  A web service that makes it easy to process la...   \n",
      "3  A managed service that makes it easy to deploy...   \n",
      "4  A cloud big data platform for processing vast ...   \n",
      "\n",
      "                                  vector_description cloud_provider  \\\n",
      "0  [-0.036750447, -0.038994916, -0.09674644, 0.01...            aws   \n",
      "1  [-0.032546062, 0.014457229, -0.067944124, 0.03...            aws   \n",
      "2  [-0.10146084, 0.0067654448, -0.056411035, 0.00...            aws   \n",
      "3  [0.03613138, -0.0007996917, -0.017581925, 0.06...            aws   \n",
      "4  [0.032586943, 0.045619603, 0.0398248, -0.04592...            aws   \n",
      "\n",
      "                        service   category        id  \n",
      "0                 Amazon Athena  Analytics  95825a76  \n",
      "1            Amazon CloudSearch  Analytics  4d78b518  \n",
      "2      Amazon Elastic MapReduce  Analytics  1f41d3e8  \n",
      "3  Amazon Elasticsearch Service  Analytics  cd65ebc2  \n",
      "4                    Amazon EMR  Analytics  65e1ebb7  \n",
      "------------------------------------------\n",
      "\n",
      "\n",
      "Working on query: Scalable storage for objects.\n"
     ]
    },
    {
     "name": "stderr",
     "output_type": "stream",
     "text": [
      "/Users/dusisarathchandra/Documents/Projects/workspaces/zoomcamp-project/cloud-service-helper/env/lib/python3.9/site-packages/transformers/tokenization_utils_base.py:1601: FutureWarning: `clean_up_tokenization_spaces` was not set. It will be set to `True` by default. This behavior will be depracted in transformers v4.45, and will be then set to `False` by default. For more details check this issue: https://github.com/huggingface/transformers/issues/31884\n",
      "  warnings.warn(\n"
     ]
    },
    {
     "name": "stdout",
     "output_type": "stream",
     "text": [
      "**************************************\n",
      "\n",
      "prompt: You're a cloud asset category finder. Answer the DESCRIPTION based on the CONTEXT.\n",
      "Use only the facts from the CONTEXT when answering the DESCRIPTION. Generate a short answer in JSON format with \"category\" and \"service\" as fields.\n",
      "Your response should **only** include the JSON object itself. Do not include any code blocks, backticks, language tags, or additional formatting like \"```json\".\n",
      "\n",
      "DESCRIPTION: Scalable storage for objects.\n",
      "\n",
      "CONTEXT: \n",
      "answer: Storage\n",
      "service: object_storage\n",
      "description: Scalable object storage\n",
      "cloud_provider: ibmcloud\n",
      "\n",
      "answer: Storage\n",
      "service: Amazon Simple Storage Service\n",
      "description: Provides scalable object storage.\n",
      "cloud_provider: aws\n",
      "\n",
      "answer: Service\n",
      "service: paas_svc_plan_feat_cloud_object_storage\n",
      "description: Cloud Object Storage service for scalable storage.\n",
      "cloud_provider: ibmcloud\n",
      "\n",
      "answer: Service\n",
      "service: paas_svc_plan_object_storage\n",
      "description: Object Storage is a scalable storage service for storing and retrieving unstructured data.\n",
      "cloud_provider: ibmcloud\n",
      "\n",
      "answer: Analytics\n",
      "service: Data Lake Store\n",
      "description: Offers scalable data storage.\n",
      "cloud_provider: azure\n",
      "\n",
      "<src.lance_db.lanceDB object at 0x332a22cd0>\n",
      "Getting context from the table\n",
      "table name: vector_db\n",
      "first 5 data:                                          description  \\\n",
      "0  An interactive query service that makes it eas...   \n",
      "1  A managed service in the AWS Cloud that makes ...   \n",
      "2  A web service that makes it easy to process la...   \n",
      "3  A managed service that makes it easy to deploy...   \n",
      "4  A cloud big data platform for processing vast ...   \n",
      "\n",
      "                                  vector_description cloud_provider  \\\n",
      "0  [-0.036750447, -0.038994916, -0.09674644, 0.01...            aws   \n",
      "1  [-0.032546062, 0.014457229, -0.067944124, 0.03...            aws   \n",
      "2  [-0.10146084, 0.0067654448, -0.056411035, 0.00...            aws   \n",
      "3  [0.03613138, -0.0007996917, -0.017581925, 0.06...            aws   \n",
      "4  [0.032586943, 0.045619603, 0.0398248, -0.04592...            aws   \n",
      "\n",
      "                        service   category        id  \n",
      "0                 Amazon Athena  Analytics  95825a76  \n",
      "1            Amazon CloudSearch  Analytics  4d78b518  \n",
      "2      Amazon Elastic MapReduce  Analytics  1f41d3e8  \n",
      "3  Amazon Elasticsearch Service  Analytics  cd65ebc2  \n",
      "4                    Amazon EMR  Analytics  65e1ebb7  \n",
      "------------------------------------------\n",
      "\n",
      "\n",
      "Working on query: Service offering virtual firewall with threat prevention.\n"
     ]
    },
    {
     "name": "stderr",
     "output_type": "stream",
     "text": [
      "/Users/dusisarathchandra/Documents/Projects/workspaces/zoomcamp-project/cloud-service-helper/env/lib/python3.9/site-packages/transformers/tokenization_utils_base.py:1601: FutureWarning: `clean_up_tokenization_spaces` was not set. It will be set to `True` by default. This behavior will be depracted in transformers v4.45, and will be then set to `False` by default. For more details check this issue: https://github.com/huggingface/transformers/issues/31884\n",
      "  warnings.warn(\n"
     ]
    },
    {
     "name": "stdout",
     "output_type": "stream",
     "text": [
      "**************************************\n",
      "\n",
      "prompt: You're a cloud asset category finder. Answer the DESCRIPTION based on the CONTEXT.\n",
      "Use only the facts from the CONTEXT when answering the DESCRIPTION. Generate a short answer in JSON format with \"category\" and \"service\" as fields.\n",
      "Your response should **only** include the JSON object itself. Do not include any code blocks, backticks, language tags, or additional formatting like \"```json\".\n",
      "\n",
      "DESCRIPTION: Service offering virtual firewall with threat prevention.\n",
      "\n",
      "CONTEXT: \n",
      "answer: Security\n",
      "service: VM-Series Virtual NextGen Firewall w/ Threat Prevention - Bundle1 AWS\n",
      "description: Virtual firewall with threat prevention\n",
      "cloud_provider: aws\n",
      "\n",
      "answer: Network\n",
      "service: firewall\n",
      "description: Firewall service\n",
      "cloud_provider: ibmcloud\n",
      "\n",
      "answer: Security\n",
      "service: VM-Series Next-Generation Firewall Bundle 1\n",
      "description: Virtual firewall with security features\n",
      "cloud_provider: aws\n",
      "\n",
      "answer: Network\n",
      "service: GCP Firewall\n",
      "description: Service for managing firewall rules.\n",
      "cloud_provider: gcp\n",
      "\n",
      "answer: Security\n",
      "service: VM-Series Virtual NextGen Firewall w/ 5 Core Security Subs - Bundle2 AWS\n",
      "description: Virtual firewall with advanced security features\n",
      "cloud_provider: aws\n",
      "\n",
      "<src.lance_db.lanceDB object at 0x332a21700>\n",
      "Getting context from the table\n",
      "table name: vector_db\n",
      "first 5 data:                                          description  \\\n",
      "0  An interactive query service that makes it eas...   \n",
      "1  A managed service in the AWS Cloud that makes ...   \n",
      "2  A web service that makes it easy to process la...   \n",
      "3  A managed service that makes it easy to deploy...   \n",
      "4  A cloud big data platform for processing vast ...   \n",
      "\n",
      "                                  vector_description cloud_provider  \\\n",
      "0  [-0.036750447, -0.038994916, -0.09674644, 0.01...            aws   \n",
      "1  [-0.032546062, 0.014457229, -0.067944124, 0.03...            aws   \n",
      "2  [-0.10146084, 0.0067654448, -0.056411035, 0.00...            aws   \n",
      "3  [0.03613138, -0.0007996917, -0.017581925, 0.06...            aws   \n",
      "4  [0.032586943, 0.045619603, 0.0398248, -0.04592...            aws   \n",
      "\n",
      "                        service   category        id  \n",
      "0                 Amazon Athena  Analytics  95825a76  \n",
      "1            Amazon CloudSearch  Analytics  4d78b518  \n",
      "2      Amazon Elastic MapReduce  Analytics  1f41d3e8  \n",
      "3  Amazon Elasticsearch Service  Analytics  cd65ebc2  \n",
      "4                    Amazon EMR  Analytics  65e1ebb7  \n",
      "------------------------------------------\n",
      "\n",
      "\n",
      "Working on query: Workspaces for operational insights provided.\n"
     ]
    },
    {
     "name": "stderr",
     "output_type": "stream",
     "text": [
      "/Users/dusisarathchandra/Documents/Projects/workspaces/zoomcamp-project/cloud-service-helper/env/lib/python3.9/site-packages/transformers/tokenization_utils_base.py:1601: FutureWarning: `clean_up_tokenization_spaces` was not set. It will be set to `True` by default. This behavior will be depracted in transformers v4.45, and will be then set to `False` by default. For more details check this issue: https://github.com/huggingface/transformers/issues/31884\n",
      "  warnings.warn(\n"
     ]
    },
    {
     "name": "stdout",
     "output_type": "stream",
     "text": [
      "**************************************\n",
      "\n",
      "prompt: You're a cloud asset category finder. Answer the DESCRIPTION based on the CONTEXT.\n",
      "Use only the facts from the CONTEXT when answering the DESCRIPTION. Generate a short answer in JSON format with \"category\" and \"service\" as fields.\n",
      "Your response should **only** include the JSON object itself. Do not include any code blocks, backticks, language tags, or additional formatting like \"```json\".\n",
      "\n",
      "DESCRIPTION: Workspaces for operational insights provided.\n",
      "\n",
      "CONTEXT: \n",
      "answer: Analytics\n",
      "service: microsoft.operationalinsights/workspaces\n",
      "description: Offers operational insights workspaces.\n",
      "cloud_provider: azure\n",
      "\n",
      "answer: Service\n",
      "service: paas_svc_plan_presence_insights\n",
      "description: Presence Insights offers tools for analyzing and optimizing physical space usage.\n",
      "cloud_provider: ibmcloud\n",
      "\n",
      "answer: Analytics\n",
      "service: microsoft.insights/components\n",
      "description: Provides insights components.\n",
      "cloud_provider: azure\n",
      "\n",
      "answer: Service\n",
      "service: paas_svc_plan_insights_for_twitter\n",
      "description: Insights for Twitter provides analytics and insights from Twitter data.\n",
      "cloud_provider: ibmcloud\n",
      "\n",
      "answer: Database\n",
      "service: bigtable\n",
      "description: NoSQL database service for large analytical and operational workloads.\n",
      "cloud_provider: gcp\n",
      "\n"
     ]
    }
   ],
   "source": [
    "answers = []\n",
    "for i, rec in ground_truth_data.iterrows():\n",
    "    if i in answers:\n",
    "        continue\n",
    "    answer_llm = json.loads(remove_backticks(rag_vector_ollama(rec['description'])))['category']\n",
    "    answer_orig = original_doc_index[rec['id']]['category']\n",
    "    answers.append({\n",
    "        'answer_llm': answer_llm,\n",
    "        'answer_orig': answer_orig,\n",
    "        'is_correct': answer_llm == answer_orig,\n",
    "        'id': rec['id']\n",
    "    })\n",
    "    "
   ]
  },
  {
   "cell_type": "code",
   "execution_count": 37,
   "metadata": {},
   "outputs": [
    {
     "data": {
      "text/plain": [
       "[{'answer_llm': 'Storage',\n",
       "  'answer_orig': 'Storage',\n",
       "  'is_correct': True,\n",
       "  'id': '7dcc7a26'},\n",
       " {'answer_llm': 'Service',\n",
       "  'answer_orig': 'Service',\n",
       "  'is_correct': True,\n",
       "  'id': 'd659ca4a'},\n",
       " {'answer_llm': 'storage',\n",
       "  'answer_orig': 'Storage',\n",
       "  'is_correct': False,\n",
       "  'id': '991a00e1'},\n",
       " {'answer_llm': 'Security',\n",
       "  'answer_orig': 'Security',\n",
       "  'is_correct': True,\n",
       "  'id': 'd31d2df1'},\n",
       " {'answer_llm': 'Analytics',\n",
       "  'answer_orig': 'Analytics',\n",
       "  'is_correct': True,\n",
       "  'id': 'd7498c6e'}]"
      ]
     },
     "execution_count": 37,
     "metadata": {},
     "output_type": "execute_result"
    }
   ],
   "source": [
    "answers"
   ]
  },
  {
   "cell_type": "markdown",
   "metadata": {},
   "source": [
    "### Dump the results into `data/rag_evaluation_cosine_gemma2b.csv`"
   ]
  },
  {
   "cell_type": "code",
   "execution_count": 63,
   "metadata": {},
   "outputs": [],
   "source": [
    "df = pd.DataFrame(answers)\n",
    "df.to_csv('./data/rag_evaluation_cosine_gemma2b.csv')"
   ]
  },
  {
   "cell_type": "markdown",
   "metadata": {},
   "source": [
    "## Compute Cosine Similarity"
   ]
  },
  {
   "cell_type": "code",
   "execution_count": 43,
   "metadata": {},
   "outputs": [
    {
     "name": "stderr",
     "output_type": "stream",
     "text": [
      "/Users/dusisarathchandra/Documents/Projects/workspaces/zoomcamp-project/cloud-service-helper/env/lib/python3.9/site-packages/transformers/tokenization_utils_base.py:1601: FutureWarning: `clean_up_tokenization_spaces` was not set. It will be set to `True` by default. This behavior will be depracted in transformers v4.45, and will be then set to `False` by default. For more details check this issue: https://github.com/huggingface/transformers/issues/31884\n",
      "  warnings.warn(\n"
     ]
    }
   ],
   "source": [
    "model_name = EMBEDDINGS_DICT.get('model_name')\n",
    "device = EMBEDDINGS_DICT.get('device')\n",
    "model = SentenceTransformer(model_name, device=device)"
   ]
  },
  {
   "cell_type": "code",
   "execution_count": 44,
   "metadata": {},
   "outputs": [],
   "source": [
    "def compute_cosine_similarity(rec):\n",
    "    answer_llm = model.encode(rec['answer_llm'])\n",
    "    answer_orig = model.encode(rec['answer_orig'])\n",
    "    return answer_llm.dot(answer_orig)"
   ]
  },
  {
   "cell_type": "code",
   "execution_count": 48,
   "metadata": {},
   "outputs": [
    {
     "name": "stderr",
     "output_type": "stream",
     "text": [
      "100%|██████████| 5/5 [00:00<00:00, 47.14it/s]\n"
     ]
    }
   ],
   "source": [
    "from tqdm.auto import tqdm\n",
    "df = pd.read_csv('./data/rag_evaluation_cosine.csv')\n",
    "data = df.to_dict(orient='records')\n",
    "similarity = []\n",
    "for rec in tqdm(data):\n",
    "    sim = compute_cosine_similarity(rec)\n",
    "    similarity.append(sim)"
   ]
  },
  {
   "cell_type": "code",
   "execution_count": 49,
   "metadata": {},
   "outputs": [],
   "source": [
    "df['cosine'] = similarity"
   ]
  },
  {
   "cell_type": "code",
   "execution_count": 50,
   "metadata": {},
   "outputs": [
    {
     "data": {
      "text/html": [
       "<div>\n",
       "<style scoped>\n",
       "    .dataframe tbody tr th:only-of-type {\n",
       "        vertical-align: middle;\n",
       "    }\n",
       "\n",
       "    .dataframe tbody tr th {\n",
       "        vertical-align: top;\n",
       "    }\n",
       "\n",
       "    .dataframe thead th {\n",
       "        text-align: right;\n",
       "    }\n",
       "</style>\n",
       "<table border=\"1\" class=\"dataframe\">\n",
       "  <thead>\n",
       "    <tr style=\"text-align: right;\">\n",
       "      <th></th>\n",
       "      <th>Unnamed: 0</th>\n",
       "      <th>answer_llm</th>\n",
       "      <th>answer_orig</th>\n",
       "      <th>is_correct</th>\n",
       "      <th>id</th>\n",
       "      <th>cosine</th>\n",
       "    </tr>\n",
       "  </thead>\n",
       "  <tbody>\n",
       "    <tr>\n",
       "      <th>0</th>\n",
       "      <td>0</td>\n",
       "      <td>Storage</td>\n",
       "      <td>Storage</td>\n",
       "      <td>True</td>\n",
       "      <td>7dcc7a26</td>\n",
       "      <td>1.0</td>\n",
       "    </tr>\n",
       "    <tr>\n",
       "      <th>1</th>\n",
       "      <td>1</td>\n",
       "      <td>Service</td>\n",
       "      <td>Service</td>\n",
       "      <td>True</td>\n",
       "      <td>d659ca4a</td>\n",
       "      <td>1.0</td>\n",
       "    </tr>\n",
       "    <tr>\n",
       "      <th>2</th>\n",
       "      <td>2</td>\n",
       "      <td>storage</td>\n",
       "      <td>Storage</td>\n",
       "      <td>False</td>\n",
       "      <td>991a00e1</td>\n",
       "      <td>1.0</td>\n",
       "    </tr>\n",
       "    <tr>\n",
       "      <th>3</th>\n",
       "      <td>3</td>\n",
       "      <td>Security</td>\n",
       "      <td>Security</td>\n",
       "      <td>True</td>\n",
       "      <td>d31d2df1</td>\n",
       "      <td>1.0</td>\n",
       "    </tr>\n",
       "    <tr>\n",
       "      <th>4</th>\n",
       "      <td>4</td>\n",
       "      <td>Analytics</td>\n",
       "      <td>Analytics</td>\n",
       "      <td>True</td>\n",
       "      <td>d7498c6e</td>\n",
       "      <td>1.0</td>\n",
       "    </tr>\n",
       "  </tbody>\n",
       "</table>\n",
       "</div>"
      ],
      "text/plain": [
       "   Unnamed: 0 answer_llm answer_orig  is_correct        id  cosine\n",
       "0           0    Storage     Storage        True  7dcc7a26     1.0\n",
       "1           1    Service     Service        True  d659ca4a     1.0\n",
       "2           2    storage     Storage       False  991a00e1     1.0\n",
       "3           3   Security    Security        True  d31d2df1     1.0\n",
       "4           4  Analytics   Analytics        True  d7498c6e     1.0"
      ]
     },
     "execution_count": 50,
     "metadata": {},
     "output_type": "execute_result"
    }
   ],
   "source": [
    "df.head()"
   ]
  },
  {
   "cell_type": "code",
   "execution_count": 51,
   "metadata": {},
   "outputs": [],
   "source": [
    "df.to_csv('./data/rag_evaluation_cosine_with_dot.csv')"
   ]
  },
  {
   "cell_type": "code",
   "execution_count": 52,
   "metadata": {},
   "outputs": [
    {
     "data": {
      "text/plain": [
       "count    5.000000e+00\n",
       "mean     9.999999e-01\n",
       "std      1.604904e-07\n",
       "min      9.999998e-01\n",
       "25%      9.999998e-01\n",
       "50%      1.000000e+00\n",
       "75%      1.000000e+00\n",
       "max      1.000000e+00\n",
       "Name: cosine, dtype: float64"
      ]
     },
     "execution_count": 52,
     "metadata": {},
     "output_type": "execute_result"
    }
   ],
   "source": [
    "df['cosine'].describe()"
   ]
  },
  {
   "cell_type": "markdown",
   "metadata": {},
   "source": [
    "## 2. LLM as a Judge (qwen2b: Qwen2 is a new series of large language models from Alibaba group)\n",
    "\n",
    "> Note: To run qwen2, follow the below steps\n",
    "\n",
    "1. Make sure you must pull `qwen2:0.5b` model before running this. \n",
    "    - exec into Ollama docker container by running `docker exec -it <ollama container id> bash`\n",
    "    - Run `ollama pull qwen2:0.5b`. More about [qwen2](https://ollama.com/library/qwen2:0.5b)\n",
    "2. app.py -> ollama_llm() -> Change the model to `qwen2:0.5b`"
   ]
  },
  {
   "cell_type": "code",
   "execution_count": 62,
   "metadata": {},
   "outputs": [
    {
     "name": "stdout",
     "output_type": "stream",
     "text": [
      "<src.lance_db.lanceDB object at 0x3f731c640>\n",
      "Getting context from the table\n",
      "table name: vector_db\n",
      "first 5 data:                                          description  \\\n",
      "0  An interactive query service that makes it eas...   \n",
      "1  A managed service in the AWS Cloud that makes ...   \n",
      "2  A web service that makes it easy to process la...   \n",
      "3  A managed service that makes it easy to deploy...   \n",
      "4  A cloud big data platform for processing vast ...   \n",
      "\n",
      "                                  vector_description cloud_provider  \\\n",
      "0  [-0.036750447, -0.038994916, -0.09674644, 0.01...            aws   \n",
      "1  [-0.032546062, 0.014457229, -0.067944124, 0.03...            aws   \n",
      "2  [-0.10146084, 0.0067654448, -0.056411035, 0.00...            aws   \n",
      "3  [0.03613138, -0.0007996917, -0.017581925, 0.06...            aws   \n",
      "4  [0.032586943, 0.045619603, 0.0398248, -0.04592...            aws   \n",
      "\n",
      "                        service   category        id  \n",
      "0                 Amazon Athena  Analytics  95825a76  \n",
      "1            Amazon CloudSearch  Analytics  4d78b518  \n",
      "2      Amazon Elastic MapReduce  Analytics  1f41d3e8  \n",
      "3  Amazon Elasticsearch Service  Analytics  cd65ebc2  \n",
      "4                    Amazon EMR  Analytics  65e1ebb7  \n",
      "------------------------------------------\n",
      "\n",
      "\n",
      "Working on query: Data transport solutions at petabyte scale offered.\n"
     ]
    },
    {
     "name": "stderr",
     "output_type": "stream",
     "text": [
      "/Users/dusisarathchandra/Documents/Projects/workspaces/zoomcamp-project/cloud-service-helper/env/lib/python3.9/site-packages/transformers/tokenization_utils_base.py:1601: FutureWarning: `clean_up_tokenization_spaces` was not set. It will be set to `True` by default. This behavior will be depracted in transformers v4.45, and will be then set to `False` by default. For more details check this issue: https://github.com/huggingface/transformers/issues/31884\n",
      "  warnings.warn(\n"
     ]
    },
    {
     "name": "stdout",
     "output_type": "stream",
     "text": [
      "**************************************\n",
      "\n",
      "prompt: You're a cloud asset category finder. Answer the DESCRIPTION based on the CONTEXT.\n",
      "Use only the facts from the CONTEXT when answering the DESCRIPTION. Generate a short answer in JSON format with \"category\" and \"service\" as fields.\n",
      "Your response should **only** include the JSON object itself. Do not include any code blocks, backticks, language tags, or additional formatting like \"```json\".\n",
      "\n",
      "DESCRIPTION: Data transport solutions at petabyte scale offered.\n",
      "\n",
      "CONTEXT: \n",
      "answer: Storage\n",
      "service: AWS Snowball\n",
      "description: Offers petabyte-scale data transport solutions.\n",
      "cloud_provider: aws\n",
      "\n",
      "answer: Analytics\n",
      "service: Data Lake Store\n",
      "description: Offers scalable data storage.\n",
      "cloud_provider: azure\n",
      "\n",
      "answer: Storage\n",
      "service: AWS Snowmobile\n",
      "description: Enables exabyte-scale data transfer to AWS.\n",
      "cloud_provider: aws\n",
      "\n",
      "answer: Analytics\n",
      "service: BigQuery\n",
      "description: Data warehouse for large-scale data analytics.\n",
      "cloud_provider: gcp\n",
      "\n",
      "answer: Service\n",
      "service: paas_svc_plan_att\n",
      "description: AT&T services\n",
      "cloud_provider: ibmcloud\n",
      "\n",
      "<src.lance_db.lanceDB object at 0x3f731cc10>\n",
      "Getting context from the table\n",
      "table name: vector_db\n",
      "first 5 data:                                          description  \\\n",
      "0  An interactive query service that makes it eas...   \n",
      "1  A managed service in the AWS Cloud that makes ...   \n",
      "2  A web service that makes it easy to process la...   \n",
      "3  A managed service that makes it easy to deploy...   \n",
      "4  A cloud big data platform for processing vast ...   \n",
      "\n",
      "                                  vector_description cloud_provider  \\\n",
      "0  [-0.036750447, -0.038994916, -0.09674644, 0.01...            aws   \n",
      "1  [-0.032546062, 0.014457229, -0.067944124, 0.03...            aws   \n",
      "2  [-0.10146084, 0.0067654448, -0.056411035, 0.00...            aws   \n",
      "3  [0.03613138, -0.0007996917, -0.017581925, 0.06...            aws   \n",
      "4  [0.032586943, 0.045619603, 0.0398248, -0.04592...            aws   \n",
      "\n",
      "                        service   category        id  \n",
      "0                 Amazon Athena  Analytics  95825a76  \n",
      "1            Amazon CloudSearch  Analytics  4d78b518  \n",
      "2      Amazon Elastic MapReduce  Analytics  1f41d3e8  \n",
      "3  Amazon Elasticsearch Service  Analytics  cd65ebc2  \n",
      "4                    Amazon EMR  Analytics  65e1ebb7  \n",
      "------------------------------------------\n",
      "\n",
      "\n",
      "Working on query: Cloud integration services provided.\n"
     ]
    },
    {
     "name": "stderr",
     "output_type": "stream",
     "text": [
      "/Users/dusisarathchandra/Documents/Projects/workspaces/zoomcamp-project/cloud-service-helper/env/lib/python3.9/site-packages/transformers/tokenization_utils_base.py:1601: FutureWarning: `clean_up_tokenization_spaces` was not set. It will be set to `True` by default. This behavior will be depracted in transformers v4.45, and will be then set to `False` by default. For more details check this issue: https://github.com/huggingface/transformers/issues/31884\n",
      "  warnings.warn(\n"
     ]
    },
    {
     "name": "stdout",
     "output_type": "stream",
     "text": [
      "**************************************\n",
      "\n",
      "prompt: You're a cloud asset category finder. Answer the DESCRIPTION based on the CONTEXT.\n",
      "Use only the facts from the CONTEXT when answering the DESCRIPTION. Generate a short answer in JSON format with \"category\" and \"service\" as fields.\n",
      "Your response should **only** include the JSON object itself. Do not include any code blocks, backticks, language tags, or additional formatting like \"```json\".\n",
      "\n",
      "DESCRIPTION: Cloud integration services provided.\n",
      "\n",
      "CONTEXT: \n",
      "answer: Service\n",
      "service: paas_svc_plan_cloud_integration\n",
      "description: Cloud integration services\n",
      "cloud_provider: ibmcloud\n",
      "\n",
      "answer: Analytics\n",
      "service: Azure Data Factory v2\n",
      "description: Provides cloud-based data integration service.\n",
      "cloud_provider: azure\n",
      "\n",
      "answer: Compute\n",
      "service: Cloud Services\n",
      "description: Provides cloud-based services.\n",
      "cloud_provider: azure\n",
      "\n",
      "answer: Service\n",
      "service: App Connect\n",
      "description: Application integration services\n",
      "cloud_provider: ibmcloud\n",
      "\n",
      "answer: Storage\n",
      "service: Windows Azure Storage\n",
      "description: Provides cloud storage services.\n",
      "cloud_provider: azure\n",
      "\n",
      "<src.lance_db.lanceDB object at 0x332bf5cd0>\n",
      "Getting context from the table\n",
      "table name: vector_db\n",
      "first 5 data:                                          description  \\\n",
      "0  An interactive query service that makes it eas...   \n",
      "1  A managed service in the AWS Cloud that makes ...   \n",
      "2  A web service that makes it easy to process la...   \n",
      "3  A managed service that makes it easy to deploy...   \n",
      "4  A cloud big data platform for processing vast ...   \n",
      "\n",
      "                                  vector_description cloud_provider  \\\n",
      "0  [-0.036750447, -0.038994916, -0.09674644, 0.01...            aws   \n",
      "1  [-0.032546062, 0.014457229, -0.067944124, 0.03...            aws   \n",
      "2  [-0.10146084, 0.0067654448, -0.056411035, 0.00...            aws   \n",
      "3  [0.03613138, -0.0007996917, -0.017581925, 0.06...            aws   \n",
      "4  [0.032586943, 0.045619603, 0.0398248, -0.04592...            aws   \n",
      "\n",
      "                        service   category        id  \n",
      "0                 Amazon Athena  Analytics  95825a76  \n",
      "1            Amazon CloudSearch  Analytics  4d78b518  \n",
      "2      Amazon Elastic MapReduce  Analytics  1f41d3e8  \n",
      "3  Amazon Elasticsearch Service  Analytics  cd65ebc2  \n",
      "4                    Amazon EMR  Analytics  65e1ebb7  \n",
      "------------------------------------------\n",
      "\n",
      "\n",
      "Working on query: Scalable storage for objects.\n"
     ]
    },
    {
     "name": "stderr",
     "output_type": "stream",
     "text": [
      "/Users/dusisarathchandra/Documents/Projects/workspaces/zoomcamp-project/cloud-service-helper/env/lib/python3.9/site-packages/transformers/tokenization_utils_base.py:1601: FutureWarning: `clean_up_tokenization_spaces` was not set. It will be set to `True` by default. This behavior will be depracted in transformers v4.45, and will be then set to `False` by default. For more details check this issue: https://github.com/huggingface/transformers/issues/31884\n",
      "  warnings.warn(\n"
     ]
    },
    {
     "name": "stdout",
     "output_type": "stream",
     "text": [
      "**************************************\n",
      "\n",
      "prompt: You're a cloud asset category finder. Answer the DESCRIPTION based on the CONTEXT.\n",
      "Use only the facts from the CONTEXT when answering the DESCRIPTION. Generate a short answer in JSON format with \"category\" and \"service\" as fields.\n",
      "Your response should **only** include the JSON object itself. Do not include any code blocks, backticks, language tags, or additional formatting like \"```json\".\n",
      "\n",
      "DESCRIPTION: Scalable storage for objects.\n",
      "\n",
      "CONTEXT: \n",
      "answer: Storage\n",
      "service: object_storage\n",
      "description: Scalable object storage\n",
      "cloud_provider: ibmcloud\n",
      "\n",
      "answer: Storage\n",
      "service: Amazon Simple Storage Service\n",
      "description: Provides scalable object storage.\n",
      "cloud_provider: aws\n",
      "\n",
      "answer: Service\n",
      "service: paas_svc_plan_feat_cloud_object_storage\n",
      "description: Cloud Object Storage service for scalable storage.\n",
      "cloud_provider: ibmcloud\n",
      "\n",
      "answer: Service\n",
      "service: paas_svc_plan_object_storage\n",
      "description: Object Storage is a scalable storage service for storing and retrieving unstructured data.\n",
      "cloud_provider: ibmcloud\n",
      "\n",
      "answer: Analytics\n",
      "service: Data Lake Store\n",
      "description: Offers scalable data storage.\n",
      "cloud_provider: azure\n",
      "\n",
      "<src.lance_db.lanceDB object at 0x327d21970>\n",
      "Getting context from the table\n",
      "table name: vector_db\n",
      "first 5 data:                                          description  \\\n",
      "0  An interactive query service that makes it eas...   \n",
      "1  A managed service in the AWS Cloud that makes ...   \n",
      "2  A web service that makes it easy to process la...   \n",
      "3  A managed service that makes it easy to deploy...   \n",
      "4  A cloud big data platform for processing vast ...   \n",
      "\n",
      "                                  vector_description cloud_provider  \\\n",
      "0  [-0.036750447, -0.038994916, -0.09674644, 0.01...            aws   \n",
      "1  [-0.032546062, 0.014457229, -0.067944124, 0.03...            aws   \n",
      "2  [-0.10146084, 0.0067654448, -0.056411035, 0.00...            aws   \n",
      "3  [0.03613138, -0.0007996917, -0.017581925, 0.06...            aws   \n",
      "4  [0.032586943, 0.045619603, 0.0398248, -0.04592...            aws   \n",
      "\n",
      "                        service   category        id  \n",
      "0                 Amazon Athena  Analytics  95825a76  \n",
      "1            Amazon CloudSearch  Analytics  4d78b518  \n",
      "2      Amazon Elastic MapReduce  Analytics  1f41d3e8  \n",
      "3  Amazon Elasticsearch Service  Analytics  cd65ebc2  \n",
      "4                    Amazon EMR  Analytics  65e1ebb7  \n",
      "------------------------------------------\n",
      "\n",
      "\n",
      "Working on query: Service offering virtual firewall with threat prevention.\n"
     ]
    },
    {
     "name": "stderr",
     "output_type": "stream",
     "text": [
      "/Users/dusisarathchandra/Documents/Projects/workspaces/zoomcamp-project/cloud-service-helper/env/lib/python3.9/site-packages/transformers/tokenization_utils_base.py:1601: FutureWarning: `clean_up_tokenization_spaces` was not set. It will be set to `True` by default. This behavior will be depracted in transformers v4.45, and will be then set to `False` by default. For more details check this issue: https://github.com/huggingface/transformers/issues/31884\n",
      "  warnings.warn(\n"
     ]
    },
    {
     "name": "stdout",
     "output_type": "stream",
     "text": [
      "**************************************\n",
      "\n",
      "prompt: You're a cloud asset category finder. Answer the DESCRIPTION based on the CONTEXT.\n",
      "Use only the facts from the CONTEXT when answering the DESCRIPTION. Generate a short answer in JSON format with \"category\" and \"service\" as fields.\n",
      "Your response should **only** include the JSON object itself. Do not include any code blocks, backticks, language tags, or additional formatting like \"```json\".\n",
      "\n",
      "DESCRIPTION: Service offering virtual firewall with threat prevention.\n",
      "\n",
      "CONTEXT: \n",
      "answer: Security\n",
      "service: VM-Series Virtual NextGen Firewall w/ Threat Prevention - Bundle1 AWS\n",
      "description: Virtual firewall with threat prevention\n",
      "cloud_provider: aws\n",
      "\n",
      "answer: Network\n",
      "service: firewall\n",
      "description: Firewall service\n",
      "cloud_provider: ibmcloud\n",
      "\n",
      "answer: Security\n",
      "service: VM-Series Next-Generation Firewall Bundle 1\n",
      "description: Virtual firewall with security features\n",
      "cloud_provider: aws\n",
      "\n",
      "answer: Network\n",
      "service: GCP Firewall\n",
      "description: Service for managing firewall rules.\n",
      "cloud_provider: gcp\n",
      "\n",
      "answer: Security\n",
      "service: VM-Series Virtual NextGen Firewall w/ 5 Core Security Subs - Bundle2 AWS\n",
      "description: Virtual firewall with advanced security features\n",
      "cloud_provider: aws\n",
      "\n",
      "<src.lance_db.lanceDB object at 0x3f78bcca0>\n",
      "Getting context from the table\n",
      "table name: vector_db\n",
      "first 5 data:                                          description  \\\n",
      "0  An interactive query service that makes it eas...   \n",
      "1  A managed service in the AWS Cloud that makes ...   \n",
      "2  A web service that makes it easy to process la...   \n",
      "3  A managed service that makes it easy to deploy...   \n",
      "4  A cloud big data platform for processing vast ...   \n",
      "\n",
      "                                  vector_description cloud_provider  \\\n",
      "0  [-0.036750447, -0.038994916, -0.09674644, 0.01...            aws   \n",
      "1  [-0.032546062, 0.014457229, -0.067944124, 0.03...            aws   \n",
      "2  [-0.10146084, 0.0067654448, -0.056411035, 0.00...            aws   \n",
      "3  [0.03613138, -0.0007996917, -0.017581925, 0.06...            aws   \n",
      "4  [0.032586943, 0.045619603, 0.0398248, -0.04592...            aws   \n",
      "\n",
      "                        service   category        id  \n",
      "0                 Amazon Athena  Analytics  95825a76  \n",
      "1            Amazon CloudSearch  Analytics  4d78b518  \n",
      "2      Amazon Elastic MapReduce  Analytics  1f41d3e8  \n",
      "3  Amazon Elasticsearch Service  Analytics  cd65ebc2  \n",
      "4                    Amazon EMR  Analytics  65e1ebb7  \n",
      "------------------------------------------\n",
      "\n",
      "\n",
      "Working on query: Workspaces for operational insights provided.\n"
     ]
    },
    {
     "name": "stderr",
     "output_type": "stream",
     "text": [
      "/Users/dusisarathchandra/Documents/Projects/workspaces/zoomcamp-project/cloud-service-helper/env/lib/python3.9/site-packages/transformers/tokenization_utils_base.py:1601: FutureWarning: `clean_up_tokenization_spaces` was not set. It will be set to `True` by default. This behavior will be depracted in transformers v4.45, and will be then set to `False` by default. For more details check this issue: https://github.com/huggingface/transformers/issues/31884\n",
      "  warnings.warn(\n"
     ]
    },
    {
     "name": "stdout",
     "output_type": "stream",
     "text": [
      "**************************************\n",
      "\n",
      "prompt: You're a cloud asset category finder. Answer the DESCRIPTION based on the CONTEXT.\n",
      "Use only the facts from the CONTEXT when answering the DESCRIPTION. Generate a short answer in JSON format with \"category\" and \"service\" as fields.\n",
      "Your response should **only** include the JSON object itself. Do not include any code blocks, backticks, language tags, or additional formatting like \"```json\".\n",
      "\n",
      "DESCRIPTION: Workspaces for operational insights provided.\n",
      "\n",
      "CONTEXT: \n",
      "answer: Analytics\n",
      "service: microsoft.operationalinsights/workspaces\n",
      "description: Offers operational insights workspaces.\n",
      "cloud_provider: azure\n",
      "\n",
      "answer: Service\n",
      "service: paas_svc_plan_presence_insights\n",
      "description: Presence Insights offers tools for analyzing and optimizing physical space usage.\n",
      "cloud_provider: ibmcloud\n",
      "\n",
      "answer: Analytics\n",
      "service: microsoft.insights/components\n",
      "description: Provides insights components.\n",
      "cloud_provider: azure\n",
      "\n",
      "answer: Service\n",
      "service: paas_svc_plan_insights_for_twitter\n",
      "description: Insights for Twitter provides analytics and insights from Twitter data.\n",
      "cloud_provider: ibmcloud\n",
      "\n",
      "answer: Database\n",
      "service: bigtable\n",
      "description: NoSQL database service for large analytical and operational workloads.\n",
      "cloud_provider: gcp\n",
      "\n"
     ]
    }
   ],
   "source": [
    "answers_qwen2 = []\n",
    "for i, rec in ground_truth_data.iterrows():\n",
    "    if i in answers_qwen2:\n",
    "        continue\n",
    "    answer_llm = json.loads(remove_backticks(rag_vector_ollama(rec['description'])))['category']\n",
    "    answer_orig = original_doc_index[rec['id']]['category']\n",
    "    answers_qwen2.append({\n",
    "        'answer_llm': answer_llm,\n",
    "        'answer_orig': answer_orig,\n",
    "        'is_correct': answer_llm == answer_orig,\n",
    "        'id': rec['id']\n",
    "    })"
   ]
  },
  {
   "cell_type": "code",
   "execution_count": 64,
   "metadata": {},
   "outputs": [],
   "source": [
    "df = pd.DataFrame(answers_qwen2)\n",
    "df.to_csv('./data/rag_evaluation_cosine_qwen2.csv')"
   ]
  },
  {
   "cell_type": "code",
   "execution_count": 65,
   "metadata": {},
   "outputs": [
    {
     "name": "stderr",
     "output_type": "stream",
     "text": [
      "100%|██████████| 5/5 [00:00<00:00, 37.96it/s]\n"
     ]
    }
   ],
   "source": [
    "from tqdm.auto import tqdm\n",
    "df = pd.read_csv('./data/rag_evaluation_cosine_qwen2.csv')\n",
    "data = df.to_dict(orient='records')\n",
    "similarity = []\n",
    "for rec in tqdm(data):\n",
    "    sim = compute_cosine_similarity(rec)\n",
    "    similarity.append(sim)"
   ]
  },
  {
   "cell_type": "code",
   "execution_count": 66,
   "metadata": {},
   "outputs": [],
   "source": [
    "df['cosine'] = similarity"
   ]
  },
  {
   "cell_type": "code",
   "execution_count": 67,
   "metadata": {},
   "outputs": [
    {
     "data": {
      "text/html": [
       "<div>\n",
       "<style scoped>\n",
       "    .dataframe tbody tr th:only-of-type {\n",
       "        vertical-align: middle;\n",
       "    }\n",
       "\n",
       "    .dataframe tbody tr th {\n",
       "        vertical-align: top;\n",
       "    }\n",
       "\n",
       "    .dataframe thead th {\n",
       "        text-align: right;\n",
       "    }\n",
       "</style>\n",
       "<table border=\"1\" class=\"dataframe\">\n",
       "  <thead>\n",
       "    <tr style=\"text-align: right;\">\n",
       "      <th></th>\n",
       "      <th>Unnamed: 0</th>\n",
       "      <th>answer_llm</th>\n",
       "      <th>answer_orig</th>\n",
       "      <th>is_correct</th>\n",
       "      <th>id</th>\n",
       "      <th>cosine</th>\n",
       "    </tr>\n",
       "  </thead>\n",
       "  <tbody>\n",
       "    <tr>\n",
       "      <th>0</th>\n",
       "      <td>0</td>\n",
       "      <td>Storage</td>\n",
       "      <td>Storage</td>\n",
       "      <td>True</td>\n",
       "      <td>7dcc7a26</td>\n",
       "      <td>1.0</td>\n",
       "    </tr>\n",
       "    <tr>\n",
       "      <th>1</th>\n",
       "      <td>1</td>\n",
       "      <td>Service</td>\n",
       "      <td>Service</td>\n",
       "      <td>True</td>\n",
       "      <td>d659ca4a</td>\n",
       "      <td>1.0</td>\n",
       "    </tr>\n",
       "    <tr>\n",
       "      <th>2</th>\n",
       "      <td>2</td>\n",
       "      <td>Storage</td>\n",
       "      <td>Storage</td>\n",
       "      <td>True</td>\n",
       "      <td>991a00e1</td>\n",
       "      <td>1.0</td>\n",
       "    </tr>\n",
       "    <tr>\n",
       "      <th>3</th>\n",
       "      <td>3</td>\n",
       "      <td>Security</td>\n",
       "      <td>Security</td>\n",
       "      <td>True</td>\n",
       "      <td>d31d2df1</td>\n",
       "      <td>1.0</td>\n",
       "    </tr>\n",
       "    <tr>\n",
       "      <th>4</th>\n",
       "      <td>4</td>\n",
       "      <td>Analytics</td>\n",
       "      <td>Analytics</td>\n",
       "      <td>True</td>\n",
       "      <td>d7498c6e</td>\n",
       "      <td>1.0</td>\n",
       "    </tr>\n",
       "  </tbody>\n",
       "</table>\n",
       "</div>"
      ],
      "text/plain": [
       "   Unnamed: 0 answer_llm answer_orig  is_correct        id  cosine\n",
       "0           0    Storage     Storage        True  7dcc7a26     1.0\n",
       "1           1    Service     Service        True  d659ca4a     1.0\n",
       "2           2    Storage     Storage        True  991a00e1     1.0\n",
       "3           3   Security    Security        True  d31d2df1     1.0\n",
       "4           4  Analytics   Analytics        True  d7498c6e     1.0"
      ]
     },
     "execution_count": 67,
     "metadata": {},
     "output_type": "execute_result"
    }
   ],
   "source": [
    "df.head()"
   ]
  },
  {
   "cell_type": "code",
   "execution_count": null,
   "metadata": {},
   "outputs": [],
   "source": []
  }
 ],
 "metadata": {
  "kernelspec": {
   "display_name": "env",
   "language": "python",
   "name": "python3"
  },
  "language_info": {
   "codemirror_mode": {
    "name": "ipython",
    "version": 3
   },
   "file_extension": ".py",
   "mimetype": "text/x-python",
   "name": "python",
   "nbconvert_exporter": "python",
   "pygments_lexer": "ipython3",
   "version": "3.9.6"
  }
 },
 "nbformat": 4,
 "nbformat_minor": 2
}
