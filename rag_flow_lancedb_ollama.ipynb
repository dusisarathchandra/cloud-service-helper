{
 "cells": [
  {
   "cell_type": "code",
   "execution_count": 26,
   "metadata": {},
   "outputs": [
    {
     "name": "stderr",
     "output_type": "stream",
     "text": [
      "huggingface/tokenizers: The current process just got forked, after parallelism has already been used. Disabling parallelism to avoid deadlocks...\n",
      "To disable this warning, you can either:\n",
      "\t- Avoid using `tokenizers` before the fork if possible\n",
      "\t- Explicitly set the environment variable TOKENIZERS_PARALLELISM=(true | false)\n"
     ]
    },
    {
     "name": "stdout",
     "output_type": "stream",
     "text": [
      "Requirement already satisfied: U in ./env/lib/python3.9/site-packages (0.1)\n",
      "Requirement already satisfied: openai in ./env/lib/python3.9/site-packages (1.43.1)\n",
      "Requirement already satisfied: typing-extensions in ./env/lib/python3.9/site-packages (from U) (4.12.2)\n",
      "Requirement already satisfied: httpx<1,>=0.23.0 in ./env/lib/python3.9/site-packages (from openai) (0.27.2)\n",
      "Requirement already satisfied: tqdm>4 in ./env/lib/python3.9/site-packages (from openai) (4.66.5)\n",
      "Requirement already satisfied: pydantic<3,>=1.9.0 in ./env/lib/python3.9/site-packages (from openai) (2.8.2)\n",
      "Requirement already satisfied: jiter<1,>=0.4.0 in ./env/lib/python3.9/site-packages (from openai) (0.5.0)\n",
      "Requirement already satisfied: anyio<5,>=3.5.0 in ./env/lib/python3.9/site-packages (from openai) (4.4.0)\n",
      "Requirement already satisfied: distro<2,>=1.7.0 in ./env/lib/python3.9/site-packages (from openai) (1.9.0)\n",
      "Requirement already satisfied: sniffio in ./env/lib/python3.9/site-packages (from openai) (1.3.1)\n",
      "Requirement already satisfied: idna>=2.8 in ./env/lib/python3.9/site-packages (from anyio<5,>=3.5.0->openai) (3.8)\n",
      "Requirement already satisfied: exceptiongroup>=1.0.2 in ./env/lib/python3.9/site-packages (from anyio<5,>=3.5.0->openai) (1.2.2)\n",
      "Requirement already satisfied: certifi in ./env/lib/python3.9/site-packages (from httpx<1,>=0.23.0->openai) (2024.8.30)\n",
      "Requirement already satisfied: httpcore==1.* in ./env/lib/python3.9/site-packages (from httpx<1,>=0.23.0->openai) (1.0.5)\n",
      "Requirement already satisfied: h11<0.15,>=0.13 in ./env/lib/python3.9/site-packages (from httpcore==1.*->httpx<1,>=0.23.0->openai) (0.14.0)\n",
      "Requirement already satisfied: annotated-types>=0.4.0 in ./env/lib/python3.9/site-packages (from pydantic<3,>=1.9.0->openai) (0.7.0)\n",
      "Requirement already satisfied: pydantic-core==2.20.1 in ./env/lib/python3.9/site-packages (from pydantic<3,>=1.9.0->openai) (2.20.1)\n",
      "\u001b[33mWARNING: You are using pip version 21.2.4; however, version 24.2 is available.\n",
      "You should consider upgrading via the '/Users/dusisarathchandra/Documents/Projects/workspaces/zoomcamp-project/cloud-service-helper/env/bin/python3 -m pip install --upgrade pip' command.\u001b[0m\n"
     ]
    }
   ],
   "source": [
    "!pip install U openai"
   ]
  },
  {
   "cell_type": "code",
   "execution_count": 27,
   "metadata": {},
   "outputs": [],
   "source": [
    "import os, sys\n",
    "import lancedb\n",
    "from lancedb.table import Table\n",
    "from openai import OpenAI\n"
   ]
  },
  {
   "cell_type": "code",
   "execution_count": 28,
   "metadata": {},
   "outputs": [],
   "source": [
    "from retrieval import RetrieveContext\n",
    "llm_client = OpenAI(base_url='http://localhost:11434/v1/', api_key='ollama')"
   ]
  },
  {
   "cell_type": "markdown",
   "metadata": {},
   "source": [
    "### Get the context based on the query through vector search using LanceDB"
   ]
  },
  {
   "cell_type": "code",
   "execution_count": 29,
   "metadata": {},
   "outputs": [
    {
     "name": "stdout",
     "output_type": "stream",
     "text": [
      "<src.lance_db.lanceDB object at 0x31f8cf3d0>\n",
      "Getting context from the table\n",
      "table name: vector_db\n",
      "first 5 data:                                          description  \\\n",
      "0  An interactive query service that makes it eas...   \n",
      "1  A managed service in the AWS Cloud that makes ...   \n",
      "2  A web service that makes it easy to process la...   \n",
      "3  A managed service that makes it easy to deploy...   \n",
      "4  A cloud big data platform for processing vast ...   \n",
      "\n",
      "                                  vector_description cloud_provider  \\\n",
      "0  [0.00044248256, -0.0026783892, -0.12139637, 0....            aws   \n",
      "1  [0.00044248256, -0.0026783892, -0.12139637, 0....            aws   \n",
      "2  [0.00044248256, -0.0026783892, -0.12139637, 0....            aws   \n",
      "3  [0.00044248256, -0.0026783892, -0.12139637, 0....            aws   \n",
      "4  [0.00044248256, -0.0026783892, -0.12139637, 0....            aws   \n",
      "\n",
      "                        service   category  \n",
      "0                 Amazon Athena  Analytics  \n",
      "1            Amazon CloudSearch  Analytics  \n",
      "2      Amazon Elastic MapReduce  Analytics  \n",
      "3  Amazon Elasticsearch Service  Analytics  \n",
      "4                    Amazon EMR  Analytics  \n",
      "------------------------------------------\n",
      "\n",
      "\n",
      "Working on query: query that makes it easy to analyze data from S3\n"
     ]
    },
    {
     "data": {
      "text/html": [
       "<div>\n",
       "<style scoped>\n",
       "    .dataframe tbody tr th:only-of-type {\n",
       "        vertical-align: middle;\n",
       "    }\n",
       "\n",
       "    .dataframe tbody tr th {\n",
       "        vertical-align: top;\n",
       "    }\n",
       "\n",
       "    .dataframe thead th {\n",
       "        text-align: right;\n",
       "    }\n",
       "</style>\n",
       "<table border=\"1\" class=\"dataframe\">\n",
       "  <thead>\n",
       "    <tr style=\"text-align: right;\">\n",
       "      <th></th>\n",
       "      <th>description</th>\n",
       "      <th>vector_description</th>\n",
       "      <th>cloud_provider</th>\n",
       "      <th>service</th>\n",
       "      <th>category</th>\n",
       "      <th>_relevance_score</th>\n",
       "    </tr>\n",
       "  </thead>\n",
       "  <tbody>\n",
       "    <tr>\n",
       "      <th>0</th>\n",
       "      <td>An interactive query service that makes it eas...</td>\n",
       "      <td>[0.00044248256, -0.0026783892, -0.12139637, 0....</td>\n",
       "      <td>aws</td>\n",
       "      <td>Amazon Athena</td>\n",
       "      <td>Analytics</td>\n",
       "      <td>0.8</td>\n",
       "    </tr>\n",
       "    <tr>\n",
       "      <th>1</th>\n",
       "      <td>An interactive query service that makes it eas...</td>\n",
       "      <td>[0.00044248256, -0.0026783892, -0.12139637, 0....</td>\n",
       "      <td>aws</td>\n",
       "      <td>Amazon Athena</td>\n",
       "      <td>Analytics</td>\n",
       "      <td>0.8</td>\n",
       "    </tr>\n",
       "    <tr>\n",
       "      <th>2</th>\n",
       "      <td>A managed service in the AWS Cloud that makes ...</td>\n",
       "      <td>[0.00044248256, -0.0026783892, -0.12139637, 0....</td>\n",
       "      <td>aws</td>\n",
       "      <td>Amazon CloudSearch</td>\n",
       "      <td>Analytics</td>\n",
       "      <td>0.8</td>\n",
       "    </tr>\n",
       "    <tr>\n",
       "      <th>3</th>\n",
       "      <td>A web service that makes it easy to process la...</td>\n",
       "      <td>[0.00044248256, -0.0026783892, -0.12139637, 0....</td>\n",
       "      <td>aws</td>\n",
       "      <td>Amazon Elastic MapReduce</td>\n",
       "      <td>Analytics</td>\n",
       "      <td>0.8</td>\n",
       "    </tr>\n",
       "    <tr>\n",
       "      <th>4</th>\n",
       "      <td>A managed service that makes it easy to deploy...</td>\n",
       "      <td>[0.00044248256, -0.0026783892, -0.12139637, 0....</td>\n",
       "      <td>aws</td>\n",
       "      <td>Amazon Elasticsearch Service</td>\n",
       "      <td>Analytics</td>\n",
       "      <td>0.8</td>\n",
       "    </tr>\n",
       "  </tbody>\n",
       "</table>\n",
       "</div>"
      ],
      "text/plain": [
       "                                         description  \\\n",
       "0  An interactive query service that makes it eas...   \n",
       "1  An interactive query service that makes it eas...   \n",
       "2  A managed service in the AWS Cloud that makes ...   \n",
       "3  A web service that makes it easy to process la...   \n",
       "4  A managed service that makes it easy to deploy...   \n",
       "\n",
       "                                  vector_description cloud_provider  \\\n",
       "0  [0.00044248256, -0.0026783892, -0.12139637, 0....            aws   \n",
       "1  [0.00044248256, -0.0026783892, -0.12139637, 0....            aws   \n",
       "2  [0.00044248256, -0.0026783892, -0.12139637, 0....            aws   \n",
       "3  [0.00044248256, -0.0026783892, -0.12139637, 0....            aws   \n",
       "4  [0.00044248256, -0.0026783892, -0.12139637, 0....            aws   \n",
       "\n",
       "                        service   category  _relevance_score  \n",
       "0                 Amazon Athena  Analytics               0.8  \n",
       "1                 Amazon Athena  Analytics               0.8  \n",
       "2            Amazon CloudSearch  Analytics               0.8  \n",
       "3      Amazon Elastic MapReduce  Analytics               0.8  \n",
       "4  Amazon Elasticsearch Service  Analytics               0.8  "
      ]
     },
     "execution_count": 29,
     "metadata": {},
     "output_type": "execute_result"
    }
   ],
   "source": [
    "q = \"query that makes it easy to analyze data from S3\"\n",
    "\n",
    "result_context_df = RetrieveContext().get_context(q)\n",
    "result_context_df"
   ]
  },
  {
   "cell_type": "code",
   "execution_count": 30,
   "metadata": {},
   "outputs": [
    {
     "data": {
      "text/plain": [
       "[{'description': 'An interactive query service that makes it easy to analyze data in Amazon S3 using standard SQL.',\n",
       "  'category': 'Analytics',\n",
       "  'service': 'Amazon Athena',\n",
       "  'cloud_provider': 'aws'},\n",
       " {'description': 'An interactive query service that makes it easy to analyze data in Amazon S3 using standard SQL.',\n",
       "  'category': 'Analytics',\n",
       "  'service': 'Amazon Athena',\n",
       "  'cloud_provider': 'aws'},\n",
       " {'description': 'A managed service in the AWS Cloud that makes it simple to set up manage and scale a search solution for your website or application.',\n",
       "  'category': 'Analytics',\n",
       "  'service': 'Amazon CloudSearch',\n",
       "  'cloud_provider': 'aws'},\n",
       " {'description': 'A web service that makes it easy to process large amounts of data efficiently.',\n",
       "  'category': 'Analytics',\n",
       "  'service': 'Amazon Elastic MapReduce',\n",
       "  'cloud_provider': 'aws'},\n",
       " {'description': 'A managed service that makes it easy to deploy operate and scale Elasticsearch clusters in the AWS Cloud.',\n",
       "  'category': 'Analytics',\n",
       "  'service': 'Amazon Elasticsearch Service',\n",
       "  'cloud_provider': 'aws'}]"
      ]
     },
     "execution_count": 30,
     "metadata": {},
     "output_type": "execute_result"
    }
   ],
   "source": [
    "selected_columns_df = result_context_df[['description', 'category', 'service', 'cloud_provider']]\n",
    "selected_columns_df.to_dict(orient='records')"
   ]
  },
  {
   "cell_type": "code",
   "execution_count": 31,
   "metadata": {},
   "outputs": [],
   "source": [
    "def build_prompt(query, search_results):\n",
    "    prompt_template = \"\"\"\n",
    "You're a cloud asset category finder. Answer the DESCRIPTION based on the CONTEXT.\n",
    "Use only the facts from the CONTEXT when answering the DESCRIPTION. Generate a short answer by saying `Service likely falls under the category: and LIKELY SERVICE IS:` \n",
    "while returing response consider sending only `answer` & full name of the `service`.\n",
    "\n",
    "DESCRIPTION: {question}\n",
    "\n",
    "CONTEXT: \n",
    "{context}\n",
    "\"\"\".strip()\n",
    "\n",
    "    context = \"\"\n",
    "    \n",
    "    for doc in search_results:\n",
    "        context = context + f\"answer: {doc['category']}\\nservice: {doc['service']}\\ndescription: {doc['description']}\\ncloud_provider: {doc['cloud_provider']}\\n\\n\"\n",
    "    \n",
    "    prompt = prompt_template.format(question=query, context=context).strip()\n",
    "    return prompt"
   ]
  },
  {
   "cell_type": "markdown",
   "metadata": {},
   "source": [
    "## Create a build prompt with context"
   ]
  },
  {
   "cell_type": "code",
   "execution_count": 32,
   "metadata": {},
   "outputs": [
    {
     "name": "stdout",
     "output_type": "stream",
     "text": [
      "You're a cloud asset category finder. Answer the DESCRIPTION based on the CONTEXT.\n",
      "Use only the facts from the CONTEXT when answering the DESCRIPTION. Generate a short answer by saying `Service likely falls under the category: and LIKELY SERVICE IS:` \n",
      "while returing response consider sending only `answer` & full name of the `service`.\n",
      "\n",
      "DESCRIPTION: query that makes it easy to analyze data from S3\n",
      "\n",
      "CONTEXT: \n",
      "answer: Analytics\n",
      "service: Amazon Athena\n",
      "description: An interactive query service that makes it easy to analyze data in Amazon S3 using standard SQL.\n",
      "cloud_provider: aws\n",
      "\n",
      "answer: Analytics\n",
      "service: Amazon Athena\n",
      "description: An interactive query service that makes it easy to analyze data in Amazon S3 using standard SQL.\n",
      "cloud_provider: aws\n",
      "\n",
      "answer: Analytics\n",
      "service: Amazon CloudSearch\n",
      "description: A managed service in the AWS Cloud that makes it simple to set up manage and scale a search solution for your website or application.\n",
      "cloud_provider: aws\n",
      "\n",
      "answer: Analytics\n",
      "service: Amazon Elastic MapReduce\n",
      "description: A web service that makes it easy to process large amounts of data efficiently.\n",
      "cloud_provider: aws\n",
      "\n",
      "answer: Analytics\n",
      "service: Amazon Elasticsearch Service\n",
      "description: A managed service that makes it easy to deploy operate and scale Elasticsearch clusters in the AWS Cloud.\n",
      "cloud_provider: aws\n"
     ]
    }
   ],
   "source": [
    "prompt = build_prompt(q, selected_columns_df.to_dict(orient='records'))\n",
    "print(prompt.strip())"
   ]
  },
  {
   "cell_type": "code",
   "execution_count": 33,
   "metadata": {},
   "outputs": [],
   "source": [
    "def ollama_llm(prompt):\n",
    "    response = llm_client.chat.completions.create(\n",
    "        model='gemma2:2b',\n",
    "        messages=[{\"role\": \"user\", \"content\": prompt}]\n",
    "    )\n",
    "    return response.choices[0].message.content"
   ]
  },
  {
   "cell_type": "markdown",
   "metadata": {},
   "source": [
    "## Feed the prompt to llm to generate results"
   ]
  },
  {
   "cell_type": "code",
   "execution_count": 34,
   "metadata": {},
   "outputs": [
    {
     "name": "stdout",
     "output_type": "stream",
     "text": [
      "Service likely falls under the category: **Analysis** \n",
      "and LIKELY SERVICE IS: Amazon Athena\n"
     ]
    }
   ],
   "source": [
    "result = ollama_llm(prompt=prompt)\n",
    "print(result.strip())"
   ]
  },
  {
   "cell_type": "markdown",
   "metadata": {},
   "source": [
    "## Adding everything to a RAG flow"
   ]
  },
  {
   "cell_type": "code",
   "execution_count": 35,
   "metadata": {},
   "outputs": [],
   "source": [
    "def rag(query):\n",
    "    search_results = RetrieveContext().get_context(query)[['description', 'category', 'service', 'cloud_provider']].to_dict(orient='records')\n",
    "    print(\"**************************************\")\n",
    "    prompt = build_prompt(query, search_results)\n",
    "    print(prompt)\n",
    "    answer = ollama_llm(prompt)\n",
    "    return answer"
   ]
  },
  {
   "cell_type": "code",
   "execution_count": 36,
   "metadata": {},
   "outputs": [
    {
     "name": "stdout",
     "output_type": "stream",
     "text": [
      "<src.lance_db.lanceDB object at 0x31f8c3b80>\n",
      "Getting context from the table\n",
      "table name: vector_db\n",
      "first 5 data:                                          description  \\\n",
      "0  An interactive query service that makes it eas...   \n",
      "1  A managed service in the AWS Cloud that makes ...   \n",
      "2  A web service that makes it easy to process la...   \n",
      "3  A managed service that makes it easy to deploy...   \n",
      "4  A cloud big data platform for processing vast ...   \n",
      "\n",
      "                                  vector_description cloud_provider  \\\n",
      "0  [0.00044248256, -0.0026783892, -0.12139637, 0....            aws   \n",
      "1  [0.00044248256, -0.0026783892, -0.12139637, 0....            aws   \n",
      "2  [0.00044248256, -0.0026783892, -0.12139637, 0....            aws   \n",
      "3  [0.00044248256, -0.0026783892, -0.12139637, 0....            aws   \n",
      "4  [0.00044248256, -0.0026783892, -0.12139637, 0....            aws   \n",
      "\n",
      "                        service   category  \n",
      "0                 Amazon Athena  Analytics  \n",
      "1            Amazon CloudSearch  Analytics  \n",
      "2      Amazon Elastic MapReduce  Analytics  \n",
      "3  Amazon Elasticsearch Service  Analytics  \n",
      "4                    Amazon EMR  Analytics  \n",
      "------------------------------------------\n",
      "\n",
      "\n",
      "Working on query: analyze genomic data.\n",
      "**************************************\n",
      "You're a cloud asset category finder. Answer the DESCRIPTION based on the CONTEXT.\n",
      "Use only the facts from the CONTEXT when answering the DESCRIPTION. Generate a short answer by saying `Service likely falls under the category: and LIKELY SERVICE IS:` \n",
      "while returing response consider sending only `answer` & full name of the `service`.\n",
      "\n",
      "DESCRIPTION: analyze genomic data.\n",
      "\n",
      "CONTEXT: \n",
      "answer: Analytics\n",
      "service: Genomics\n",
      "description: Service for processing and analyzing genomic data.\n",
      "cloud_provider: gcp\n",
      "\n",
      "answer: Analytics\n",
      "service: Amazon Athena\n",
      "description: An interactive query service that makes it easy to analyze data in Amazon S3 using standard SQL.\n",
      "cloud_provider: aws\n",
      "\n",
      "answer: Analytics\n",
      "service: Amazon CloudSearch\n",
      "description: A managed service in the AWS Cloud that makes it simple to set up manage and scale a search solution for your website or application.\n",
      "cloud_provider: aws\n",
      "\n",
      "answer: Analytics\n",
      "service: Amazon Elastic MapReduce\n",
      "description: A web service that makes it easy to process large amounts of data efficiently.\n",
      "cloud_provider: aws\n",
      "\n",
      "answer: Analytics\n",
      "service: Amazon Elasticsearch Service\n",
      "description: A managed service that makes it easy to deploy operate and scale Elasticsearch clusters in the AWS Cloud.\n",
      "cloud_provider: aws\n",
      "Service likely falls under the category: **Analytics**\n",
      "and LIKELY SERVICE IS:  **Genomics**\n"
     ]
    }
   ],
   "source": [
    "query = \"analyze genomic data.\"\n",
    "response = rag(query)\n",
    "print(response.strip())"
   ]
  },
  {
   "cell_type": "code",
   "execution_count": null,
   "metadata": {},
   "outputs": [],
   "source": []
  }
 ],
 "metadata": {
  "kernelspec": {
   "display_name": "env",
   "language": "python",
   "name": "python3"
  },
  "language_info": {
   "codemirror_mode": {
    "name": "ipython",
    "version": 3
   },
   "file_extension": ".py",
   "mimetype": "text/x-python",
   "name": "python",
   "nbconvert_exporter": "python",
   "pygments_lexer": "ipython3",
   "version": "3.9.6"
  }
 },
 "nbformat": 4,
 "nbformat_minor": 2
}
