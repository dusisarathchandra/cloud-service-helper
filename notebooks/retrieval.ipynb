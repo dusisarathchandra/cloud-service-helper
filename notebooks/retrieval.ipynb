{
 "cells": [
  {
   "cell_type": "code",
   "execution_count": 119,
   "metadata": {},
   "outputs": [
    {
     "name": "stdout",
     "output_type": "stream",
     "text": [
      "Requirement already satisfied: lancedb in /Users/dusisarathchandra/Documents/Projects/workspaces/zoomcamp-project/cloud-service-helper/env/lib/python3.9/site-packages (0.12.0)\n",
      "Requirement already satisfied: retry>=0.9.2 in /Users/dusisarathchandra/Documents/Projects/workspaces/zoomcamp-project/cloud-service-helper/env/lib/python3.9/site-packages (from lancedb) (0.9.2)\n",
      "Requirement already satisfied: attrs>=21.3.0 in /Users/dusisarathchandra/Documents/Projects/workspaces/zoomcamp-project/cloud-service-helper/env/lib/python3.9/site-packages (from lancedb) (24.2.0)\n",
      "Requirement already satisfied: pylance==0.16.0 in /Users/dusisarathchandra/Documents/Projects/workspaces/zoomcamp-project/cloud-service-helper/env/lib/python3.9/site-packages (from lancedb) (0.16.0)\n",
      "Requirement already satisfied: overrides>=0.7 in /Users/dusisarathchandra/Documents/Projects/workspaces/zoomcamp-project/cloud-service-helper/env/lib/python3.9/site-packages (from lancedb) (7.7.0)\n",
      "Requirement already satisfied: packaging in /Users/dusisarathchandra/Documents/Projects/workspaces/zoomcamp-project/cloud-service-helper/env/lib/python3.9/site-packages (from lancedb) (24.1)\n",
      "Requirement already satisfied: deprecation in /Users/dusisarathchandra/Documents/Projects/workspaces/zoomcamp-project/cloud-service-helper/env/lib/python3.9/site-packages (from lancedb) (2.1.0)\n",
      "Requirement already satisfied: cachetools in /Users/dusisarathchandra/Documents/Projects/workspaces/zoomcamp-project/cloud-service-helper/env/lib/python3.9/site-packages (from lancedb) (5.5.0)\n",
      "Requirement already satisfied: pydantic>=1.10 in /Users/dusisarathchandra/Documents/Projects/workspaces/zoomcamp-project/cloud-service-helper/env/lib/python3.9/site-packages (from lancedb) (2.8.2)\n",
      "Requirement already satisfied: tqdm>=4.27.0 in /Users/dusisarathchandra/Documents/Projects/workspaces/zoomcamp-project/cloud-service-helper/env/lib/python3.9/site-packages (from lancedb) (4.66.5)\n",
      "Requirement already satisfied: requests>=2.31.0 in /Users/dusisarathchandra/Documents/Projects/workspaces/zoomcamp-project/cloud-service-helper/env/lib/python3.9/site-packages (from lancedb) (2.32.3)\n",
      "Requirement already satisfied: ratelimiter~=1.0 in /Users/dusisarathchandra/Documents/Projects/workspaces/zoomcamp-project/cloud-service-helper/env/lib/python3.9/site-packages (from lancedb) (1.2.0.post0)\n",
      "Requirement already satisfied: numpy<2,>=1.22 in /Users/dusisarathchandra/Documents/Projects/workspaces/zoomcamp-project/cloud-service-helper/env/lib/python3.9/site-packages (from pylance==0.16.0->lancedb) (1.26.4)\n",
      "Requirement already satisfied: pyarrow>=12 in /Users/dusisarathchandra/Documents/Projects/workspaces/zoomcamp-project/cloud-service-helper/env/lib/python3.9/site-packages (from pylance==0.16.0->lancedb) (17.0.0)\n",
      "Requirement already satisfied: annotated-types>=0.4.0 in /Users/dusisarathchandra/Documents/Projects/workspaces/zoomcamp-project/cloud-service-helper/env/lib/python3.9/site-packages (from pydantic>=1.10->lancedb) (0.7.0)\n",
      "Requirement already satisfied: typing-extensions>=4.6.1 in /Users/dusisarathchandra/Documents/Projects/workspaces/zoomcamp-project/cloud-service-helper/env/lib/python3.9/site-packages (from pydantic>=1.10->lancedb) (4.12.2)\n",
      "Requirement already satisfied: pydantic-core==2.20.1 in /Users/dusisarathchandra/Documents/Projects/workspaces/zoomcamp-project/cloud-service-helper/env/lib/python3.9/site-packages (from pydantic>=1.10->lancedb) (2.20.1)\n",
      "Requirement already satisfied: charset-normalizer<4,>=2 in /Users/dusisarathchandra/Documents/Projects/workspaces/zoomcamp-project/cloud-service-helper/env/lib/python3.9/site-packages (from requests>=2.31.0->lancedb) (3.3.2)\n",
      "Requirement already satisfied: certifi>=2017.4.17 in /Users/dusisarathchandra/Documents/Projects/workspaces/zoomcamp-project/cloud-service-helper/env/lib/python3.9/site-packages (from requests>=2.31.0->lancedb) (2024.8.30)\n",
      "Requirement already satisfied: idna<4,>=2.5 in /Users/dusisarathchandra/Documents/Projects/workspaces/zoomcamp-project/cloud-service-helper/env/lib/python3.9/site-packages (from requests>=2.31.0->lancedb) (3.8)\n",
      "Requirement already satisfied: urllib3<3,>=1.21.1 in /Users/dusisarathchandra/Documents/Projects/workspaces/zoomcamp-project/cloud-service-helper/env/lib/python3.9/site-packages (from requests>=2.31.0->lancedb) (2.2.2)\n",
      "Requirement already satisfied: py<2.0.0,>=1.4.26 in /Users/dusisarathchandra/Documents/Projects/workspaces/zoomcamp-project/cloud-service-helper/env/lib/python3.9/site-packages (from retry>=0.9.2->lancedb) (1.11.0)\n",
      "Requirement already satisfied: decorator>=3.4.2 in /Users/dusisarathchandra/Documents/Projects/workspaces/zoomcamp-project/cloud-service-helper/env/lib/python3.9/site-packages (from retry>=0.9.2->lancedb) (5.1.1)\n",
      "\u001b[33mWARNING: You are using pip version 21.2.4; however, version 24.2 is available.\n",
      "You should consider upgrading via the '/Users/dusisarathchandra/Documents/Projects/workspaces/zoomcamp-project/cloud-service-helper/env/bin/python3 -m pip install --upgrade pip' command.\u001b[0m\n"
     ]
    }
   ],
   "source": [
    "!pip install lancedb"
   ]
  },
  {
   "cell_type": "code",
   "execution_count": 120,
   "metadata": {},
   "outputs": [
    {
     "name": "stdout",
     "output_type": "stream",
     "text": [
      "Requirement already satisfied: tantivy in /Users/dusisarathchandra/Documents/Projects/workspaces/zoomcamp-project/cloud-service-helper/env/lib/python3.9/site-packages (0.22.0)\n",
      "\u001b[33mWARNING: You are using pip version 21.2.4; however, version 24.2 is available.\n",
      "You should consider upgrading via the '/Users/dusisarathchandra/Documents/Projects/workspaces/zoomcamp-project/cloud-service-helper/env/bin/python3 -m pip install --upgrade pip' command.\u001b[0m\n"
     ]
    }
   ],
   "source": [
    "!pip install tantivy"
   ]
  },
  {
   "cell_type": "markdown",
   "metadata": {},
   "source": [
    "### Required libraries"
   ]
  },
  {
   "cell_type": "code",
   "execution_count": 121,
   "metadata": {},
   "outputs": [
    {
     "name": "stdout",
     "output_type": "stream",
     "text": [
      "['/Library/Developer/CommandLineTools/Library/Frameworks/Python3.framework/Versions/3.9/lib/python39.zip', '/Library/Developer/CommandLineTools/Library/Frameworks/Python3.framework/Versions/3.9/lib/python3.9', '/Library/Developer/CommandLineTools/Library/Frameworks/Python3.framework/Versions/3.9/lib/python3.9/lib-dynload', '', '/Users/dusisarathchandra/Documents/Projects/workspaces/zoomcamp-project/cloud-service-helper/env/lib/python3.9/site-packages', '/Users/dusisarathchandra/Documents/Projects/workspaces/zoomcamp-project/cloud-service-helper', '/Users/dusisarathchandra/Documents/Projects/workspaces/zoomcamp-project/cloud-service-helper', '/Users/dusisarathchandra/Documents/Projects/workspaces/zoomcamp-project/cloud-service-helper', '/Users/dusisarathchandra/Documents/Projects/workspaces/zoomcamp-project/cloud-service-helper', '/Users/dusisarathchandra/Documents/Projects/workspaces/zoomcamp-project/cloud-service-helper']\n"
     ]
    }
   ],
   "source": [
    "import lancedb\n",
    "import pandas as pd\n",
    "import pyarrow as pa\n",
    "import sys,os\n",
    "module_path = os.path.abspath(os.getcwd() + '../../')\n",
    "sys.path.append(module_path)\n",
    "print(sys.path)\n",
    "os.getcwd()\n",
    "from src.constants import LANCEDB_DICT, EMBEDDINGS_DICT\n",
    "from sentence_transformers import SentenceTransformer\n",
    "from lancedb.embeddings import get_registry\n",
    "from lancedb.embeddings.sentence_transformers import SentenceTransformerEmbeddings\n",
    "from lancedb.pydantic import LanceModel, Vector"
   ]
  },
  {
   "cell_type": "code",
   "execution_count": 122,
   "metadata": {},
   "outputs": [
    {
     "name": "stdout",
     "output_type": "stream",
     "text": [
      "cloud_service_knowledge_base/vector_db\n"
     ]
    }
   ],
   "source": [
    "print(LANCEDB_DICT.get('uri'))"
   ]
  },
  {
   "cell_type": "markdown",
   "metadata": {},
   "source": [
    "### Create a Database class which takes care of vector database functions"
   ]
  },
  {
   "cell_type": "code",
   "execution_count": 123,
   "metadata": {},
   "outputs": [],
   "source": [
    "\n",
    "class lanceDB:\n",
    "    def __init__(self, uri):\n",
    "        self.uri = uri\n",
    "        self.db = lancedb.connect(uri)\n",
    "\n",
    "    def create_table(self, table_name, schema=None, mode=\"overwrite\"):\n",
    "        print(f\"Creating table: {table_name}\")\n",
    "        print(f\"mode is {mode}\")\n",
    "        return self.db.create_table(table_name, schema=schema, mode=mode)\n",
    "\n",
    "    def insert(self, table_name, data):\n",
    "        self.db.add(table_name, data)\n",
    "\n",
    "    def query(self, query):\n",
    "        return self.db.query(query)\n",
    "\n",
    "    def close(self):\n",
    "        self.db.close()\n",
    "        self.async_db.close()\n",
    "    def table_names(self):\n",
    "        return self.db.table_names()\n"
   ]
  },
  {
   "cell_type": "markdown",
   "metadata": {},
   "source": [
    "### Initiate LanceDB Connection"
   ]
  },
  {
   "cell_type": "code",
   "execution_count": 124,
   "metadata": {},
   "outputs": [
    {
     "name": "stdout",
     "output_type": "stream",
     "text": [
      "['vector_db']\n"
     ]
    }
   ],
   "source": [
    "db = lanceDB(uri=LANCEDB_DICT.get('uri'))\n",
    "print(db.table_names())\n"
   ]
  },
  {
   "cell_type": "markdown",
   "metadata": {},
   "source": [
    "### Locally Load the sentence transformer model"
   ]
  },
  {
   "cell_type": "code",
   "execution_count": 125,
   "metadata": {},
   "outputs": [
    {
     "name": "stderr",
     "output_type": "stream",
     "text": [
      "/Users/dusisarathchandra/Documents/Projects/workspaces/zoomcamp-project/cloud-service-helper/env/lib/python3.9/site-packages/transformers/tokenization_utils_base.py:1601: FutureWarning: `clean_up_tokenization_spaces` was not set. It will be set to `True` by default. This behavior will be depracted in transformers v4.45, and will be then set to `False` by default. For more details check this issue: https://github.com/huggingface/transformers/issues/31884\n",
      "  warnings.warn(\n"
     ]
    }
   ],
   "source": [
    "model_name = EMBEDDINGS_DICT.get('model_name')\n",
    "device = EMBEDDINGS_DICT.get('device')\n",
    "model = SentenceTransformer(model_name, device=device)"
   ]
  },
  {
   "cell_type": "markdown",
   "metadata": {},
   "source": [
    "#### Verfiy the embeddings"
   ]
  },
  {
   "cell_type": "code",
   "execution_count": 126,
   "metadata": {},
   "outputs": [
    {
     "data": {
      "text/plain": [
       "array([ 6.76568672e-02,  6.34958893e-02,  4.87131067e-02,  7.93049783e-02,\n",
       "        3.74480560e-02,  2.65278690e-03,  3.93749177e-02, -7.09835812e-03,\n",
       "        5.93614504e-02,  3.15369740e-02,  6.00980707e-02, -5.29051721e-02,\n",
       "        4.06068228e-02, -2.59308200e-02,  2.98427045e-02,  1.12690218e-03,\n",
       "        7.35148787e-02, -5.03818206e-02, -1.22386619e-01,  2.37028264e-02,\n",
       "        2.97266264e-02,  4.24768180e-02,  2.56337617e-02,  1.99509831e-03,\n",
       "       -5.69191240e-02, -2.71598697e-02, -3.29036377e-02,  6.60248548e-02,\n",
       "        1.19007245e-01, -4.58791889e-02, -7.26215094e-02, -3.25840972e-02,\n",
       "        5.23412935e-02,  4.50552851e-02,  8.25296901e-03,  3.67024280e-02,\n",
       "       -1.39415357e-02,  6.53919131e-02, -2.64271721e-02,  2.06365905e-04,\n",
       "       -1.36643983e-02, -3.62809487e-02, -1.95043124e-02, -2.89738476e-02,\n",
       "        3.94270532e-02, -8.84091482e-02,  2.62422091e-03,  1.36713963e-02,\n",
       "        4.83062230e-02, -3.11565585e-02, -1.17329203e-01, -5.11690043e-02,\n",
       "       -8.85288417e-02, -2.18962431e-02,  1.42985880e-02,  4.44167741e-02,\n",
       "       -1.34815145e-02,  7.43392408e-02,  2.66382713e-02, -1.98762305e-02,\n",
       "        1.79191176e-02, -1.06052076e-02, -9.04263332e-02,  2.13269219e-02,\n",
       "        1.41204804e-01, -6.47178013e-03, -1.40376564e-03, -1.53609840e-02,\n",
       "       -8.73571932e-02,  7.22174421e-02,  2.01403126e-02,  4.25587334e-02,\n",
       "       -3.49013731e-02,  3.19621147e-04, -8.02970380e-02, -3.27471867e-02,\n",
       "        2.85268575e-02, -5.13657890e-02,  1.09389193e-01,  8.19327906e-02,\n",
       "       -9.84040126e-02, -9.34094936e-02, -1.51291927e-02,  4.51248698e-02,\n",
       "        4.94172797e-02, -2.51867548e-02,  1.57077517e-02, -1.29290685e-01,\n",
       "        5.31890662e-03,  4.02340433e-03, -2.34572385e-02, -6.72983378e-02,\n",
       "        2.92280279e-02, -2.60845348e-02,  1.30624054e-02, -3.11663207e-02,\n",
       "       -4.82714064e-02, -5.58859706e-02, -3.87505107e-02,  1.20010823e-01,\n",
       "       -1.03924228e-02,  4.89704832e-02,  5.53537309e-02,  4.49357890e-02,\n",
       "       -4.00977628e-03, -1.02959722e-01, -2.92968675e-02, -5.83402030e-02,\n",
       "        2.70472486e-02, -2.20169555e-02, -7.22242519e-02, -4.13870141e-02,\n",
       "       -1.93298645e-02,  2.73323548e-03,  2.77005456e-04, -9.67588499e-02,\n",
       "       -1.00574769e-01, -1.41923083e-02, -8.07891488e-02,  4.53924760e-02,\n",
       "        2.45041195e-02,  5.97613975e-02, -7.38185495e-02,  1.19843371e-02,\n",
       "       -6.63403720e-02, -7.69044608e-02,  3.85157652e-02, -5.59362550e-33,\n",
       "        2.80013662e-02, -5.60784824e-02, -4.86601330e-02,  2.15570256e-02,\n",
       "        6.01980127e-02, -4.81403135e-02, -3.50247175e-02,  1.93313994e-02,\n",
       "       -1.75151564e-02, -3.89210619e-02, -3.81056918e-03, -1.70288198e-02,\n",
       "        2.82100160e-02,  1.28290495e-02,  4.71601635e-02,  6.21028990e-02,\n",
       "       -6.43588826e-02,  1.29285574e-01, -1.31231742e-02,  5.23069799e-02,\n",
       "       -3.73680890e-02,  2.89093684e-02, -1.68980639e-02, -2.37329714e-02,\n",
       "       -3.33492197e-02, -5.16762137e-02,  1.55357039e-02,  2.08803602e-02,\n",
       "       -1.25372857e-02,  4.59579229e-02,  3.72720249e-02,  2.80566290e-02,\n",
       "       -5.90005443e-02, -1.16988607e-02,  4.92182150e-02,  4.70328927e-02,\n",
       "        7.35487193e-02, -3.70528884e-02,  3.98466550e-03,  1.06411818e-02,\n",
       "       -1.61622898e-04, -5.27166426e-02,  2.75927857e-02, -3.92921269e-02,\n",
       "        8.44717100e-02,  4.86860760e-02, -4.85864654e-03,  1.79948509e-02,\n",
       "       -4.28570025e-02,  1.23376111e-02,  6.39964081e-03,  4.04822603e-02,\n",
       "        1.48887634e-02, -1.53941270e-02,  7.62947649e-02,  2.37044189e-02,\n",
       "        4.45236973e-02,  5.08195385e-02, -2.31246301e-03, -1.88736785e-02,\n",
       "       -1.23334983e-02,  4.66002412e-02, -5.63436896e-02,  6.29926100e-02,\n",
       "       -3.15534584e-02,  3.24912556e-02,  2.34672520e-02, -6.55438676e-02,\n",
       "        2.01709047e-02,  2.57082209e-02, -1.23868398e-02, -8.36496986e-03,\n",
       "       -6.64377734e-02,  9.43073183e-02, -3.57093103e-02, -3.42482924e-02,\n",
       "       -6.66357856e-03, -8.01521353e-03, -3.09711639e-02,  4.33013067e-02,\n",
       "       -8.21402483e-03, -1.50795117e-01,  3.07691265e-02,  4.00719605e-02,\n",
       "       -3.79293971e-02,  1.93215592e-03,  4.00530547e-02, -8.77075046e-02,\n",
       "       -3.68491039e-02,  8.57952610e-03, -3.19251716e-02, -1.25257513e-02,\n",
       "        7.35540390e-02,  1.34740758e-03,  2.05918886e-02,  2.71098183e-33,\n",
       "       -5.18576577e-02,  5.78360707e-02, -9.18985084e-02,  3.94422263e-02,\n",
       "        1.05576538e-01, -1.96912289e-02,  6.18402734e-02, -7.63465762e-02,\n",
       "        2.40880363e-02,  9.40048620e-02, -1.16535410e-01,  3.71198542e-02,\n",
       "        5.22425808e-02, -3.95856565e-03,  5.72214685e-02,  5.32864407e-03,\n",
       "        1.24016821e-01,  1.39022619e-02, -1.10249901e-02,  3.56053524e-02,\n",
       "       -3.30754891e-02,  8.16574097e-02, -1.52003886e-02,  6.05585165e-02,\n",
       "       -6.01396859e-02,  3.26102749e-02, -3.48296762e-02, -1.69882644e-02,\n",
       "       -9.74907354e-02, -2.71483976e-02,  1.74719095e-03, -7.68982321e-02,\n",
       "       -4.31858674e-02, -1.89984180e-02, -2.91660912e-02,  5.77489138e-02,\n",
       "        2.41821520e-02, -1.16903074e-02, -6.21434338e-02,  2.84350906e-02,\n",
       "       -2.37540342e-04, -2.51783878e-02,  4.39645769e-03,  8.12840611e-02,\n",
       "        3.64184156e-02, -6.04006425e-02, -3.65517773e-02, -7.93748200e-02,\n",
       "       -5.08525549e-03,  6.69699758e-02, -1.17784373e-01,  3.23743634e-02,\n",
       "       -4.71252762e-02, -1.34460535e-02, -9.48444754e-02,  8.24949425e-03,\n",
       "       -1.06749153e-02, -6.81882128e-02,  1.11822761e-03,  2.48020478e-02,\n",
       "       -6.35889173e-02,  2.84494013e-02, -2.61303056e-02,  8.58110562e-02,\n",
       "        1.14682302e-01, -5.35345264e-02, -5.63588925e-02,  4.26008850e-02,\n",
       "        1.09453732e-02,  2.09578574e-02,  1.00131199e-01,  3.26051414e-02,\n",
       "       -1.84208736e-01, -3.93208303e-02, -6.91455156e-02, -6.38105273e-02,\n",
       "       -6.56385645e-02, -6.41258387e-03, -4.79613133e-02, -7.68133476e-02,\n",
       "        2.95385215e-02, -2.29948834e-02,  4.17036526e-02, -2.50048414e-02,\n",
       "       -4.54508932e-03, -4.17136811e-02, -1.32289790e-02, -6.38357252e-02,\n",
       "       -2.46477057e-03, -1.37337586e-02,  1.68976113e-02, -6.30398393e-02,\n",
       "        8.98880661e-02,  4.18170355e-02, -1.85687486e-02, -1.80442150e-08,\n",
       "       -1.67998150e-02, -3.21578234e-02,  6.30383939e-02, -4.13091928e-02,\n",
       "        4.44818772e-02,  2.02463777e-03,  6.29593134e-02, -5.17370272e-03,\n",
       "       -1.00444062e-02, -3.05640250e-02,  3.52672115e-02,  5.58581352e-02,\n",
       "       -4.67124544e-02,  3.45102586e-02,  3.29578780e-02,  4.30114493e-02,\n",
       "        2.94361617e-02, -3.03164683e-02, -1.71107724e-02,  7.37484097e-02,\n",
       "       -5.47909737e-02,  2.77515575e-02,  6.20165467e-03,  1.58800669e-02,\n",
       "        3.42978872e-02, -5.15750051e-03,  2.35080142e-02,  7.53135011e-02,\n",
       "        1.92843508e-02,  3.36197391e-02,  5.09103276e-02,  1.52497053e-01,\n",
       "        1.64207183e-02,  2.70528961e-02,  3.75162996e-02,  2.18554307e-02,\n",
       "        5.66334054e-02, -3.95747125e-02,  7.12312832e-02, -5.41377328e-02,\n",
       "        1.03774341e-03,  2.11853758e-02, -3.56309339e-02,  1.09016918e-01,\n",
       "        2.76540057e-03,  3.13997455e-02,  1.38425361e-03, -3.45738418e-02,\n",
       "       -4.59277853e-02,  2.88083237e-02,  7.16897100e-03,  4.84684967e-02,\n",
       "        2.61018537e-02, -9.44065023e-03,  2.82169525e-02,  3.48724462e-02,\n",
       "        3.69099192e-02, -8.58947448e-03, -3.53204943e-02, -2.47857012e-02,\n",
       "       -1.91920716e-02,  3.80708463e-02,  5.99654056e-02, -4.22287807e-02],\n",
       "      dtype=float32)"
      ]
     },
     "execution_count": 126,
     "metadata": {},
     "output_type": "execute_result"
    }
   ],
   "source": [
    "sentences = [\"This is an example sentence\", \"Each sentence is converted\"]\n",
    "embeddings = model.encode(sentences)\n",
    "embeddings[0]\n"
   ]
  },
  {
   "cell_type": "code",
   "execution_count": 127,
   "metadata": {},
   "outputs": [
    {
     "data": {
      "text/plain": [
       "384"
      ]
     },
     "execution_count": 127,
     "metadata": {},
     "output_type": "execute_result"
    }
   ],
   "source": [
    "# dimensions of the vector embeddings\n",
    "len(embeddings[0])"
   ]
  },
  {
   "cell_type": "code",
   "execution_count": 128,
   "metadata": {},
   "outputs": [
    {
     "name": "stdout",
     "output_type": "stream",
     "text": [
      "384\n"
     ]
    }
   ],
   "source": [
    "print(EMBEDDINGS_DICT.get('vector_dims')) # setting this to default under constants"
   ]
  },
  {
   "cell_type": "markdown",
   "metadata": {},
   "source": [
    "### Load LanceDB embedder"
   ]
  },
  {
   "cell_type": "code",
   "execution_count": 129,
   "metadata": {},
   "outputs": [],
   "source": [
    "# calling the lanceDB embedding functions in the registry\n",
    "# Using `sentence-transformers` as the model registry\n",
    "model_registry = get_registry().get(\"sentence-transformers\")\n",
    "model = model_registry.create(name=model_name, device=device)"
   ]
  },
  {
   "cell_type": "markdown",
   "metadata": {},
   "source": [
    "### Define the schema for the table"
   ]
  },
  {
   "cell_type": "code",
   "execution_count": 130,
   "metadata": {},
   "outputs": [],
   "source": [
    "class CloudServiceInestionDataModel(LanceModel):\n",
    "    description: str = model.SourceField()\n",
    "    vector_description: Vector(dim=model.ndims()) = model.VectorField()\n",
    "    cloud_provider: str\n",
    "    service: str\n",
    "    category: str =  model.SourceField(),\n",
    "    id: str\n",
    "    class Config:\n",
    "        arbitrary_types_allowed = True"
   ]
  },
  {
   "cell_type": "markdown",
   "metadata": {},
   "source": [
    "#### Read the dataset as a Pandas Dataframe"
   ]
  },
  {
   "cell_type": "code",
   "execution_count": 131,
   "metadata": {},
   "outputs": [],
   "source": [
    "df = pd.read_csv('../data/Cloud_Provider_Services_Hashed.csv')"
   ]
  },
  {
   "cell_type": "code",
   "execution_count": 132,
   "metadata": {},
   "outputs": [
    {
     "data": {
      "text/html": [
       "<div>\n",
       "<style scoped>\n",
       "    .dataframe tbody tr th:only-of-type {\n",
       "        vertical-align: middle;\n",
       "    }\n",
       "\n",
       "    .dataframe tbody tr th {\n",
       "        vertical-align: top;\n",
       "    }\n",
       "\n",
       "    .dataframe thead th {\n",
       "        text-align: right;\n",
       "    }\n",
       "</style>\n",
       "<table border=\"1\" class=\"dataframe\">\n",
       "  <thead>\n",
       "    <tr style=\"text-align: right;\">\n",
       "      <th></th>\n",
       "      <th>cloud_provider</th>\n",
       "      <th>category</th>\n",
       "      <th>service</th>\n",
       "      <th>description</th>\n",
       "      <th>id</th>\n",
       "    </tr>\n",
       "  </thead>\n",
       "  <tbody>\n",
       "    <tr>\n",
       "      <th>1297</th>\n",
       "      <td>oci</td>\n",
       "      <td>Network</td>\n",
       "      <td>Network</td>\n",
       "      <td>Network services</td>\n",
       "      <td>764bbda4</td>\n",
       "    </tr>\n",
       "    <tr>\n",
       "      <th>1298</th>\n",
       "      <td>oci</td>\n",
       "      <td>Network</td>\n",
       "      <td>Load balancers</td>\n",
       "      <td>Load balancer service</td>\n",
       "      <td>b8c4e52d</td>\n",
       "    </tr>\n",
       "    <tr>\n",
       "      <th>1299</th>\n",
       "      <td>oci</td>\n",
       "      <td>Network</td>\n",
       "      <td>Virtual cloud networks</td>\n",
       "      <td>Virtual cloud networks</td>\n",
       "      <td>915f0790</td>\n",
       "    </tr>\n",
       "    <tr>\n",
       "      <th>1300</th>\n",
       "      <td>oci</td>\n",
       "      <td>Network</td>\n",
       "      <td>Dns management</td>\n",
       "      <td>DNS management service</td>\n",
       "      <td>fe08c585</td>\n",
       "    </tr>\n",
       "    <tr>\n",
       "      <th>1301</th>\n",
       "      <td>oci</td>\n",
       "      <td>Network</td>\n",
       "      <td>Fast connect</td>\n",
       "      <td>Fast connect service</td>\n",
       "      <td>3c3f1427</td>\n",
       "    </tr>\n",
       "  </tbody>\n",
       "</table>\n",
       "</div>"
      ],
      "text/plain": [
       "     cloud_provider category                 service             description  \\\n",
       "1297            oci  Network                 Network        Network services   \n",
       "1298            oci  Network          Load balancers   Load balancer service   \n",
       "1299            oci  Network  Virtual cloud networks  Virtual cloud networks   \n",
       "1300            oci  Network          Dns management  DNS management service   \n",
       "1301            oci  Network            Fast connect    Fast connect service   \n",
       "\n",
       "            id  \n",
       "1297  764bbda4  \n",
       "1298  b8c4e52d  \n",
       "1299  915f0790  \n",
       "1300  fe08c585  \n",
       "1301  3c3f1427  "
      ]
     },
     "execution_count": 132,
     "metadata": {},
     "output_type": "execute_result"
    }
   ],
   "source": [
    "df.tail()"
   ]
  },
  {
   "cell_type": "markdown",
   "metadata": {},
   "source": [
    "#### Create a list of documents to be added to LanceDB table"
   ]
  },
  {
   "cell_type": "code",
   "execution_count": 133,
   "metadata": {},
   "outputs": [],
   "source": [
    "data = df.apply(\n",
    "    lambda row: {\n",
    "        \"category\": row[\"category\"],\n",
    "        \"cloud_provider\": row[\"cloud_provider\"],\n",
    "        \"service\": row[\"service\"],\n",
    "        \"description\": row[\"description\"],\n",
    "        \"id\": row[\"id\"],\n",
    "    },\n",
    "    axis=1,\n",
    ").values.tolist()"
   ]
  },
  {
   "cell_type": "code",
   "execution_count": 134,
   "metadata": {},
   "outputs": [
    {
     "data": {
      "text/plain": [
       "{'category': 'Analytics',\n",
       " 'cloud_provider': 'aws',\n",
       " 'service': 'Amazon Athena',\n",
       " 'description': 'An interactive query service that makes it easy to analyze data in Amazon S3 using standard SQL.',\n",
       " 'id': '95825a76'}"
      ]
     },
     "execution_count": 134,
     "metadata": {},
     "output_type": "execute_result"
    }
   ],
   "source": [
    "data[0]"
   ]
  },
  {
   "cell_type": "markdown",
   "metadata": {},
   "source": [
    "#### Create a lanceDB table with the provided schema model"
   ]
  },
  {
   "cell_type": "code",
   "execution_count": 135,
   "metadata": {},
   "outputs": [
    {
     "name": "stdout",
     "output_type": "stream",
     "text": [
      "Creating table: vector_db\n",
      "mode is overwrite\n"
     ]
    }
   ],
   "source": [
    "table = db.create_table(\"vector_db\", schema=CloudServiceInestionDataModel, mode=\"overwrite\")"
   ]
  },
  {
   "cell_type": "markdown",
   "metadata": {},
   "source": [
    "#### Add the data to the table"
   ]
  },
  {
   "cell_type": "code",
   "execution_count": 136,
   "metadata": {},
   "outputs": [],
   "source": [
    "table.add(data)"
   ]
  },
  {
   "cell_type": "markdown",
   "metadata": {},
   "source": [
    "### Full-text search \n",
    "[LanceDB - full Text Search documentation](https://lancedb.github.io/lancedb/fts/)"
   ]
  },
  {
   "cell_type": "code",
   "execution_count": 137,
   "metadata": {},
   "outputs": [],
   "source": [
    "table.create_fts_index(\"description\", replace=True)"
   ]
  },
  {
   "cell_type": "code",
   "execution_count": 138,
   "metadata": {},
   "outputs": [],
   "source": [
    "#query = \"An interactive query service that makes it easy to analyze data in Amazon S3 using standard SQL.\"\n",
    "query = \"query service that makes it easy to analyze data\"\n",
    "fts_actual = table.search(query, query_type=\"fts\").limit(10).to_pandas()"
   ]
  },
  {
   "cell_type": "code",
   "execution_count": 139,
   "metadata": {},
   "outputs": [
    {
     "data": {
      "text/html": [
       "<div>\n",
       "<style scoped>\n",
       "    .dataframe tbody tr th:only-of-type {\n",
       "        vertical-align: middle;\n",
       "    }\n",
       "\n",
       "    .dataframe tbody tr th {\n",
       "        vertical-align: top;\n",
       "    }\n",
       "\n",
       "    .dataframe thead th {\n",
       "        text-align: right;\n",
       "    }\n",
       "</style>\n",
       "<table border=\"1\" class=\"dataframe\">\n",
       "  <thead>\n",
       "    <tr style=\"text-align: right;\">\n",
       "      <th></th>\n",
       "      <th>description</th>\n",
       "      <th>vector_description</th>\n",
       "      <th>cloud_provider</th>\n",
       "      <th>service</th>\n",
       "      <th>category</th>\n",
       "      <th>id</th>\n",
       "      <th>score</th>\n",
       "    </tr>\n",
       "  </thead>\n",
       "  <tbody>\n",
       "    <tr>\n",
       "      <th>0</th>\n",
       "      <td>An interactive query service that makes it eas...</td>\n",
       "      <td>[-0.036750447, -0.038994916, -0.09674644, 0.01...</td>\n",
       "      <td>aws</td>\n",
       "      <td>Amazon Athena</td>\n",
       "      <td>Analytics</td>\n",
       "      <td>95825a76</td>\n",
       "      <td>17.903425</td>\n",
       "    </tr>\n",
       "    <tr>\n",
       "      <th>1</th>\n",
       "      <td>A web service that makes it easy to process la...</td>\n",
       "      <td>[-0.10146084, 0.0067654448, -0.056411035, 0.00...</td>\n",
       "      <td>aws</td>\n",
       "      <td>Amazon Elastic MapReduce</td>\n",
       "      <td>Analytics</td>\n",
       "      <td>1f41d3e8</td>\n",
       "      <td>13.446853</td>\n",
       "    </tr>\n",
       "    <tr>\n",
       "      <th>2</th>\n",
       "      <td>A service that makes it easy to add image and ...</td>\n",
       "      <td>[-0.059520993, -0.046984702, -0.081365086, -0....</td>\n",
       "      <td>aws</td>\n",
       "      <td>Amazon Rekognition</td>\n",
       "      <td>Artificial Intelligence</td>\n",
       "      <td>8191d857</td>\n",
       "      <td>12.409848</td>\n",
       "    </tr>\n",
       "    <tr>\n",
       "      <th>3</th>\n",
       "      <td>A fully managed service that makes it easy to ...</td>\n",
       "      <td>[-0.057634976, -0.030433707, -0.089878656, -0....</td>\n",
       "      <td>aws</td>\n",
       "      <td>Amazon Managed Streaming for Apache Kafka</td>\n",
       "      <td>Compute</td>\n",
       "      <td>21c3010a</td>\n",
       "      <td>12.025981</td>\n",
       "    </tr>\n",
       "    <tr>\n",
       "      <th>4</th>\n",
       "      <td>A machine learning service that makes it easy ...</td>\n",
       "      <td>[-0.084044114, -0.08540694, 0.028245663, 0.045...</td>\n",
       "      <td>aws</td>\n",
       "      <td>Amazon Personalize</td>\n",
       "      <td>Artificial Intelligence</td>\n",
       "      <td>994288f3</td>\n",
       "      <td>10.932827</td>\n",
       "    </tr>\n",
       "    <tr>\n",
       "      <th>5</th>\n",
       "      <td>A fast cloud-powered business intelligence ser...</td>\n",
       "      <td>[-0.029455226, -0.0048628934, -0.032985747, 0....</td>\n",
       "      <td>aws</td>\n",
       "      <td>Amazon QuickSight</td>\n",
       "      <td>Analytics</td>\n",
       "      <td>021db62d</td>\n",
       "      <td>10.621030</td>\n",
       "    </tr>\n",
       "    <tr>\n",
       "      <th>6</th>\n",
       "      <td>A fully managed extract transform and load (ET...</td>\n",
       "      <td>[-0.111309126, 0.046062496, -0.031067966, 0.02...</td>\n",
       "      <td>aws</td>\n",
       "      <td>AWS Glue</td>\n",
       "      <td>Analytics</td>\n",
       "      <td>f1506165</td>\n",
       "      <td>10.530128</td>\n",
       "    </tr>\n",
       "    <tr>\n",
       "      <th>7</th>\n",
       "      <td>A fully managed service that makes it easy to ...</td>\n",
       "      <td>[-0.024797615, -0.012064842, 0.019883556, 0.07...</td>\n",
       "      <td>aws</td>\n",
       "      <td>AWS IoT Analytics</td>\n",
       "      <td>Analytics</td>\n",
       "      <td>67a4d595</td>\n",
       "      <td>10.530128</td>\n",
       "    </tr>\n",
       "    <tr>\n",
       "      <th>8</th>\n",
       "      <td>A service that makes it easy for developers of...</td>\n",
       "      <td>[-0.08342339, -0.06815262, 0.007652386, -0.001...</td>\n",
       "      <td>aws</td>\n",
       "      <td>Amazon Machine Learning</td>\n",
       "      <td>Artificial Intelligence</td>\n",
       "      <td>ce5e7569</td>\n",
       "      <td>10.489511</td>\n",
       "    </tr>\n",
       "    <tr>\n",
       "      <th>9</th>\n",
       "      <td>A fully managed service that makes it easy for...</td>\n",
       "      <td>[-0.06523381, 0.012705022, -0.07271577, 0.0424...</td>\n",
       "      <td>aws</td>\n",
       "      <td>Amazon API Gateway</td>\n",
       "      <td>Compute</td>\n",
       "      <td>c4a5a2c7</td>\n",
       "      <td>10.080750</td>\n",
       "    </tr>\n",
       "  </tbody>\n",
       "</table>\n",
       "</div>"
      ],
      "text/plain": [
       "                                         description  \\\n",
       "0  An interactive query service that makes it eas...   \n",
       "1  A web service that makes it easy to process la...   \n",
       "2  A service that makes it easy to add image and ...   \n",
       "3  A fully managed service that makes it easy to ...   \n",
       "4  A machine learning service that makes it easy ...   \n",
       "5  A fast cloud-powered business intelligence ser...   \n",
       "6  A fully managed extract transform and load (ET...   \n",
       "7  A fully managed service that makes it easy to ...   \n",
       "8  A service that makes it easy for developers of...   \n",
       "9  A fully managed service that makes it easy for...   \n",
       "\n",
       "                                  vector_description cloud_provider  \\\n",
       "0  [-0.036750447, -0.038994916, -0.09674644, 0.01...            aws   \n",
       "1  [-0.10146084, 0.0067654448, -0.056411035, 0.00...            aws   \n",
       "2  [-0.059520993, -0.046984702, -0.081365086, -0....            aws   \n",
       "3  [-0.057634976, -0.030433707, -0.089878656, -0....            aws   \n",
       "4  [-0.084044114, -0.08540694, 0.028245663, 0.045...            aws   \n",
       "5  [-0.029455226, -0.0048628934, -0.032985747, 0....            aws   \n",
       "6  [-0.111309126, 0.046062496, -0.031067966, 0.02...            aws   \n",
       "7  [-0.024797615, -0.012064842, 0.019883556, 0.07...            aws   \n",
       "8  [-0.08342339, -0.06815262, 0.007652386, -0.001...            aws   \n",
       "9  [-0.06523381, 0.012705022, -0.07271577, 0.0424...            aws   \n",
       "\n",
       "                                     service                 category  \\\n",
       "0                              Amazon Athena                Analytics   \n",
       "1                   Amazon Elastic MapReduce                Analytics   \n",
       "2                         Amazon Rekognition  Artificial Intelligence   \n",
       "3  Amazon Managed Streaming for Apache Kafka                  Compute   \n",
       "4                         Amazon Personalize  Artificial Intelligence   \n",
       "5                          Amazon QuickSight                Analytics   \n",
       "6                                   AWS Glue                Analytics   \n",
       "7                          AWS IoT Analytics                Analytics   \n",
       "8                    Amazon Machine Learning  Artificial Intelligence   \n",
       "9                         Amazon API Gateway                  Compute   \n",
       "\n",
       "         id      score  \n",
       "0  95825a76  17.903425  \n",
       "1  1f41d3e8  13.446853  \n",
       "2  8191d857  12.409848  \n",
       "3  21c3010a  12.025981  \n",
       "4  994288f3  10.932827  \n",
       "5  021db62d  10.621030  \n",
       "6  f1506165  10.530128  \n",
       "7  67a4d595  10.530128  \n",
       "8  ce5e7569  10.489511  \n",
       "9  c4a5a2c7  10.080750  "
      ]
     },
     "execution_count": 139,
     "metadata": {},
     "output_type": "execute_result"
    }
   ],
   "source": [
    "fts_actual.head(10)"
   ]
  },
  {
   "cell_type": "markdown",
   "metadata": {},
   "source": [
    "### Vector Search\n",
    "[Vector Arithmetic with LanceDB: An Intro to Vector Embeddings](https://blog.lancedb.com/vector-arithmetic-with-lancedb-an-intro-to-vector-embeddings/)"
   ]
  },
  {
   "cell_type": "code",
   "execution_count": 140,
   "metadata": {},
   "outputs": [],
   "source": [
    "query = \"query that makes it easy to analyze S3\"\n",
    "vector_actual = table.search(query, query_type=\"vector\").limit(10).to_pandas()"
   ]
  },
  {
   "cell_type": "code",
   "execution_count": 141,
   "metadata": {},
   "outputs": [
    {
     "data": {
      "text/html": [
       "<div>\n",
       "<style scoped>\n",
       "    .dataframe tbody tr th:only-of-type {\n",
       "        vertical-align: middle;\n",
       "    }\n",
       "\n",
       "    .dataframe tbody tr th {\n",
       "        vertical-align: top;\n",
       "    }\n",
       "\n",
       "    .dataframe thead th {\n",
       "        text-align: right;\n",
       "    }\n",
       "</style>\n",
       "<table border=\"1\" class=\"dataframe\">\n",
       "  <thead>\n",
       "    <tr style=\"text-align: right;\">\n",
       "      <th></th>\n",
       "      <th>description</th>\n",
       "      <th>vector_description</th>\n",
       "      <th>cloud_provider</th>\n",
       "      <th>service</th>\n",
       "      <th>category</th>\n",
       "      <th>id</th>\n",
       "      <th>_distance</th>\n",
       "    </tr>\n",
       "  </thead>\n",
       "  <tbody>\n",
       "    <tr>\n",
       "      <th>0</th>\n",
       "      <td>An interactive query service that makes it eas...</td>\n",
       "      <td>[-0.036750447, -0.038994916, -0.09674644, 0.01...</td>\n",
       "      <td>aws</td>\n",
       "      <td>Amazon Athena</td>\n",
       "      <td>Analytics</td>\n",
       "      <td>95825a76</td>\n",
       "      <td>0.426209</td>\n",
       "    </tr>\n",
       "    <tr>\n",
       "      <th>1</th>\n",
       "      <td>Discovery service for data exploration.</td>\n",
       "      <td>[-0.087175965, -0.023679473, -0.023767654, -0....</td>\n",
       "      <td>ibmcloud</td>\n",
       "      <td>paas_svc_plan_feat_discovery</td>\n",
       "      <td>Service</td>\n",
       "      <td>8b9590fe</td>\n",
       "      <td>1.133843</td>\n",
       "    </tr>\n",
       "    <tr>\n",
       "      <th>2</th>\n",
       "      <td>Offers log data collection and analysis.</td>\n",
       "      <td>[0.0029415176, -0.009669837, -0.03879726, 0.01...</td>\n",
       "      <td>azure</td>\n",
       "      <td>Log Analytics</td>\n",
       "      <td>Analytics</td>\n",
       "      <td>8b8ee64c</td>\n",
       "      <td>1.231552</td>\n",
       "    </tr>\n",
       "    <tr>\n",
       "      <th>3</th>\n",
       "      <td>Retrieve and Rank provides tools for building ...</td>\n",
       "      <td>[-0.046784457, -0.02686176, -0.046415992, -0.0...</td>\n",
       "      <td>ibmcloud</td>\n",
       "      <td>paas_svc_plan_retrieve_and_rank</td>\n",
       "      <td>Service</td>\n",
       "      <td>53037f6a</td>\n",
       "      <td>1.233768</td>\n",
       "    </tr>\n",
       "    <tr>\n",
       "      <th>4</th>\n",
       "      <td>Simple query service</td>\n",
       "      <td>[-0.050498135, -0.024219876, -0.06297479, 0.05...</td>\n",
       "      <td>ibmcloud</td>\n",
       "      <td>paas_svc_plan_tinyqueries</td>\n",
       "      <td>Service</td>\n",
       "      <td>b887cb90</td>\n",
       "      <td>1.240544</td>\n",
       "    </tr>\n",
       "  </tbody>\n",
       "</table>\n",
       "</div>"
      ],
      "text/plain": [
       "                                         description  \\\n",
       "0  An interactive query service that makes it eas...   \n",
       "1            Discovery service for data exploration.   \n",
       "2           Offers log data collection and analysis.   \n",
       "3  Retrieve and Rank provides tools for building ...   \n",
       "4                               Simple query service   \n",
       "\n",
       "                                  vector_description cloud_provider  \\\n",
       "0  [-0.036750447, -0.038994916, -0.09674644, 0.01...            aws   \n",
       "1  [-0.087175965, -0.023679473, -0.023767654, -0....       ibmcloud   \n",
       "2  [0.0029415176, -0.009669837, -0.03879726, 0.01...          azure   \n",
       "3  [-0.046784457, -0.02686176, -0.046415992, -0.0...       ibmcloud   \n",
       "4  [-0.050498135, -0.024219876, -0.06297479, 0.05...       ibmcloud   \n",
       "\n",
       "                           service   category        id  _distance  \n",
       "0                    Amazon Athena  Analytics  95825a76   0.426209  \n",
       "1     paas_svc_plan_feat_discovery    Service  8b9590fe   1.133843  \n",
       "2                    Log Analytics  Analytics  8b8ee64c   1.231552  \n",
       "3  paas_svc_plan_retrieve_and_rank    Service  53037f6a   1.233768  \n",
       "4        paas_svc_plan_tinyqueries    Service  b887cb90   1.240544  "
      ]
     },
     "execution_count": 141,
     "metadata": {},
     "output_type": "execute_result"
    }
   ],
   "source": [
    "vector_actual.head(5)\n",
    "\n",
    "## Expected answer: `Amazon Athena` which is a query service that makes it easy to analyze data in Amazon S3 using standard SQL."
   ]
  },
  {
   "cell_type": "markdown",
   "metadata": {},
   "source": [
    "### Hybrid Search \n",
    "\n",
    "[Example for Hybrid Search from LanceDB github](https://github.com/lancedb/vectordb-recipes/blob/main/examples/Inbuilt-Hybrid-Search/Inbuilt_Hybrid_Search_with_LanceDB.ipynb)"
   ]
  },
  {
   "cell_type": "code",
   "execution_count": 142,
   "metadata": {},
   "outputs": [
    {
     "data": {
      "text/html": [
       "<div>\n",
       "<style scoped>\n",
       "    .dataframe tbody tr th:only-of-type {\n",
       "        vertical-align: middle;\n",
       "    }\n",
       "\n",
       "    .dataframe tbody tr th {\n",
       "        vertical-align: top;\n",
       "    }\n",
       "\n",
       "    .dataframe thead th {\n",
       "        text-align: right;\n",
       "    }\n",
       "</style>\n",
       "<table border=\"1\" class=\"dataframe\">\n",
       "  <thead>\n",
       "    <tr style=\"text-align: right;\">\n",
       "      <th></th>\n",
       "      <th>description</th>\n",
       "      <th>vector_description</th>\n",
       "      <th>cloud_provider</th>\n",
       "      <th>service</th>\n",
       "      <th>category</th>\n",
       "      <th>id</th>\n",
       "      <th>_relevance_score</th>\n",
       "    </tr>\n",
       "  </thead>\n",
       "  <tbody>\n",
       "    <tr>\n",
       "      <th>0</th>\n",
       "      <td>Offers log data collection and analysis.</td>\n",
       "      <td>[0.0029415176, -0.009669837, -0.03879726, 0.01...</td>\n",
       "      <td>azure</td>\n",
       "      <td>Log Analytics</td>\n",
       "      <td>Analytics</td>\n",
       "      <td>8b8ee64c</td>\n",
       "      <td>0.800000</td>\n",
       "    </tr>\n",
       "    <tr>\n",
       "      <th>1</th>\n",
       "      <td>A web service that makes it easy to process la...</td>\n",
       "      <td>[-0.10146084, 0.0067654448, -0.056411035, 0.00...</td>\n",
       "      <td>aws</td>\n",
       "      <td>Amazon Elastic MapReduce</td>\n",
       "      <td>Analytics</td>\n",
       "      <td>1f41d3e8</td>\n",
       "      <td>0.282639</td>\n",
       "    </tr>\n",
       "    <tr>\n",
       "      <th>2</th>\n",
       "      <td>An interactive query service that makes it eas...</td>\n",
       "      <td>[-0.036750447, -0.038994916, -0.09674644, 0.01...</td>\n",
       "      <td>aws</td>\n",
       "      <td>Amazon Athena</td>\n",
       "      <td>Analytics</td>\n",
       "      <td>95825a76</td>\n",
       "      <td>0.200000</td>\n",
       "    </tr>\n",
       "    <tr>\n",
       "      <th>3</th>\n",
       "      <td>Enables you to process and analyze streaming d...</td>\n",
       "      <td>[0.012544875, -0.029368753, -0.09186228, -0.02...</td>\n",
       "      <td>aws</td>\n",
       "      <td>Amazon Kinesis Analytics</td>\n",
       "      <td>Analytics</td>\n",
       "      <td>bf62df4f</td>\n",
       "      <td>0.178171</td>\n",
       "    </tr>\n",
       "    <tr>\n",
       "      <th>4</th>\n",
       "      <td>A service that makes it easy to add image and ...</td>\n",
       "      <td>[-0.059520993, -0.046984702, -0.081365086, -0....</td>\n",
       "      <td>aws</td>\n",
       "      <td>Amazon Rekognition</td>\n",
       "      <td>Artificial Intelligence</td>\n",
       "      <td>8191d857</td>\n",
       "      <td>0.166611</td>\n",
       "    </tr>\n",
       "  </tbody>\n",
       "</table>\n",
       "</div>"
      ],
      "text/plain": [
       "                                         description  \\\n",
       "0           Offers log data collection and analysis.   \n",
       "1  A web service that makes it easy to process la...   \n",
       "2  An interactive query service that makes it eas...   \n",
       "3  Enables you to process and analyze streaming d...   \n",
       "4  A service that makes it easy to add image and ...   \n",
       "\n",
       "                                  vector_description cloud_provider  \\\n",
       "0  [0.0029415176, -0.009669837, -0.03879726, 0.01...          azure   \n",
       "1  [-0.10146084, 0.0067654448, -0.056411035, 0.00...            aws   \n",
       "2  [-0.036750447, -0.038994916, -0.09674644, 0.01...            aws   \n",
       "3  [0.012544875, -0.029368753, -0.09186228, -0.02...            aws   \n",
       "4  [-0.059520993, -0.046984702, -0.081365086, -0....            aws   \n",
       "\n",
       "                    service                 category        id  \\\n",
       "0             Log Analytics                Analytics  8b8ee64c   \n",
       "1  Amazon Elastic MapReduce                Analytics  1f41d3e8   \n",
       "2             Amazon Athena                Analytics  95825a76   \n",
       "3  Amazon Kinesis Analytics                Analytics  bf62df4f   \n",
       "4        Amazon Rekognition  Artificial Intelligence  8191d857   \n",
       "\n",
       "   _relevance_score  \n",
       "0          0.800000  \n",
       "1          0.282639  \n",
       "2          0.200000  \n",
       "3          0.178171  \n",
       "4          0.166611  "
      ]
     },
     "execution_count": 142,
     "metadata": {},
     "output_type": "execute_result"
    }
   ],
   "source": [
    "from lancedb.rerankers import LinearCombinationReranker\n",
    "\n",
    "reranker = LinearCombinationReranker(\n",
    "    weight=0.8\n",
    ")  # Weight = 0 Means pure Text Search (BM-25) and 1 means pure Sementic (Vector) Search\n",
    "query = \"query that makes it easy to analyze data\"\n",
    "table.search(\n",
    "    query,\n",
    "    query_type=\"hybrid\",\n",
    "    vector_column_name=\"vector_description\",\n",
    ").rerank(reranker=reranker).limit(5).to_pandas()"
   ]
  },
  {
   "cell_type": "code",
   "execution_count": 143,
   "metadata": {},
   "outputs": [
    {
     "name": "stdout",
     "output_type": "stream",
     "text": [
      "altair==5.4.1\n",
      "annotated-types==0.7.0\n",
      "anyio==4.4.0\n",
      "appnope==0.1.4\n",
      "asttokens==2.4.1\n",
      "attrs==24.2.0\n",
      "blinker==1.8.2\n",
      "cachetools==5.5.0\n",
      "certifi==2024.8.30\n",
      "charset-normalizer==3.3.2\n",
      "click==8.1.7\n",
      "comm==0.2.2\n",
      "debugpy==1.8.5\n",
      "decorator==5.1.1\n",
      "deprecation==2.1.0\n",
      "distro==1.9.0\n",
      "elastic-transport==8.15.0\n",
      "elasticsearch==8.15.0\n",
      "exceptiongroup==1.2.2\n",
      "executing==2.1.0\n",
      "filelock==3.15.4\n",
      "fsspec==2024.9.0\n",
      "gitdb==4.0.11\n",
      "GitPython==3.1.43\n",
      "groq==0.11.0\n",
      "h11==0.14.0\n",
      "httpcore==1.0.5\n",
      "httpx==0.27.2\n",
      "huggingface-hub==0.24.6\n",
      "idna==3.8\n",
      "importlib_metadata==8.4.0\n",
      "ipykernel==6.29.5\n",
      "ipython==8.18.1\n",
      "jedi==0.19.1\n",
      "Jinja2==3.1.4\n",
      "jiter==0.5.0\n",
      "joblib==1.4.2\n",
      "jsonschema==4.23.0\n",
      "jsonschema-specifications==2023.12.1\n",
      "jupyter_client==8.6.2\n",
      "jupyter_core==5.7.2\n",
      "lancedb==0.12.0\n",
      "markdown-it-py==3.0.0\n",
      "MarkupSafe==2.1.5\n",
      "matplotlib-inline==0.1.7\n",
      "mdurl==0.1.2\n",
      "mpmath==1.3.0\n",
      "narwhals==1.6.2\n",
      "nest-asyncio==1.6.0\n",
      "networkx==3.2.1\n",
      "numpy==1.26.4\n",
      "openai==1.43.1\n",
      "overrides==7.7.0\n",
      "packaging==24.1\n",
      "pandas==2.2.2\n",
      "parso==0.8.4\n",
      "pexpect==4.9.0\n",
      "pillow==10.4.0\n",
      "platformdirs==4.2.2\n",
      "prompt_toolkit==3.0.47\n",
      "protobuf==5.28.0\n",
      "psutil==6.0.0\n",
      "psycopg2-binary==2.9.9\n",
      "ptyprocess==0.7.0\n",
      "pure_eval==0.2.3\n",
      "py==1.11.0\n",
      "pyarrow==17.0.0\n",
      "pydantic==2.8.2\n",
      "pydantic_core==2.20.1\n",
      "pydeck==0.9.1\n",
      "Pygments==2.18.0\n",
      "pylance==0.16.0\n",
      "python-dateutil==2.9.0.post0\n",
      "pytz==2024.1\n",
      "PyYAML==6.0.2\n",
      "pyzmq==26.2.0\n",
      "ratelimiter==1.2.0.post0\n",
      "referencing==0.35.1\n",
      "regex==2024.7.24\n",
      "requests==2.32.3\n",
      "retry==0.9.2\n",
      "rich==13.8.0\n",
      "rpds-py==0.20.0\n",
      "safetensors==0.4.5\n",
      "scikit-learn==1.5.1\n",
      "scipy==1.13.1\n",
      "sentence-transformers==3.0.1\n",
      "sentencepiece==0.2.0\n",
      "six==1.16.0\n",
      "smmap==5.0.1\n",
      "sniffio==1.3.1\n",
      "stack-data==0.6.3\n",
      "streamlit==1.38.0\n",
      "sympy==1.13.2\n",
      "tantivy==0.22.0\n",
      "tenacity==8.5.0\n",
      "threadpoolctl==3.5.0\n",
      "tokenizers==0.19.1\n",
      "toml==0.10.2\n",
      "torch==2.4.1\n",
      "tornado==6.4.1\n",
      "tqdm==4.66.5\n",
      "traitlets==5.14.3\n",
      "transformers==4.44.2\n",
      "typing_extensions==4.12.2\n",
      "tzdata==2024.1\n",
      "u==0.1\n",
      "urllib3==2.2.2\n",
      "wcwidth==0.2.13\n",
      "zipp==3.20.1\n"
     ]
    }
   ],
   "source": [
    "!pip freeze list"
   ]
  },
  {
   "cell_type": "code",
   "execution_count": null,
   "metadata": {},
   "outputs": [],
   "source": []
  }
 ],
 "metadata": {
  "kernelspec": {
   "display_name": "base",
   "language": "python",
   "name": "python3"
  },
  "language_info": {
   "codemirror_mode": {
    "name": "ipython",
    "version": 3
   },
   "file_extension": ".py",
   "mimetype": "text/x-python",
   "name": "python",
   "nbconvert_exporter": "python",
   "pygments_lexer": "ipython3",
   "version": "3.9.6"
  }
 },
 "nbformat": 4,
 "nbformat_minor": 2
}
