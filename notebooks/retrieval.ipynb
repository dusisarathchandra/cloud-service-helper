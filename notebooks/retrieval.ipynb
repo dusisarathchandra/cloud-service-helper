{
 "cells": [
  {
   "cell_type": "code",
   "execution_count": 1,
   "metadata": {},
   "outputs": [
    {
     "name": "stdout",
     "output_type": "stream",
     "text": [
      "Requirement already satisfied: lancedb in /Users/dusisarathchandra/miniconda3/lib/python3.10/site-packages (0.12.0)\n",
      "Requirement already satisfied: deprecation in /Users/dusisarathchandra/miniconda3/lib/python3.10/site-packages (from lancedb) (2.1.0)\n",
      "Requirement already satisfied: pylance==0.16.0 in /Users/dusisarathchandra/miniconda3/lib/python3.10/site-packages (from lancedb) (0.16.0)\n",
      "Requirement already satisfied: requests>=2.31.0 in /Users/dusisarathchandra/miniconda3/lib/python3.10/site-packages (from lancedb) (2.32.2)\n",
      "Requirement already satisfied: retry>=0.9.2 in /Users/dusisarathchandra/miniconda3/lib/python3.10/site-packages (from lancedb) (0.9.2)\n",
      "Requirement already satisfied: tqdm>=4.27.0 in /Users/dusisarathchandra/miniconda3/lib/python3.10/site-packages (from lancedb) (4.66.4)\n",
      "Requirement already satisfied: pydantic>=1.10 in /Users/dusisarathchandra/miniconda3/lib/python3.10/site-packages (from lancedb) (2.8.2)\n",
      "Requirement already satisfied: attrs>=21.3.0 in /Users/dusisarathchandra/miniconda3/lib/python3.10/site-packages (from lancedb) (24.2.0)\n",
      "Requirement already satisfied: packaging in /Users/dusisarathchandra/miniconda3/lib/python3.10/site-packages (from lancedb) (23.2)\n",
      "Requirement already satisfied: cachetools in /Users/dusisarathchandra/miniconda3/lib/python3.10/site-packages (from lancedb) (5.3.3)\n",
      "Requirement already satisfied: overrides>=0.7 in /Users/dusisarathchandra/miniconda3/lib/python3.10/site-packages (from lancedb) (7.7.0)\n",
      "Requirement already satisfied: pyarrow>=12 in /Users/dusisarathchandra/miniconda3/lib/python3.10/site-packages (from pylance==0.16.0->lancedb) (17.0.0)\n",
      "Requirement already satisfied: numpy<2,>=1.22 in /Users/dusisarathchandra/miniconda3/lib/python3.10/site-packages (from pylance==0.16.0->lancedb) (1.26.4)\n",
      "Requirement already satisfied: annotated-types>=0.4.0 in /Users/dusisarathchandra/miniconda3/lib/python3.10/site-packages (from pydantic>=1.10->lancedb) (0.6.0)\n",
      "Requirement already satisfied: pydantic-core==2.20.1 in /Users/dusisarathchandra/miniconda3/lib/python3.10/site-packages (from pydantic>=1.10->lancedb) (2.20.1)\n",
      "Requirement already satisfied: typing-extensions>=4.6.1 in /Users/dusisarathchandra/miniconda3/lib/python3.10/site-packages (from pydantic>=1.10->lancedb) (4.12.2)\n",
      "Requirement already satisfied: charset-normalizer<4,>=2 in /Users/dusisarathchandra/miniconda3/lib/python3.10/site-packages (from requests>=2.31.0->lancedb) (2.0.4)\n",
      "Requirement already satisfied: idna<4,>=2.5 in /Users/dusisarathchandra/miniconda3/lib/python3.10/site-packages (from requests>=2.31.0->lancedb) (3.7)\n",
      "Requirement already satisfied: urllib3<3,>=1.21.1 in /Users/dusisarathchandra/miniconda3/lib/python3.10/site-packages (from requests>=2.31.0->lancedb) (2.2.2)\n",
      "Requirement already satisfied: certifi>=2017.4.17 in /Users/dusisarathchandra/miniconda3/lib/python3.10/site-packages (from requests>=2.31.0->lancedb) (2024.7.4)\n",
      "Requirement already satisfied: decorator>=3.4.2 in /Users/dusisarathchandra/miniconda3/lib/python3.10/site-packages (from retry>=0.9.2->lancedb) (5.1.1)\n",
      "Requirement already satisfied: py<2.0.0,>=1.4.26 in /Users/dusisarathchandra/miniconda3/lib/python3.10/site-packages (from retry>=0.9.2->lancedb) (1.11.0)\n"
     ]
    }
   ],
   "source": [
    "!pip install lancedb"
   ]
  },
  {
   "cell_type": "code",
   "execution_count": 2,
   "metadata": {},
   "outputs": [
    {
     "name": "stdout",
     "output_type": "stream",
     "text": [
      "Requirement already satisfied: tantivy in /Users/dusisarathchandra/miniconda3/lib/python3.10/site-packages (0.22.0)\n"
     ]
    }
   ],
   "source": [
    "!pip install tantivy"
   ]
  },
  {
   "cell_type": "markdown",
   "metadata": {},
   "source": [
    "### Required libraries"
   ]
  },
  {
   "cell_type": "code",
   "execution_count": 86,
   "metadata": {},
   "outputs": [
    {
     "name": "stdout",
     "output_type": "stream",
     "text": [
      "['/Users/dusisarathchandra/miniconda3/lib/python310.zip', '/Users/dusisarathchandra/miniconda3/lib/python3.10', '/Users/dusisarathchandra/miniconda3/lib/python3.10/lib-dynload', '', '/Users/dusisarathchandra/miniconda3/lib/python3.10/site-packages', '/Users/dusisarathchandra/Documents/Projects/workspaces/llmworkspace/cloud-service-helper', '/Users/dusisarathchandra/Documents/Projects/workspaces/llmworkspace/cloud-service-helper', '/Users/dusisarathchandra/Documents/Projects/workspaces/llmworkspace/cloud-service-helper', '/Users/dusisarathchandra/Documents/Projects/workspaces/llmworkspace/cloud-service-helper', '/Users/dusisarathchandra/Documents/Projects/workspaces/llmworkspace/cloud-service-helper/notebooks..', '/Users/dusisarathchandra/Documents/Projects/workspaces/llmworkspace/cloud-service-helper/notebooks..', '/Users/dusisarathchandra/Documents/Projects/workspaces/llmworkspace/cloud-service-helper', '/Users/dusisarathchandra/Documents/Projects/workspaces/llmworkspace/cloud-service-helper', '/Users/dusisarathchandra/Documents/Projects/workspaces/llmworkspace/cloud-service-helper', '/Users/dusisarathchandra/Documents/Projects/workspaces/llmworkspace/cloud-service-helper', '/Users/dusisarathchandra/Documents/Projects/workspaces/llmworkspace/cloud-service-helper', '/Users/dusisarathchandra/Documents/Projects/workspaces/llmworkspace/cloud-service-helper']\n"
     ]
    }
   ],
   "source": [
    "import lancedb\n",
    "import pandas as pd\n",
    "import pyarrow as pa\n",
    "import sys,os\n",
    "module_path = os.path.abspath(os.getcwd() + '../../')\n",
    "sys.path.append(module_path)\n",
    "print(sys.path)\n",
    "os.getcwd()\n",
    "from src.constants import LANCEDB_DICT, EMBEDDINGS_DICT\n",
    "from sentence_transformers import SentenceTransformer\n",
    "from lancedb.embeddings import get_registry\n",
    "from lancedb.embeddings.sentence_transformers import SentenceTransformerEmbeddings\n",
    "from lancedb.pydantic import LanceModel, Vector"
   ]
  },
  {
   "cell_type": "code",
   "execution_count": 88,
   "metadata": {},
   "outputs": [
    {
     "name": "stdout",
     "output_type": "stream",
     "text": [
      "cloud_service_knowledge_base/vector_db\n"
     ]
    }
   ],
   "source": [
    "print(LANCEDB_DICT.get('uri'))"
   ]
  },
  {
   "cell_type": "markdown",
   "metadata": {},
   "source": [
    "### Create a Database class which takes care of vector database functions"
   ]
  },
  {
   "cell_type": "code",
   "execution_count": 89,
   "metadata": {},
   "outputs": [],
   "source": [
    "\n",
    "class lanceDB:\n",
    "    def __init__(self, uri):\n",
    "        self.uri = uri\n",
    "        self.db = lancedb.connect(uri)\n",
    "\n",
    "    def create_table(self, table_name, schema=None, mode=\"overwrite\"):\n",
    "        print(f\"Creating table: {table_name}\")\n",
    "        print(f\"mode is {mode}\")\n",
    "        return self.db.create_table(table_name, schema=schema, mode=mode)\n",
    "\n",
    "    def insert(self, table_name, data):\n",
    "        self.db.add(table_name, data)\n",
    "\n",
    "    def query(self, query):\n",
    "        return self.db.query(query)\n",
    "\n",
    "    def close(self):\n",
    "        self.db.close()\n",
    "        self.async_db.close()\n",
    "    def table_names(self):\n",
    "        return self.db.table_names()\n"
   ]
  },
  {
   "cell_type": "markdown",
   "metadata": {},
   "source": [
    "### Initiate LanceDB Connection"
   ]
  },
  {
   "cell_type": "code",
   "execution_count": 90,
   "metadata": {},
   "outputs": [
    {
     "name": "stdout",
     "output_type": "stream",
     "text": [
      "[]\n"
     ]
    }
   ],
   "source": [
    "db = lanceDB(uri=LANCEDB_DICT.get('uri'))\n",
    "print(db.table_names())\n"
   ]
  },
  {
   "cell_type": "markdown",
   "metadata": {},
   "source": [
    "### Locally Load the sentence transformer model"
   ]
  },
  {
   "cell_type": "code",
   "execution_count": 91,
   "metadata": {},
   "outputs": [
    {
     "name": "stderr",
     "output_type": "stream",
     "text": [
      "/Users/dusisarathchandra/miniconda3/lib/python3.10/site-packages/transformers/tokenization_utils_base.py:1601: FutureWarning: `clean_up_tokenization_spaces` was not set. It will be set to `True` by default. This behavior will be depracted in transformers v4.45, and will be then set to `False` by default. For more details check this issue: https://github.com/huggingface/transformers/issues/31884\n",
      "  warnings.warn(\n"
     ]
    }
   ],
   "source": [
    "model_name = EMBEDDINGS_DICT.get('model_name')\n",
    "device = EMBEDDINGS_DICT.get('device')\n",
    "model = SentenceTransformer(model_name, device=device)"
   ]
  },
  {
   "cell_type": "markdown",
   "metadata": {},
   "source": [
    "#### Verfiy the embeddings"
   ]
  },
  {
   "cell_type": "code",
   "execution_count": 92,
   "metadata": {},
   "outputs": [
    {
     "data": {
      "text/plain": [
       "array([ 6.76568672e-02,  6.34958893e-02,  4.87131067e-02,  7.93049783e-02,\n",
       "        3.74480560e-02,  2.65278690e-03,  3.93749177e-02, -7.09835812e-03,\n",
       "        5.93614504e-02,  3.15369740e-02,  6.00980707e-02, -5.29051721e-02,\n",
       "        4.06068228e-02, -2.59308200e-02,  2.98427045e-02,  1.12690218e-03,\n",
       "        7.35148787e-02, -5.03818206e-02, -1.22386619e-01,  2.37028264e-02,\n",
       "        2.97266264e-02,  4.24768180e-02,  2.56337617e-02,  1.99509831e-03,\n",
       "       -5.69191240e-02, -2.71598697e-02, -3.29036377e-02,  6.60248548e-02,\n",
       "        1.19007245e-01, -4.58791889e-02, -7.26215094e-02, -3.25840972e-02,\n",
       "        5.23412935e-02,  4.50552851e-02,  8.25296901e-03,  3.67024280e-02,\n",
       "       -1.39415357e-02,  6.53919131e-02, -2.64271721e-02,  2.06365905e-04,\n",
       "       -1.36643983e-02, -3.62809487e-02, -1.95043124e-02, -2.89738476e-02,\n",
       "        3.94270532e-02, -8.84091482e-02,  2.62422091e-03,  1.36713963e-02,\n",
       "        4.83062230e-02, -3.11565585e-02, -1.17329203e-01, -5.11690043e-02,\n",
       "       -8.85288417e-02, -2.18962431e-02,  1.42985880e-02,  4.44167741e-02,\n",
       "       -1.34815145e-02,  7.43392408e-02,  2.66382713e-02, -1.98762305e-02,\n",
       "        1.79191176e-02, -1.06052076e-02, -9.04263332e-02,  2.13269219e-02,\n",
       "        1.41204804e-01, -6.47178013e-03, -1.40376564e-03, -1.53609840e-02,\n",
       "       -8.73571932e-02,  7.22174421e-02,  2.01403126e-02,  4.25587334e-02,\n",
       "       -3.49013731e-02,  3.19621147e-04, -8.02970380e-02, -3.27471867e-02,\n",
       "        2.85268575e-02, -5.13657890e-02,  1.09389193e-01,  8.19327906e-02,\n",
       "       -9.84040126e-02, -9.34094936e-02, -1.51291927e-02,  4.51248698e-02,\n",
       "        4.94172797e-02, -2.51867548e-02,  1.57077517e-02, -1.29290685e-01,\n",
       "        5.31890662e-03,  4.02340433e-03, -2.34572385e-02, -6.72983378e-02,\n",
       "        2.92280279e-02, -2.60845348e-02,  1.30624054e-02, -3.11663207e-02,\n",
       "       -4.82714064e-02, -5.58859706e-02, -3.87505107e-02,  1.20010823e-01,\n",
       "       -1.03924228e-02,  4.89704832e-02,  5.53537309e-02,  4.49357890e-02,\n",
       "       -4.00977628e-03, -1.02959722e-01, -2.92968675e-02, -5.83402030e-02,\n",
       "        2.70472486e-02, -2.20169555e-02, -7.22242519e-02, -4.13870141e-02,\n",
       "       -1.93298645e-02,  2.73323548e-03,  2.77005456e-04, -9.67588499e-02,\n",
       "       -1.00574769e-01, -1.41923083e-02, -8.07891488e-02,  4.53924760e-02,\n",
       "        2.45041195e-02,  5.97613975e-02, -7.38185495e-02,  1.19843371e-02,\n",
       "       -6.63403720e-02, -7.69044608e-02,  3.85157652e-02, -5.59362550e-33,\n",
       "        2.80013662e-02, -5.60784824e-02, -4.86601330e-02,  2.15570256e-02,\n",
       "        6.01980127e-02, -4.81403135e-02, -3.50247175e-02,  1.93313994e-02,\n",
       "       -1.75151564e-02, -3.89210619e-02, -3.81056918e-03, -1.70288198e-02,\n",
       "        2.82100160e-02,  1.28290495e-02,  4.71601635e-02,  6.21028990e-02,\n",
       "       -6.43588826e-02,  1.29285574e-01, -1.31231742e-02,  5.23069799e-02,\n",
       "       -3.73680890e-02,  2.89093684e-02, -1.68980639e-02, -2.37329714e-02,\n",
       "       -3.33492197e-02, -5.16762137e-02,  1.55357039e-02,  2.08803602e-02,\n",
       "       -1.25372857e-02,  4.59579229e-02,  3.72720249e-02,  2.80566290e-02,\n",
       "       -5.90005443e-02, -1.16988607e-02,  4.92182150e-02,  4.70328927e-02,\n",
       "        7.35487193e-02, -3.70528884e-02,  3.98466550e-03,  1.06411818e-02,\n",
       "       -1.61622898e-04, -5.27166426e-02,  2.75927857e-02, -3.92921269e-02,\n",
       "        8.44717100e-02,  4.86860760e-02, -4.85864654e-03,  1.79948509e-02,\n",
       "       -4.28570025e-02,  1.23376111e-02,  6.39964081e-03,  4.04822603e-02,\n",
       "        1.48887634e-02, -1.53941270e-02,  7.62947649e-02,  2.37044189e-02,\n",
       "        4.45236973e-02,  5.08195385e-02, -2.31246301e-03, -1.88736785e-02,\n",
       "       -1.23334983e-02,  4.66002412e-02, -5.63436896e-02,  6.29926100e-02,\n",
       "       -3.15534584e-02,  3.24912556e-02,  2.34672520e-02, -6.55438676e-02,\n",
       "        2.01709047e-02,  2.57082209e-02, -1.23868398e-02, -8.36496986e-03,\n",
       "       -6.64377734e-02,  9.43073183e-02, -3.57093103e-02, -3.42482924e-02,\n",
       "       -6.66357856e-03, -8.01521353e-03, -3.09711639e-02,  4.33013067e-02,\n",
       "       -8.21402483e-03, -1.50795117e-01,  3.07691265e-02,  4.00719605e-02,\n",
       "       -3.79293971e-02,  1.93215592e-03,  4.00530547e-02, -8.77075046e-02,\n",
       "       -3.68491039e-02,  8.57952610e-03, -3.19251716e-02, -1.25257513e-02,\n",
       "        7.35540390e-02,  1.34740758e-03,  2.05918886e-02,  2.71098183e-33,\n",
       "       -5.18576577e-02,  5.78360707e-02, -9.18985084e-02,  3.94422263e-02,\n",
       "        1.05576538e-01, -1.96912289e-02,  6.18402734e-02, -7.63465762e-02,\n",
       "        2.40880363e-02,  9.40048620e-02, -1.16535410e-01,  3.71198542e-02,\n",
       "        5.22425808e-02, -3.95856565e-03,  5.72214685e-02,  5.32864407e-03,\n",
       "        1.24016821e-01,  1.39022619e-02, -1.10249901e-02,  3.56053524e-02,\n",
       "       -3.30754891e-02,  8.16574097e-02, -1.52003886e-02,  6.05585165e-02,\n",
       "       -6.01396859e-02,  3.26102749e-02, -3.48296762e-02, -1.69882644e-02,\n",
       "       -9.74907354e-02, -2.71483976e-02,  1.74719095e-03, -7.68982321e-02,\n",
       "       -4.31858674e-02, -1.89984180e-02, -2.91660912e-02,  5.77489138e-02,\n",
       "        2.41821520e-02, -1.16903074e-02, -6.21434338e-02,  2.84350906e-02,\n",
       "       -2.37540342e-04, -2.51783878e-02,  4.39645769e-03,  8.12840611e-02,\n",
       "        3.64184156e-02, -6.04006425e-02, -3.65517773e-02, -7.93748200e-02,\n",
       "       -5.08525549e-03,  6.69699758e-02, -1.17784373e-01,  3.23743634e-02,\n",
       "       -4.71252762e-02, -1.34460535e-02, -9.48444754e-02,  8.24949425e-03,\n",
       "       -1.06749153e-02, -6.81882128e-02,  1.11822761e-03,  2.48020478e-02,\n",
       "       -6.35889173e-02,  2.84494013e-02, -2.61303056e-02,  8.58110562e-02,\n",
       "        1.14682302e-01, -5.35345264e-02, -5.63588925e-02,  4.26008850e-02,\n",
       "        1.09453732e-02,  2.09578574e-02,  1.00131199e-01,  3.26051414e-02,\n",
       "       -1.84208736e-01, -3.93208303e-02, -6.91455156e-02, -6.38105273e-02,\n",
       "       -6.56385645e-02, -6.41258387e-03, -4.79613133e-02, -7.68133476e-02,\n",
       "        2.95385215e-02, -2.29948834e-02,  4.17036526e-02, -2.50048414e-02,\n",
       "       -4.54508932e-03, -4.17136811e-02, -1.32289790e-02, -6.38357252e-02,\n",
       "       -2.46477057e-03, -1.37337586e-02,  1.68976113e-02, -6.30398393e-02,\n",
       "        8.98880661e-02,  4.18170355e-02, -1.85687486e-02, -1.80442150e-08,\n",
       "       -1.67998150e-02, -3.21578234e-02,  6.30383939e-02, -4.13091928e-02,\n",
       "        4.44818772e-02,  2.02463777e-03,  6.29593134e-02, -5.17370272e-03,\n",
       "       -1.00444062e-02, -3.05640250e-02,  3.52672115e-02,  5.58581352e-02,\n",
       "       -4.67124544e-02,  3.45102586e-02,  3.29578780e-02,  4.30114493e-02,\n",
       "        2.94361617e-02, -3.03164683e-02, -1.71107724e-02,  7.37484097e-02,\n",
       "       -5.47909737e-02,  2.77515575e-02,  6.20165467e-03,  1.58800669e-02,\n",
       "        3.42978872e-02, -5.15750051e-03,  2.35080142e-02,  7.53135011e-02,\n",
       "        1.92843508e-02,  3.36197391e-02,  5.09103276e-02,  1.52497053e-01,\n",
       "        1.64207183e-02,  2.70528961e-02,  3.75162996e-02,  2.18554307e-02,\n",
       "        5.66334054e-02, -3.95747125e-02,  7.12312832e-02, -5.41377328e-02,\n",
       "        1.03774341e-03,  2.11853758e-02, -3.56309339e-02,  1.09016918e-01,\n",
       "        2.76540057e-03,  3.13997455e-02,  1.38425361e-03, -3.45738418e-02,\n",
       "       -4.59277853e-02,  2.88083237e-02,  7.16897100e-03,  4.84684967e-02,\n",
       "        2.61018537e-02, -9.44065023e-03,  2.82169525e-02,  3.48724462e-02,\n",
       "        3.69099192e-02, -8.58947448e-03, -3.53204943e-02, -2.47857012e-02,\n",
       "       -1.91920716e-02,  3.80708463e-02,  5.99654056e-02, -4.22287807e-02],\n",
       "      dtype=float32)"
      ]
     },
     "execution_count": 92,
     "metadata": {},
     "output_type": "execute_result"
    }
   ],
   "source": [
    "sentences = [\"This is an example sentence\", \"Each sentence is converted\"]\n",
    "embeddings = model.encode(sentences)\n",
    "embeddings[0]\n"
   ]
  },
  {
   "cell_type": "code",
   "execution_count": 93,
   "metadata": {},
   "outputs": [
    {
     "data": {
      "text/plain": [
       "384"
      ]
     },
     "execution_count": 93,
     "metadata": {},
     "output_type": "execute_result"
    }
   ],
   "source": [
    "# dimensions of the vector embeddings\n",
    "len(embeddings[0])"
   ]
  },
  {
   "cell_type": "code",
   "execution_count": 94,
   "metadata": {},
   "outputs": [
    {
     "name": "stdout",
     "output_type": "stream",
     "text": [
      "384\n"
     ]
    }
   ],
   "source": [
    "print(EMBEDDINGS_DICT.get('vector_dims')) # setting this to default under constants"
   ]
  },
  {
   "cell_type": "markdown",
   "metadata": {},
   "source": [
    "### Load LanceDB embedder"
   ]
  },
  {
   "cell_type": "code",
   "execution_count": 95,
   "metadata": {},
   "outputs": [],
   "source": [
    "# calling the lanceDB embedding functions in the registry\n",
    "# Using `sentence-transformers` as the model registry\n",
    "model_registry = get_registry().get(\"sentence-transformers\")\n",
    "model = model_registry.create(name=model_name, device=device)"
   ]
  },
  {
   "cell_type": "markdown",
   "metadata": {},
   "source": [
    "### Define the schema for the table"
   ]
  },
  {
   "cell_type": "code",
   "execution_count": 96,
   "metadata": {},
   "outputs": [],
   "source": [
    "class CloudServiceInestionDataModel(LanceModel):\n",
    "    description: str = model.SourceField()\n",
    "    vector_description: Vector(dim=model.ndims()) = model.VectorField()\n",
    "    cloud_provider: str\n",
    "    service: str\n",
    "    category: str =  model.SourceField()\n",
    "    class Config:\n",
    "        arbitrary_types_allowed = True"
   ]
  },
  {
   "cell_type": "markdown",
   "metadata": {},
   "source": [
    "#### Read the dataset as a Pandas Dataframe"
   ]
  },
  {
   "cell_type": "code",
   "execution_count": 97,
   "metadata": {},
   "outputs": [],
   "source": [
    "df = pd.read_csv('../data/Cloud_Provider_Services.csv')"
   ]
  },
  {
   "cell_type": "code",
   "execution_count": 98,
   "metadata": {},
   "outputs": [
    {
     "data": {
      "text/html": [
       "<div>\n",
       "<style scoped>\n",
       "    .dataframe tbody tr th:only-of-type {\n",
       "        vertical-align: middle;\n",
       "    }\n",
       "\n",
       "    .dataframe tbody tr th {\n",
       "        vertical-align: top;\n",
       "    }\n",
       "\n",
       "    .dataframe thead th {\n",
       "        text-align: right;\n",
       "    }\n",
       "</style>\n",
       "<table border=\"1\" class=\"dataframe\">\n",
       "  <thead>\n",
       "    <tr style=\"text-align: right;\">\n",
       "      <th></th>\n",
       "      <th>cloud_provider</th>\n",
       "      <th>category</th>\n",
       "      <th>service</th>\n",
       "      <th>description</th>\n",
       "    </tr>\n",
       "  </thead>\n",
       "  <tbody>\n",
       "    <tr>\n",
       "      <th>1297</th>\n",
       "      <td>oci</td>\n",
       "      <td>Network</td>\n",
       "      <td>Network</td>\n",
       "      <td>Network services</td>\n",
       "    </tr>\n",
       "    <tr>\n",
       "      <th>1298</th>\n",
       "      <td>oci</td>\n",
       "      <td>Network</td>\n",
       "      <td>Load balancers</td>\n",
       "      <td>Load balancer service</td>\n",
       "    </tr>\n",
       "    <tr>\n",
       "      <th>1299</th>\n",
       "      <td>oci</td>\n",
       "      <td>Network</td>\n",
       "      <td>Virtual cloud networks</td>\n",
       "      <td>Virtual cloud networks</td>\n",
       "    </tr>\n",
       "    <tr>\n",
       "      <th>1300</th>\n",
       "      <td>oci</td>\n",
       "      <td>Network</td>\n",
       "      <td>Dns management</td>\n",
       "      <td>DNS management service</td>\n",
       "    </tr>\n",
       "    <tr>\n",
       "      <th>1301</th>\n",
       "      <td>oci</td>\n",
       "      <td>Network</td>\n",
       "      <td>Fast connect</td>\n",
       "      <td>Fast connect service</td>\n",
       "    </tr>\n",
       "  </tbody>\n",
       "</table>\n",
       "</div>"
      ],
      "text/plain": [
       "     cloud_provider category                 service             description\n",
       "1297            oci  Network                 Network        Network services\n",
       "1298            oci  Network          Load balancers   Load balancer service\n",
       "1299            oci  Network  Virtual cloud networks  Virtual cloud networks\n",
       "1300            oci  Network          Dns management  DNS management service\n",
       "1301            oci  Network            Fast connect    Fast connect service"
      ]
     },
     "execution_count": 98,
     "metadata": {},
     "output_type": "execute_result"
    }
   ],
   "source": [
    "df.tail()"
   ]
  },
  {
   "cell_type": "markdown",
   "metadata": {},
   "source": [
    "#### Create a list of documents to be added to LanceDB table"
   ]
  },
  {
   "cell_type": "code",
   "execution_count": 99,
   "metadata": {},
   "outputs": [],
   "source": [
    "data = df.apply(\n",
    "    lambda row: {\n",
    "        \"category\": row[\"category\"],\n",
    "        \"cloud_provider\": row[\"cloud_provider\"],\n",
    "        \"service\": row[\"service\"],\n",
    "        \"description\": row[\"description\"],\n",
    "    },\n",
    "    axis=1,\n",
    ").values.tolist()"
   ]
  },
  {
   "cell_type": "code",
   "execution_count": 100,
   "metadata": {},
   "outputs": [
    {
     "data": {
      "text/plain": [
       "{'category': 'Analytics',\n",
       " 'cloud_provider': 'aws',\n",
       " 'service': 'Amazon Athena',\n",
       " 'description': 'An interactive query service that makes it easy to analyze data in Amazon S3 using standard SQL.'}"
      ]
     },
     "execution_count": 100,
     "metadata": {},
     "output_type": "execute_result"
    }
   ],
   "source": [
    "data[0]"
   ]
  },
  {
   "cell_type": "markdown",
   "metadata": {},
   "source": [
    "#### Create a lanceDB table with the provided schema model"
   ]
  },
  {
   "cell_type": "code",
   "execution_count": 101,
   "metadata": {},
   "outputs": [
    {
     "name": "stdout",
     "output_type": "stream",
     "text": [
      "Creating table: vector_db\n",
      "mode is overwrite\n"
     ]
    },
    {
     "name": "stderr",
     "output_type": "stream",
     "text": [
      "[2024-09-05T13:26:22Z WARN  lance::dataset] No existing dataset at /Users/dusisarathchandra/Documents/Projects/workspaces/llmworkspace/cloud-service-helper/notebooks/cloud_service_knowledge_base/vector_db/vector_db.lance, it will be created\n"
     ]
    }
   ],
   "source": [
    "table = db.create_table(\"vector_db\", schema=CloudServiceInestionDataModel, mode=\"overwrite\")"
   ]
  },
  {
   "cell_type": "markdown",
   "metadata": {},
   "source": [
    "#### Add the data to the table"
   ]
  },
  {
   "cell_type": "code",
   "execution_count": 103,
   "metadata": {},
   "outputs": [],
   "source": [
    "table.add(data)"
   ]
  },
  {
   "cell_type": "markdown",
   "metadata": {},
   "source": [
    "### Full-text search \n",
    "[LanceDB - full Text Search documentation](https://lancedb.github.io/lancedb/fts/)"
   ]
  },
  {
   "cell_type": "code",
   "execution_count": 104,
   "metadata": {},
   "outputs": [],
   "source": [
    "table.create_fts_index(\"description\", replace=True)"
   ]
  },
  {
   "cell_type": "code",
   "execution_count": 105,
   "metadata": {},
   "outputs": [],
   "source": [
    "#query = \"An interactive query service that makes it easy to analyze data in Amazon S3 using standard SQL.\"\n",
    "query = \"query service that makes it easy to analyze data\"\n",
    "fts_actual = table.search(query, query_type=\"fts\").limit(10).to_pandas()"
   ]
  },
  {
   "cell_type": "code",
   "execution_count": 44,
   "metadata": {},
   "outputs": [
    {
     "data": {
      "text/html": [
       "<div>\n",
       "<style scoped>\n",
       "    .dataframe tbody tr th:only-of-type {\n",
       "        vertical-align: middle;\n",
       "    }\n",
       "\n",
       "    .dataframe tbody tr th {\n",
       "        vertical-align: top;\n",
       "    }\n",
       "\n",
       "    .dataframe thead th {\n",
       "        text-align: right;\n",
       "    }\n",
       "</style>\n",
       "<table border=\"1\" class=\"dataframe\">\n",
       "  <thead>\n",
       "    <tr style=\"text-align: right;\">\n",
       "      <th></th>\n",
       "      <th>description</th>\n",
       "      <th>vector_description</th>\n",
       "      <th>cloud_provider</th>\n",
       "      <th>service</th>\n",
       "      <th>category</th>\n",
       "      <th>score</th>\n",
       "    </tr>\n",
       "  </thead>\n",
       "  <tbody>\n",
       "    <tr>\n",
       "      <th>0</th>\n",
       "      <td>An interactive query service that makes it eas...</td>\n",
       "      <td>[0.00044248256, -0.0026783892, -0.12139637, 0....</td>\n",
       "      <td>aws</td>\n",
       "      <td>Amazon Athena</td>\n",
       "      <td>Analytics</td>\n",
       "      <td>17.903425</td>\n",
       "    </tr>\n",
       "    <tr>\n",
       "      <th>1</th>\n",
       "      <td>A web service that makes it easy to process la...</td>\n",
       "      <td>[0.00044248256, -0.0026783892, -0.12139637, 0....</td>\n",
       "      <td>aws</td>\n",
       "      <td>Amazon Elastic MapReduce</td>\n",
       "      <td>Analytics</td>\n",
       "      <td>13.446853</td>\n",
       "    </tr>\n",
       "    <tr>\n",
       "      <th>2</th>\n",
       "      <td>A service that makes it easy to add image and ...</td>\n",
       "      <td>[-0.024350997, 0.016706645, 0.037720546, -0.00...</td>\n",
       "      <td>aws</td>\n",
       "      <td>Amazon Rekognition</td>\n",
       "      <td>Artificial Intelligence</td>\n",
       "      <td>12.409848</td>\n",
       "    </tr>\n",
       "    <tr>\n",
       "      <th>3</th>\n",
       "      <td>A fully managed service that makes it easy to ...</td>\n",
       "      <td>[0.0020500543, 0.13870272, -0.05612806, -0.001...</td>\n",
       "      <td>aws</td>\n",
       "      <td>Amazon Managed Streaming for Apache Kafka</td>\n",
       "      <td>Compute</td>\n",
       "      <td>12.025981</td>\n",
       "    </tr>\n",
       "    <tr>\n",
       "      <th>4</th>\n",
       "      <td>A machine learning service that makes it easy ...</td>\n",
       "      <td>[-0.024350997, 0.016706645, 0.037720546, -0.00...</td>\n",
       "      <td>aws</td>\n",
       "      <td>Amazon Personalize</td>\n",
       "      <td>Artificial Intelligence</td>\n",
       "      <td>10.932827</td>\n",
       "    </tr>\n",
       "    <tr>\n",
       "      <th>5</th>\n",
       "      <td>A fast cloud-powered business intelligence ser...</td>\n",
       "      <td>[0.00044248256, -0.0026783892, -0.12139637, 0....</td>\n",
       "      <td>aws</td>\n",
       "      <td>Amazon QuickSight</td>\n",
       "      <td>Analytics</td>\n",
       "      <td>10.621030</td>\n",
       "    </tr>\n",
       "    <tr>\n",
       "      <th>6</th>\n",
       "      <td>A fully managed extract transform and load (ET...</td>\n",
       "      <td>[0.00044248256, -0.0026783892, -0.12139637, 0....</td>\n",
       "      <td>aws</td>\n",
       "      <td>AWS Glue</td>\n",
       "      <td>Analytics</td>\n",
       "      <td>10.530128</td>\n",
       "    </tr>\n",
       "    <tr>\n",
       "      <th>7</th>\n",
       "      <td>A fully managed service that makes it easy to ...</td>\n",
       "      <td>[0.00044248256, -0.0026783892, -0.12139637, 0....</td>\n",
       "      <td>aws</td>\n",
       "      <td>AWS IoT Analytics</td>\n",
       "      <td>Analytics</td>\n",
       "      <td>10.530128</td>\n",
       "    </tr>\n",
       "    <tr>\n",
       "      <th>8</th>\n",
       "      <td>A service that makes it easy for developers of...</td>\n",
       "      <td>[-0.024350997, 0.016706645, 0.037720546, -0.00...</td>\n",
       "      <td>aws</td>\n",
       "      <td>Amazon Machine Learning</td>\n",
       "      <td>Artificial Intelligence</td>\n",
       "      <td>10.489511</td>\n",
       "    </tr>\n",
       "    <tr>\n",
       "      <th>9</th>\n",
       "      <td>A fully managed service that makes it easy for...</td>\n",
       "      <td>[0.0020500543, 0.13870272, -0.05612806, -0.001...</td>\n",
       "      <td>aws</td>\n",
       "      <td>Amazon API Gateway</td>\n",
       "      <td>Compute</td>\n",
       "      <td>10.080750</td>\n",
       "    </tr>\n",
       "  </tbody>\n",
       "</table>\n",
       "</div>"
      ],
      "text/plain": [
       "                                         description  \\\n",
       "0  An interactive query service that makes it eas...   \n",
       "1  A web service that makes it easy to process la...   \n",
       "2  A service that makes it easy to add image and ...   \n",
       "3  A fully managed service that makes it easy to ...   \n",
       "4  A machine learning service that makes it easy ...   \n",
       "5  A fast cloud-powered business intelligence ser...   \n",
       "6  A fully managed extract transform and load (ET...   \n",
       "7  A fully managed service that makes it easy to ...   \n",
       "8  A service that makes it easy for developers of...   \n",
       "9  A fully managed service that makes it easy for...   \n",
       "\n",
       "                                  vector_description cloud_provider  \\\n",
       "0  [0.00044248256, -0.0026783892, -0.12139637, 0....            aws   \n",
       "1  [0.00044248256, -0.0026783892, -0.12139637, 0....            aws   \n",
       "2  [-0.024350997, 0.016706645, 0.037720546, -0.00...            aws   \n",
       "3  [0.0020500543, 0.13870272, -0.05612806, -0.001...            aws   \n",
       "4  [-0.024350997, 0.016706645, 0.037720546, -0.00...            aws   \n",
       "5  [0.00044248256, -0.0026783892, -0.12139637, 0....            aws   \n",
       "6  [0.00044248256, -0.0026783892, -0.12139637, 0....            aws   \n",
       "7  [0.00044248256, -0.0026783892, -0.12139637, 0....            aws   \n",
       "8  [-0.024350997, 0.016706645, 0.037720546, -0.00...            aws   \n",
       "9  [0.0020500543, 0.13870272, -0.05612806, -0.001...            aws   \n",
       "\n",
       "                                     service                 category  \\\n",
       "0                              Amazon Athena                Analytics   \n",
       "1                   Amazon Elastic MapReduce                Analytics   \n",
       "2                         Amazon Rekognition  Artificial Intelligence   \n",
       "3  Amazon Managed Streaming for Apache Kafka                  Compute   \n",
       "4                         Amazon Personalize  Artificial Intelligence   \n",
       "5                          Amazon QuickSight                Analytics   \n",
       "6                                   AWS Glue                Analytics   \n",
       "7                          AWS IoT Analytics                Analytics   \n",
       "8                    Amazon Machine Learning  Artificial Intelligence   \n",
       "9                         Amazon API Gateway                  Compute   \n",
       "\n",
       "       score  \n",
       "0  17.903425  \n",
       "1  13.446853  \n",
       "2  12.409848  \n",
       "3  12.025981  \n",
       "4  10.932827  \n",
       "5  10.621030  \n",
       "6  10.530128  \n",
       "7  10.530128  \n",
       "8  10.489511  \n",
       "9  10.080750  "
      ]
     },
     "execution_count": 44,
     "metadata": {},
     "output_type": "execute_result"
    }
   ],
   "source": [
    "fts_actual.head(10)"
   ]
  },
  {
   "cell_type": "markdown",
   "metadata": {},
   "source": [
    "### Vector Search\n",
    "[Vector Arithmetic with LanceDB: An Intro to Vector Embeddings](https://blog.lancedb.com/vector-arithmetic-with-lancedb-an-intro-to-vector-embeddings/)"
   ]
  },
  {
   "cell_type": "code",
   "execution_count": 106,
   "metadata": {},
   "outputs": [],
   "source": [
    "query = \"query that makes it easy to analyze S3\"\n",
    "vector_actual = table.search(query, query_type=\"vector\").limit(10).to_pandas()"
   ]
  },
  {
   "cell_type": "code",
   "execution_count": 107,
   "metadata": {},
   "outputs": [
    {
     "data": {
      "text/html": [
       "<div>\n",
       "<style scoped>\n",
       "    .dataframe tbody tr th:only-of-type {\n",
       "        vertical-align: middle;\n",
       "    }\n",
       "\n",
       "    .dataframe tbody tr th {\n",
       "        vertical-align: top;\n",
       "    }\n",
       "\n",
       "    .dataframe thead th {\n",
       "        text-align: right;\n",
       "    }\n",
       "</style>\n",
       "<table border=\"1\" class=\"dataframe\">\n",
       "  <thead>\n",
       "    <tr style=\"text-align: right;\">\n",
       "      <th></th>\n",
       "      <th>description</th>\n",
       "      <th>vector_description</th>\n",
       "      <th>cloud_provider</th>\n",
       "      <th>service</th>\n",
       "      <th>category</th>\n",
       "      <th>_distance</th>\n",
       "    </tr>\n",
       "  </thead>\n",
       "  <tbody>\n",
       "    <tr>\n",
       "      <th>0</th>\n",
       "      <td>A managed service in the AWS Cloud that makes ...</td>\n",
       "      <td>[0.00044248256, -0.0026783892, -0.12139637, 0....</td>\n",
       "      <td>aws</td>\n",
       "      <td>Amazon CloudSearch</td>\n",
       "      <td>Analytics</td>\n",
       "      <td>1.244212</td>\n",
       "    </tr>\n",
       "    <tr>\n",
       "      <th>1</th>\n",
       "      <td>An interactive query service that makes it eas...</td>\n",
       "      <td>[0.00044248256, -0.0026783892, -0.12139637, 0....</td>\n",
       "      <td>aws</td>\n",
       "      <td>Amazon Athena</td>\n",
       "      <td>Analytics</td>\n",
       "      <td>1.244212</td>\n",
       "    </tr>\n",
       "    <tr>\n",
       "      <th>2</th>\n",
       "      <td>A web service that makes it easy to process la...</td>\n",
       "      <td>[0.00044248256, -0.0026783892, -0.12139637, 0....</td>\n",
       "      <td>aws</td>\n",
       "      <td>Amazon Elastic MapReduce</td>\n",
       "      <td>Analytics</td>\n",
       "      <td>1.244212</td>\n",
       "    </tr>\n",
       "    <tr>\n",
       "      <th>3</th>\n",
       "      <td>A platform on AWS to collect process and analy...</td>\n",
       "      <td>[0.00044248256, -0.0026783892, -0.12139637, 0....</td>\n",
       "      <td>aws</td>\n",
       "      <td>Amazon Kinesis</td>\n",
       "      <td>Analytics</td>\n",
       "      <td>1.244212</td>\n",
       "    </tr>\n",
       "    <tr>\n",
       "      <th>4</th>\n",
       "      <td>Logging service</td>\n",
       "      <td>[0.00044248256, -0.0026783892, -0.12139637, 0....</td>\n",
       "      <td>oci</td>\n",
       "      <td>Logging</td>\n",
       "      <td>Analytics</td>\n",
       "      <td>1.244212</td>\n",
       "    </tr>\n",
       "  </tbody>\n",
       "</table>\n",
       "</div>"
      ],
      "text/plain": [
       "                                         description  \\\n",
       "0  A managed service in the AWS Cloud that makes ...   \n",
       "1  An interactive query service that makes it eas...   \n",
       "2  A web service that makes it easy to process la...   \n",
       "3  A platform on AWS to collect process and analy...   \n",
       "4                                    Logging service   \n",
       "\n",
       "                                  vector_description cloud_provider  \\\n",
       "0  [0.00044248256, -0.0026783892, -0.12139637, 0....            aws   \n",
       "1  [0.00044248256, -0.0026783892, -0.12139637, 0....            aws   \n",
       "2  [0.00044248256, -0.0026783892, -0.12139637, 0....            aws   \n",
       "3  [0.00044248256, -0.0026783892, -0.12139637, 0....            aws   \n",
       "4  [0.00044248256, -0.0026783892, -0.12139637, 0....            oci   \n",
       "\n",
       "                    service   category  _distance  \n",
       "0        Amazon CloudSearch  Analytics   1.244212  \n",
       "1             Amazon Athena  Analytics   1.244212  \n",
       "2  Amazon Elastic MapReduce  Analytics   1.244212  \n",
       "3            Amazon Kinesis  Analytics   1.244212  \n",
       "4                   Logging  Analytics   1.244212  "
      ]
     },
     "execution_count": 107,
     "metadata": {},
     "output_type": "execute_result"
    }
   ],
   "source": [
    "vector_actual.head(5)\n",
    "\n",
    "## Expected answer: `Amazon Athena` which is a query service that makes it easy to analyze data in Amazon S3 using standard SQL."
   ]
  },
  {
   "cell_type": "markdown",
   "metadata": {},
   "source": [
    "### Hybrid Search \n",
    "\n",
    "[Example for Hybrid Search from LanceDB github](https://github.com/lancedb/vectordb-recipes/blob/main/examples/Inbuilt-Hybrid-Search/Inbuilt_Hybrid_Search_with_LanceDB.ipynb)"
   ]
  },
  {
   "cell_type": "code",
   "execution_count": 109,
   "metadata": {},
   "outputs": [
    {
     "data": {
      "text/html": [
       "<div>\n",
       "<style scoped>\n",
       "    .dataframe tbody tr th:only-of-type {\n",
       "        vertical-align: middle;\n",
       "    }\n",
       "\n",
       "    .dataframe tbody tr th {\n",
       "        vertical-align: top;\n",
       "    }\n",
       "\n",
       "    .dataframe thead th {\n",
       "        text-align: right;\n",
       "    }\n",
       "</style>\n",
       "<table border=\"1\" class=\"dataframe\">\n",
       "  <thead>\n",
       "    <tr style=\"text-align: right;\">\n",
       "      <th></th>\n",
       "      <th>description</th>\n",
       "      <th>vector_description</th>\n",
       "      <th>cloud_provider</th>\n",
       "      <th>service</th>\n",
       "      <th>category</th>\n",
       "      <th>_relevance_score</th>\n",
       "    </tr>\n",
       "  </thead>\n",
       "  <tbody>\n",
       "    <tr>\n",
       "      <th>0</th>\n",
       "      <td>An interactive query service that makes it eas...</td>\n",
       "      <td>[0.00044248256, -0.0026783892, -0.12139637, 0....</td>\n",
       "      <td>aws</td>\n",
       "      <td>Amazon Athena</td>\n",
       "      <td>Analytics</td>\n",
       "      <td>0.8</td>\n",
       "    </tr>\n",
       "    <tr>\n",
       "      <th>1</th>\n",
       "      <td>An interactive query service that makes it eas...</td>\n",
       "      <td>[0.00044248256, -0.0026783892, -0.12139637, 0....</td>\n",
       "      <td>aws</td>\n",
       "      <td>Amazon Athena</td>\n",
       "      <td>Analytics</td>\n",
       "      <td>0.8</td>\n",
       "    </tr>\n",
       "    <tr>\n",
       "      <th>2</th>\n",
       "      <td>Database services</td>\n",
       "      <td>[0.04617132, -0.020743694, -0.09271921, 0.0216...</td>\n",
       "      <td>democloud</td>\n",
       "      <td>Database</td>\n",
       "      <td>Database</td>\n",
       "      <td>0.8</td>\n",
       "    </tr>\n",
       "    <tr>\n",
       "      <th>3</th>\n",
       "      <td>Managed MongoDB service</td>\n",
       "      <td>[0.04617132, -0.020743694, -0.09271921, 0.0216...</td>\n",
       "      <td>alicloud</td>\n",
       "      <td>ApsaraDB for MongoDB</td>\n",
       "      <td>Database</td>\n",
       "      <td>0.8</td>\n",
       "    </tr>\n",
       "    <tr>\n",
       "      <th>4</th>\n",
       "      <td>Relational database service</td>\n",
       "      <td>[0.04617132, -0.020743694, -0.09271921, 0.0216...</td>\n",
       "      <td>alicloud</td>\n",
       "      <td>Relational Database Service (RDS)</td>\n",
       "      <td>Database</td>\n",
       "      <td>0.8</td>\n",
       "    </tr>\n",
       "  </tbody>\n",
       "</table>\n",
       "</div>"
      ],
      "text/plain": [
       "                                         description  \\\n",
       "0  An interactive query service that makes it eas...   \n",
       "1  An interactive query service that makes it eas...   \n",
       "2                                  Database services   \n",
       "3                            Managed MongoDB service   \n",
       "4                        Relational database service   \n",
       "\n",
       "                                  vector_description cloud_provider  \\\n",
       "0  [0.00044248256, -0.0026783892, -0.12139637, 0....            aws   \n",
       "1  [0.00044248256, -0.0026783892, -0.12139637, 0....            aws   \n",
       "2  [0.04617132, -0.020743694, -0.09271921, 0.0216...      democloud   \n",
       "3  [0.04617132, -0.020743694, -0.09271921, 0.0216...       alicloud   \n",
       "4  [0.04617132, -0.020743694, -0.09271921, 0.0216...       alicloud   \n",
       "\n",
       "                             service   category  _relevance_score  \n",
       "0                      Amazon Athena  Analytics               0.8  \n",
       "1                      Amazon Athena  Analytics               0.8  \n",
       "2                           Database   Database               0.8  \n",
       "3               ApsaraDB for MongoDB   Database               0.8  \n",
       "4  Relational Database Service (RDS)   Database               0.8  "
      ]
     },
     "execution_count": 109,
     "metadata": {},
     "output_type": "execute_result"
    }
   ],
   "source": [
    "from lancedb.rerankers import LinearCombinationReranker\n",
    "\n",
    "reranker = LinearCombinationReranker(\n",
    "    weight=0.8\n",
    ")  # Weight = 0 Means pure Text Search (BM-25) and 1 means pure Sementic (Vector) Search\n",
    "query = \"query that makes it easy to analyze data\"\n",
    "table.search(\n",
    "    query,\n",
    "    query_type=\"hybrid\",\n",
    "    vector_column_name=\"vector_description\",\n",
    ").rerank(reranker=reranker).limit(5).to_pandas()"
   ]
  },
  {
   "cell_type": "code",
   "execution_count": null,
   "metadata": {},
   "outputs": [
    {
     "name": "stderr",
     "output_type": "stream",
     "text": [
      "huggingface/tokenizers: The current process just got forked, after parallelism has already been used. Disabling parallelism to avoid deadlocks...\n",
      "To disable this warning, you can either:\n",
      "\t- Avoid using `tokenizers` before the fork if possible\n",
      "\t- Explicitly set the environment variable TOKENIZERS_PARALLELISM=(true | false)\n"
     ]
    },
    {
     "name": "stdout",
     "output_type": "stream",
     "text": [
      "accelerate==0.34.0\n",
      "aiohappyeyeballs==2.4.0\n",
      "aiohttp==3.10.5\n",
      "aiosignal==1.3.1\n",
      "altair==5.4.1\n",
      "anaconda-anon-usage @ file:///private/var/folders/k1/30mswbxs7r1g6zwn8y4fyt500000gp/T/abs_3eler6mjxh/croot/anaconda-anon-usage_1710965076906/work\n",
      "annotated-types @ file:///private/var/folders/nz/j6p8yfhx1mv_0grj5xl4650h0000gp/T/abs_1fa2djihwb/croot/annotated-types_1709542925772/work\n",
      "anyio @ file:///home/conda/feedstock_root/build_artifacts/anyio_1717693030552/work\n",
      "appnope @ file:///home/conda/feedstock_root/build_artifacts/appnope_1707233003401/work\n",
      "archspec @ file:///croot/archspec_1709217642129/work\n",
      "argon2-cffi @ file:///home/conda/feedstock_root/build_artifacts/argon2-cffi_1692818318753/work\n",
      "argon2-cffi-bindings @ file:///Users/runner/miniforge3/conda-bld/argon2-cffi-bindings_1695386808436/work\n",
      "arrow @ file:///home/conda/feedstock_root/build_artifacts/arrow_1696128962909/work\n",
      "asttokens @ file:///home/conda/feedstock_root/build_artifacts/asttokens_1698341106958/work\n",
      "async-lru==2.0.4\n",
      "async-timeout==4.0.3\n",
      "attrs @ file:///home/conda/feedstock_root/build_artifacts/attrs_1722977137225/work\n",
      "babel==2.16.0\n",
      "beautifulsoup4 @ file:///home/conda/feedstock_root/build_artifacts/beautifulsoup4_1705564648255/work\n",
      "bleach @ file:///home/conda/feedstock_root/build_artifacts/bleach_1696630167146/work\n",
      "blinker==1.8.2\n",
      "boltons @ file:///private/var/folders/nz/j6p8yfhx1mv_0grj5xl4650h0000gp/T/abs_f63n9uulmp/croot/boltons_1677628710094/work\n",
      "Brotli @ file:///private/var/folders/k1/30mswbxs7r1g6zwn8y4fyt500000gp/T/abs_27zk0eqdh0/croot/brotli-split_1714483157007/work\n",
      "cached-property @ file:///home/conda/feedstock_root/build_artifacts/cached_property_1615209429212/work\n",
      "cachetools @ file:///private/var/folders/nz/j6p8yfhx1mv_0grj5xl4650h0000gp/T/abs_6a4ekiifd5/croot/cachetools_1713977095290/work\n",
      "certifi @ file:///private/var/folders/k1/30mswbxs7r1g6zwn8y4fyt500000gp/T/abs_70oty9s9jh/croot/certifi_1720453497032/work/certifi\n",
      "cffi @ file:///private/var/folders/nz/j6p8yfhx1mv_0grj5xl4650h0000gp/T/abs_7a9c7wyorr/croot/cffi_1714483157752/work\n",
      "charset-normalizer @ file:///tmp/build/80754af9/charset-normalizer_1630003229654/work\n",
      "click==8.1.7\n",
      "comm @ file:///home/conda/feedstock_root/build_artifacts/comm_1710320294760/work\n",
      "conda @ file:///private/var/folders/nz/j6p8yfhx1mv_0grj5xl4650h0000gp/T/abs_6fdicqiami/croot/conda_1722004613620/work\n",
      "conda-content-trust @ file:///private/var/folders/nz/j6p8yfhx1mv_0grj5xl4650h0000gp/T/abs_9fusbfzixa/croot/conda-content-trust_1714483157715/work\n",
      "conda-libmamba-solver @ file:///croot/conda-libmamba-solver_1706733287605/work/src\n",
      "conda-package-handling @ file:///private/var/folders/nz/j6p8yfhx1mv_0grj5xl4650h0000gp/T/abs_ef9phnqphe/croot/conda-package-handling_1718138279942/work\n",
      "conda_package_streaming @ file:///private/var/folders/k1/30mswbxs7r1g6zwn8y4fyt500000gp/T/abs_6dgq200203/croot/conda-package-streaming_1718136087190/work\n",
      "cryptography @ file:///private/var/folders/nz/j6p8yfhx1mv_0grj5xl4650h0000gp/T/abs_31zgxm62w8/croot/cryptography_1714660690857/work\n",
      "datasets==2.21.0\n",
      "debugpy @ file:///Users/runner/miniforge3/conda-bld/debugpy_1680755676047/work\n",
      "decorator @ file:///home/conda/feedstock_root/build_artifacts/decorator_1641555617451/work\n",
      "defusedxml @ file:///home/conda/feedstock_root/build_artifacts/defusedxml_1615232257335/work\n",
      "deprecation @ file:///tmp/build/80754af9/deprecation_1628181869014/work\n",
      "dill==0.3.8\n",
      "distlib==0.3.8\n",
      "distro @ file:///private/var/folders/nz/j6p8yfhx1mv_0grj5xl4650h0000gp/T/abs_ddkyz0575y/croot/distro_1714488254309/work\n",
      "elastic-transport==8.13.1\n",
      "elasticsearch==8.14.0\n",
      "entrypoints @ file:///home/conda/feedstock_root/build_artifacts/entrypoints_1643888246732/work\n",
      "et-xmlfile==1.1.0\n",
      "exceptiongroup @ file:///home/conda/feedstock_root/build_artifacts/exceptiongroup_1720869315914/work\n",
      "executing @ file:///home/conda/feedstock_root/build_artifacts/executing_1698579936712/work\n",
      "fastjsonschema @ file:///home/conda/feedstock_root/build_artifacts/python-fastjsonschema_1718477020893/work/dist\n",
      "filelock==3.15.4\n",
      "flash-attention==1.0.0\n",
      "fqdn @ file:///home/conda/feedstock_root/build_artifacts/fqdn_1638810296540/work/dist\n",
      "frozendict @ file:///private/var/folders/k1/30mswbxs7r1g6zwn8y4fyt500000gp/T/abs_8b0cest_id/croot/frozendict_1713194839836/work\n",
      "frozenlist==1.4.1\n",
      "fsspec==2024.6.1\n",
      "gitdb==4.0.11\n",
      "GitPython==3.1.43\n",
      "h11==0.14.0\n",
      "httpcore==1.0.5\n",
      "httpx==0.27.0\n",
      "huggingface-hub==0.24.5\n",
      "idna @ file:///private/var/folders/k1/30mswbxs7r1g6zwn8y4fyt500000gp/T/abs_a12xpo84t2/croot/idna_1714398852854/work\n",
      "importlib_resources @ file:///home/conda/feedstock_root/build_artifacts/importlib_resources_1711040877059/work\n",
      "ipykernel @ file:///Users/runner/miniforge3/conda-bld/ipykernel_1719845458456/work\n",
      "ipython @ file:///home/conda/feedstock_root/build_artifacts/ipython_1719582526268/work\n",
      "ipython_genutils @ file:///home/conda/feedstock_root/build_artifacts/ipython_genutils_1716278396992/work\n",
      "ipywidgets @ file:///home/conda/feedstock_root/build_artifacts/ipywidgets_1716897651763/work\n",
      "isoduration @ file:///home/conda/feedstock_root/build_artifacts/isoduration_1638811571363/work/dist\n",
      "jedi @ file:///home/conda/feedstock_root/build_artifacts/jedi_1696326070614/work\n",
      "Jinja2 @ file:///home/conda/feedstock_root/build_artifacts/jinja2_1715127149914/work\n",
      "jiter==0.5.0\n",
      "joblib==1.4.2\n",
      "json5==0.9.25\n",
      "jsonpatch @ file:///private/var/folders/k1/30mswbxs7r1g6zwn8y4fyt500000gp/T/abs_3ajyoz8zoj/croot/jsonpatch_1714483362270/work\n",
      "jsonpointer==2.1\n",
      "jsonschema @ file:///home/conda/feedstock_root/build_artifacts/jsonschema_1720529478715/work\n",
      "jsonschema-specifications @ file:///tmp/tmpkv1z7p57/src\n",
      "jupyter-contrib-core @ file:///home/conda/feedstock_root/build_artifacts/jupyter_contrib_core_1657548529421/work\n",
      "jupyter-contrib-nbextensions @ file:///home/conda/feedstock_root/build_artifacts/jupyter_contrib_nbextensions_1670068802953/work\n",
      "jupyter-events @ file:///home/conda/feedstock_root/build_artifacts/jupyter_events_1710805637316/work\n",
      "jupyter-highlight-selected-word @ file:///home/conda/feedstock_root/build_artifacts/jupyter_highlight_selected_word_1695322379939/work\n",
      "jupyter-latex-envs @ file:///home/conda/feedstock_root/build_artifacts/jupyter_latex_envs_1614852190293/work\n",
      "jupyter-lsp==2.2.5\n",
      "jupyter-nbextensions-configurator @ file:///home/conda/feedstock_root/build_artifacts/jupyter_nbextensions_configurator_1670793770953/work\n",
      "jupyter_client @ file:///home/conda/feedstock_root/build_artifacts/jupyter_client_1673615989977/work\n",
      "jupyter_core @ file:///Users/runner/miniforge3/conda-bld/jupyter_core_1710257588864/work\n",
      "jupyter_server @ file:///home/conda/feedstock_root/build_artifacts/jupyter_server_1720816649297/work\n",
      "jupyter_server_terminals @ file:///home/conda/feedstock_root/build_artifacts/jupyter_server_terminals_1710262634903/work\n",
      "jupyterlab==4.1.8\n",
      "jupyterlab_pygments @ file:///home/conda/feedstock_root/build_artifacts/jupyterlab_pygments_1707149102966/work\n",
      "jupyterlab_server==2.27.3\n",
      "jupyterlab_widgets @ file:///home/conda/feedstock_root/build_artifacts/jupyterlab_widgets_1716891641122/work\n",
      "lancedb @ file:///Users/runner/miniforge3/conda-bld/lancedb_1723196787514/work/python\n",
      "libmambapy @ file:///private/var/folders/nz/j6p8yfhx1mv_0grj5xl4650h0000gp/T/abs_8b8wjifot8/croot/mamba-split_1714483537242/work/libmambapy\n",
      "lxml @ file:///Users/runner/miniforge3/conda-bld/lxml_1671013522951/work\n",
      "markdown-it-py==3.0.0\n",
      "MarkupSafe @ file:///Users/runner/miniforge3/conda-bld/markupsafe_1706900061465/work\n",
      "matplotlib-inline @ file:///home/conda/feedstock_root/build_artifacts/matplotlib-inline_1713250518406/work\n",
      "mdurl==0.1.2\n",
      "menuinst @ file:///private/var/folders/k1/30mswbxs7r1g6zwn8y4fyt500000gp/T/abs_7dz63k6mur/croot/menuinst_1718132539961/work\n",
      "mistune @ file:///home/conda/feedstock_root/build_artifacts/mistune_1698947099619/work\n",
      "mpmath==1.3.0\n",
      "multidict==6.0.5\n",
      "multipledispatch==1.0.0\n",
      "multiprocess==0.70.16\n",
      "narwhals==1.6.1\n",
      "natsort==8.4.0\n",
      "nbclassic @ file:///home/conda/feedstock_root/build_artifacts/nbclassic_1716838762700/work\n",
      "nbclient @ file:///home/conda/feedstock_root/build_artifacts/nbclient_1710317608672/work\n",
      "nbconvert @ file:///home/conda/feedstock_root/build_artifacts/nbconvert-meta_1718135430380/work\n",
      "nbformat @ file:///home/conda/feedstock_root/build_artifacts/nbformat_1712238998817/work\n",
      "nest_asyncio @ file:///home/conda/feedstock_root/build_artifacts/nest-asyncio_1705850609492/work\n",
      "networkx==3.3\n",
      "notebook @ file:///home/conda/feedstock_root/build_artifacts/notebook_1715848908871/work\n",
      "notebook_shim @ file:///home/conda/feedstock_root/build_artifacts/notebook-shim_1707957777232/work\n",
      "numpy @ file:///private/var/folders/k1/30mswbxs7r1g6zwn8y4fyt500000gp/T/abs_a51i_mbs7m/croot/numpy_and_numpy_base_1708638620867/work/dist/numpy-1.26.4-cp310-cp310-macosx_11_0_arm64.whl#sha256=c4b11b3c4d4fdb810039503fe01f311ade06cd1d675fcd6d208800a393f19b69\n",
      "openai==1.40.2\n",
      "openpyxl==3.1.5\n",
      "overrides @ file:///home/conda/feedstock_root/build_artifacts/overrides_1706394519472/work\n",
      "packaging @ file:///private/var/folders/k1/30mswbxs7r1g6zwn8y4fyt500000gp/T/abs_a6lqg7at4g/croot/packaging_1710807410750/work\n",
      "pandas==2.2.2\n",
      "pandas-flavor==0.6.0\n",
      "pandocfilters @ file:///home/conda/feedstock_root/build_artifacts/pandocfilters_1631603243851/work\n",
      "parso @ file:///home/conda/feedstock_root/build_artifacts/parso_1712320355065/work\n",
      "pexpect @ file:///home/conda/feedstock_root/build_artifacts/pexpect_1706113125309/work\n",
      "pickleshare @ file:///home/conda/feedstock_root/build_artifacts/pickleshare_1602536217715/work\n",
      "pillow==10.4.0\n",
      "pipenv==2024.0.1\n",
      "pkgutil_resolve_name @ file:///home/conda/feedstock_root/build_artifacts/pkgutil-resolve-name_1694617248815/work\n",
      "platformdirs @ file:///private/var/folders/k1/30mswbxs7r1g6zwn8y4fyt500000gp/T/abs_a8u4fy8k9o/croot/platformdirs_1692205661656/work\n",
      "pluggy @ file:///private/var/folders/nz/j6p8yfhx1mv_0grj5xl4650h0000gp/T/abs_croot-w6jyveby/pluggy_1648109277227/work\n",
      "prometheus_client @ file:///home/conda/feedstock_root/build_artifacts/prometheus_client_1707932675456/work\n",
      "prompt_toolkit @ file:///home/conda/feedstock_root/build_artifacts/prompt-toolkit_1718047967974/work\n",
      "protobuf==5.28.0\n",
      "psutil @ file:///Users/runner/miniforge3/conda-bld/psutil_1719274593229/work\n",
      "ptyprocess @ file:///home/conda/feedstock_root/build_artifacts/ptyprocess_1609419310487/work/dist/ptyprocess-0.7.0-py2.py3-none-any.whl\n",
      "pure_eval @ file:///home/conda/feedstock_root/build_artifacts/pure_eval_1721585709575/work\n",
      "py @ file:///opt/conda/conda-bld/py_1644396412707/work\n",
      "pyarrow @ file:///private/var/folders/k1/30mswbxs7r1g6zwn8y4fyt500000gp/T/abs_7dissav55a/croot/pyarrow_1707330837493/work/python\n",
      "pycosat @ file:///private/var/folders/nz/j6p8yfhx1mv_0grj5xl4650h0000gp/T/abs_19qelmdbl6/croot/pycosat_1714510743067/work\n",
      "pycparser @ file:///tmp/build/80754af9/pycparser_1636541352034/work\n",
      "pydantic @ file:///private/var/folders/k1/30mswbxs7r1g6zwn8y4fyt500000gp/T/abs_6a3ae3hfnm/croot/pydantic_1725040525203/work\n",
      "pydantic_core @ file:///private/var/folders/k1/30mswbxs7r1g6zwn8y4fyt500000gp/T/abs_636oiyd6i5/croot/pydantic-core_1724790368915/work\n",
      "pydeck==0.9.1\n",
      "Pygments @ file:///home/conda/feedstock_root/build_artifacts/pygments_1714846767233/work\n",
      "pyjanitor==0.28.1\n",
      "pylance @ file:///Users/runner/miniforge3/conda-bld/pylance_1723102541315/work/python/target/wheels/pylance-0.16.0-cp39-abi3-macosx_11_0_arm64.whl#sha256=158e7ef8a2f248da7b84daad7f4f26f7be84eb3487b94bafe462f96845accf2f\n",
      "pyobjc-core @ file:///Users/runner/miniforge3/conda-bld/pyobjc-core_1718171519245/work\n",
      "pyobjc-framework-Cocoa @ file:///Users/runner/miniforge3/conda-bld/pyobjc-framework-cocoa_1718645444197/work\n",
      "PySocks @ file:///Users/ktietz/ci_310/pysocks_1643961536721/work\n",
      "python-dateutil @ file:///home/conda/feedstock_root/build_artifacts/python-dateutil_1709299778482/work\n",
      "python-json-logger @ file:///home/conda/feedstock_root/build_artifacts/python-json-logger_1677079630776/work\n",
      "pytz==2024.1\n",
      "PyYAML @ file:///Users/runner/miniforge3/conda-bld/pyyaml_1723018225160/work\n",
      "pyzmq @ file:///Users/runner/miniforge3/conda-bld/pyzmq_1698062516368/work\n",
      "ratelimiter @ file:///home/conda/feedstock_root/build_artifacts/ratelimiter_1667813479108/work\n",
      "referencing @ file:///home/conda/feedstock_root/build_artifacts/referencing_1714619483868/work\n",
      "regex==2024.7.24\n",
      "requests @ file:///private/var/folders/nz/j6p8yfhx1mv_0grj5xl4650h0000gp/T/abs_b143dxenr7/croot/requests_1716902835977/work\n",
      "retry==0.9.2\n",
      "rfc3339-validator @ file:///home/conda/feedstock_root/build_artifacts/rfc3339-validator_1638811747357/work\n",
      "rfc3986-validator @ file:///home/conda/feedstock_root/build_artifacts/rfc3986-validator_1598024191506/work\n",
      "rich==13.8.0\n",
      "rpds-py @ file:///Users/runner/miniforge3/conda-bld/rpds-py_1723039168566/work\n",
      "ruamel.yaml @ file:///private/var/folders/nz/j6p8yfhx1mv_0grj5xl4650h0000gp/T/abs_aeh5mqcw49/croot/ruamel.yaml_1666304555976/work\n",
      "ruamel.yaml.clib @ file:///private/var/folders/nz/j6p8yfhx1mv_0grj5xl4650h0000gp/T/abs_f64xdg2rww/croot/ruamel.yaml.clib_1666302244208/work\n",
      "safetensors==0.4.4\n",
      "scikit-learn==1.5.1\n",
      "scipy==1.14.0\n",
      "Send2Trash @ file:///Users/runner/miniforge3/conda-bld/send2trash_1712585336584/work\n",
      "sentence-transformers==2.7.0\n",
      "sentencepiece==0.2.0\n",
      "six @ file:///home/conda/feedstock_root/build_artifacts/six_1620240208055/work\n",
      "smmap==5.0.1\n",
      "sniffio @ file:///home/conda/feedstock_root/build_artifacts/sniffio_1708952932303/work\n",
      "soupsieve @ file:///home/conda/feedstock_root/build_artifacts/soupsieve_1693929250441/work\n",
      "stack-data @ file:///home/conda/feedstock_root/build_artifacts/stack_data_1669632077133/work\n",
      "streamlit==1.38.0\n",
      "sympy==1.13.2\n",
      "tantivy==0.22.0\n",
      "tdqm==0.0.1\n",
      "tenacity==8.5.0\n",
      "terminado @ file:///Users/runner/miniforge3/conda-bld/terminado_1710263781917/work\n",
      "threadpoolctl==3.5.0\n",
      "tinycss2 @ file:///home/conda/feedstock_root/build_artifacts/tinycss2_1713974937325/work\n",
      "tokenizers==0.19.1\n",
      "toml==0.10.2\n",
      "tomli==2.0.1\n",
      "torch==2.4.0\n",
      "tornado @ file:///Users/runner/miniforge3/conda-bld/tornado_1717722719810/work\n",
      "tqdm @ file:///private/var/folders/k1/30mswbxs7r1g6zwn8y4fyt500000gp/T/abs_f76_dxtcsh/croot/tqdm_1716395948224/work\n",
      "traitlets @ file:///home/conda/feedstock_root/build_artifacts/traitlets_1713535121073/work\n",
      "transformers==4.44.0\n",
      "truststore @ file:///private/var/folders/k1/30mswbxs7r1g6zwn8y4fyt500000gp/T/abs_42mm7e6j06/croot/truststore_1695244298716/work\n",
      "types-python-dateutil @ file:///home/conda/feedstock_root/build_artifacts/types-python-dateutil_1710589910274/work\n",
      "typing-utils @ file:///home/conda/feedstock_root/build_artifacts/typing_utils_1622899189314/work\n",
      "typing_extensions @ file:///home/conda/feedstock_root/build_artifacts/typing_extensions_1717802530399/work\n",
      "tzdata==2024.1\n",
      "uri-template @ file:///home/conda/feedstock_root/build_artifacts/uri-template_1688655812972/work/dist\n",
      "urllib3 @ file:///private/var/folders/nz/j6p8yfhx1mv_0grj5xl4650h0000gp/T/abs_cao7_u9937/croot/urllib3_1718912649114/work\n",
      "virtualenv==20.26.3\n",
      "wcwidth @ file:///home/conda/feedstock_root/build_artifacts/wcwidth_1704731205417/work\n",
      "webcolors @ file:///home/conda/feedstock_root/build_artifacts/webcolors_1717667289718/work\n",
      "webencodings @ file:///home/conda/feedstock_root/build_artifacts/webencodings_1694681268211/work\n",
      "websocket-client @ file:///home/conda/feedstock_root/build_artifacts/websocket-client_1713923384721/work\n",
      "widgetsnbextension @ file:///home/conda/feedstock_root/build_artifacts/widgetsnbextension_1716891659446/work\n",
      "xarray==2024.7.0\n",
      "xxhash==3.5.0\n",
      "yarl==1.9.8\n",
      "zipp @ file:///home/conda/feedstock_root/build_artifacts/zipp_1718013267051/work\n",
      "zstandard @ file:///private/var/folders/k1/30mswbxs7r1g6zwn8y4fyt500000gp/T/abs_054juzz3it/croot/zstandard_1714677666952/work\n"
     ]
    }
   ],
   "source": [
    "!pip freeze list"
   ]
  },
  {
   "cell_type": "code",
   "execution_count": null,
   "metadata": {},
   "outputs": [],
   "source": []
  }
 ],
 "metadata": {
  "kernelspec": {
   "display_name": "base",
   "language": "python",
   "name": "python3"
  },
  "language_info": {
   "codemirror_mode": {
    "name": "ipython",
    "version": 3
   },
   "file_extension": ".py",
   "mimetype": "text/x-python",
   "name": "python",
   "nbconvert_exporter": "python",
   "pygments_lexer": "ipython3",
   "version": "3.10.13"
  }
 },
 "nbformat": 4,
 "nbformat_minor": 2
}
